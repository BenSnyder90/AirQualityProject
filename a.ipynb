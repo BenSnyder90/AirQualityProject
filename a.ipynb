{
 "cells": [
  {
   "cell_type": "code",
   "execution_count": 22,
   "metadata": {},
   "outputs": [],
   "source": [
    "# Import Dependencies\n",
    "import pandas as pd"
   ]
  },
  {
   "cell_type": "code",
   "execution_count": 23,
   "metadata": {},
   "outputs": [],
   "source": [
    "# File to Load\n",
    "pol_path = \"Resource/daily_aqi_by_cbsa_2019.csv\""
   ]
  },
  {
   "cell_type": "code",
   "execution_count": 24,
   "metadata": {},
   "outputs": [
    {
     "output_type": "execute_result",
     "data": {
      "text/plain": "           CBSA  CBSA Code        Date  AQI Category Defining Parameter  \\\n0  Aberdeen, SD      10100  2019-01-03    4     Good               PM10   \n1  Aberdeen, SD      10100  2019-01-06   31     Good              PM2.5   \n2  Aberdeen, SD      10100  2019-01-09    9     Good               PM10   \n3  Aberdeen, SD      10100  2019-01-12   43     Good              PM2.5   \n4  Aberdeen, SD      10100  2019-01-15   28     Good              PM2.5   \n\n  Defining Site  Number of Sites Reporting  \n0   46-013-0003                          1  \n1   46-013-0003                          1  \n2   46-013-0003                          1  \n3   46-013-0003                          1  \n4   46-013-0003                          1  ",
      "text/html": "<div>\n<style scoped>\n    .dataframe tbody tr th:only-of-type {\n        vertical-align: middle;\n    }\n\n    .dataframe tbody tr th {\n        vertical-align: top;\n    }\n\n    .dataframe thead th {\n        text-align: right;\n    }\n</style>\n<table border=\"1\" class=\"dataframe\">\n  <thead>\n    <tr style=\"text-align: right;\">\n      <th></th>\n      <th>CBSA</th>\n      <th>CBSA Code</th>\n      <th>Date</th>\n      <th>AQI</th>\n      <th>Category</th>\n      <th>Defining Parameter</th>\n      <th>Defining Site</th>\n      <th>Number of Sites Reporting</th>\n    </tr>\n  </thead>\n  <tbody>\n    <tr>\n      <th>0</th>\n      <td>Aberdeen, SD</td>\n      <td>10100</td>\n      <td>2019-01-03</td>\n      <td>4</td>\n      <td>Good</td>\n      <td>PM10</td>\n      <td>46-013-0003</td>\n      <td>1</td>\n    </tr>\n    <tr>\n      <th>1</th>\n      <td>Aberdeen, SD</td>\n      <td>10100</td>\n      <td>2019-01-06</td>\n      <td>31</td>\n      <td>Good</td>\n      <td>PM2.5</td>\n      <td>46-013-0003</td>\n      <td>1</td>\n    </tr>\n    <tr>\n      <th>2</th>\n      <td>Aberdeen, SD</td>\n      <td>10100</td>\n      <td>2019-01-09</td>\n      <td>9</td>\n      <td>Good</td>\n      <td>PM10</td>\n      <td>46-013-0003</td>\n      <td>1</td>\n    </tr>\n    <tr>\n      <th>3</th>\n      <td>Aberdeen, SD</td>\n      <td>10100</td>\n      <td>2019-01-12</td>\n      <td>43</td>\n      <td>Good</td>\n      <td>PM2.5</td>\n      <td>46-013-0003</td>\n      <td>1</td>\n    </tr>\n    <tr>\n      <th>4</th>\n      <td>Aberdeen, SD</td>\n      <td>10100</td>\n      <td>2019-01-15</td>\n      <td>28</td>\n      <td>Good</td>\n      <td>PM2.5</td>\n      <td>46-013-0003</td>\n      <td>1</td>\n    </tr>\n  </tbody>\n</table>\n</div>"
     },
     "metadata": {},
     "execution_count": 24
    }
   ],
   "source": [
    "# Read the modified GoodReads csv and store into Pandas DataFrame\n",
    "df = pd.read_csv(pol_path, encoding=\"utf-8\")\n",
    "df.head()"
   ]
  },
  {
   "cell_type": "code",
   "execution_count": 26,
   "metadata": {},
   "outputs": [
    {
     "output_type": "execute_result",
     "data": {
      "text/plain": "Index(['CBSA', 'CBSA Code', 'Date', 'AQI', 'Category', 'Defining Parameter',\n       'Defining Site', 'Number of Sites Reporting'],\n      dtype='object')"
     },
     "metadata": {},
     "execution_count": 26
    }
   ],
   "source": [
    "df.columns"
   ]
  },
  {
   "cell_type": "code",
   "execution_count": 28,
   "metadata": {},
   "outputs": [
    {
     "output_type": "error",
     "ename": "NameError",
     "evalue": "name 'data_file_pd' is not defined",
     "traceback": [
      "\u001b[1;31m---------------------------------------------------------------------------\u001b[0m",
      "\u001b[1;31mNameError\u001b[0m                                 Traceback (most recent call last)",
      "\u001b[1;32m<ipython-input-28-e590c5f5c341>\u001b[0m in \u001b[0;36m<module>\u001b[1;34m\u001b[0m\n\u001b[1;32m----> 1\u001b[1;33m \u001b[0mpd\u001b[0m\u001b[1;33m[\u001b[0m\u001b[1;34m'Date'\u001b[0m\u001b[1;33m]\u001b[0m \u001b[1;33m=\u001b[0m \u001b[0mpd\u001b[0m\u001b[1;33m.\u001b[0m\u001b[0mto_datetime\u001b[0m\u001b[1;33m(\u001b[0m\u001b[0mdata_file_pd\u001b[0m\u001b[1;33m.\u001b[0m\u001b[0mdate\u001b[0m\u001b[1;33m)\u001b[0m\u001b[1;33m\u001b[0m\u001b[1;33m\u001b[0m\u001b[0m\n\u001b[0m\u001b[0;32m      2\u001b[0m \u001b[0mpd\u001b[0m\u001b[1;33m.\u001b[0m\u001b[0mhead\u001b[0m\u001b[1;33m(\u001b[0m\u001b[1;33m)\u001b[0m\u001b[1;33m\u001b[0m\u001b[1;33m\u001b[0m\u001b[0m\n",
      "\u001b[1;31mNameError\u001b[0m: name 'data_file_pd' is not defined"
     ]
    }
   ],
   "source": [
    "data_file_pd['date'] = pd.to_datetime(data_file_pd.date)\n",
    "data_file_pd.head()"
   ]
  },
  {
   "cell_type": "code",
   "execution_count": null,
   "metadata": {},
   "outputs": [],
   "source": [
    "df = df.loc[(\n",
    "    df[\"pledged\"] > 0)]\n",
    "df.head()"
   ]
  },
  {
   "cell_type": "code",
   "execution_count": 19,
   "metadata": {},
   "outputs": [],
   "source": [
    "# Calculate the number of unique authors in the DataFrame\n",
    "parameter_count = len(airquality_df[\"Defining Parameter\"].unique())\n",
    "\n",
    "# Calculate the earliest/latest year a book was published\n",
    "min_AQI = airquality_df[\"AQI\"].min()\n",
    "max_AQI = airquality_df[\"AQI\"].max()\n",
    "\n",
    "# Calculate the total reviews for the entire dataset\n",
    "# Hint: use the pandas' sum() method to get the sum for each row\n",
    "airquality_df['AQI'] = airquality_df.iloc[:, 4:].sum(axis=1)\n",
    "total_AQI = sum(airquality_df['AQI'])\n",
    "\n",
    "# Place all of the data found into a summary DataFrame\n",
    "summary_table = pd.DataFrame({\"Total Count\": [parameter_count],\n",
    "                              \"Min AQI\": min_AQI,\n",
    "                              \"Max AQI\": max_AQI,\n",
    "                              \"Total AQI\": total_AQI})"
   ]
  },
  {
   "cell_type": "code",
   "execution_count": 20,
   "metadata": {},
   "outputs": [
    {
     "output_type": "execute_result",
     "data": {
      "text/plain": "   Total Count  Min AQI  Max AQI  Total AQI\n0            6        1       47     623923",
      "text/html": "<div>\n<style scoped>\n    .dataframe tbody tr th:only-of-type {\n        vertical-align: middle;\n    }\n\n    .dataframe tbody tr th {\n        vertical-align: top;\n    }\n\n    .dataframe thead th {\n        text-align: right;\n    }\n</style>\n<table border=\"1\" class=\"dataframe\">\n  <thead>\n    <tr style=\"text-align: right;\">\n      <th></th>\n      <th>Total Count</th>\n      <th>Min AQI</th>\n      <th>Max AQI</th>\n      <th>Total AQI</th>\n    </tr>\n  </thead>\n  <tbody>\n    <tr>\n      <th>0</th>\n      <td>6</td>\n      <td>1</td>\n      <td>47</td>\n      <td>623923</td>\n    </tr>\n  </tbody>\n</table>\n</div>"
     },
     "metadata": {},
     "execution_count": 20
    }
   ],
   "source": [
    "summary_table"
   ]
  },
  {
   "cell_type": "code",
   "execution_count": null,
   "metadata": {},
   "outputs": [],
   "source": []
  }
 ],
 "metadata": {
  "language_info": {
   "codemirror_mode": {
    "name": "ipython",
    "version": 3
   },
   "file_extension": ".py",
   "mimetype": "text/x-python",
   "name": "python",
   "nbconvert_exporter": "python",
   "pygments_lexer": "ipython3",
   "version": "3.7.6-final"
  },
  "orig_nbformat": 2,
  "kernelspec": {
   "name": "python37664bit39000a571b6f4675a52749651d3d3f02",
   "display_name": "Python 3.7.6 64-bit"
  }
 },
 "nbformat": 4,
 "nbformat_minor": 2
}
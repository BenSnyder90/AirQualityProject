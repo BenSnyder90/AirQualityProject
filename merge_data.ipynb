{
 "cells": [
  {
   "cell_type": "code",
   "execution_count": 41,
   "metadata": {},
   "outputs": [],
   "source": [
    "import json\n",
    "import pandas as pd\n",
    "import requests\n",
    "from pprint import pprint\n",
    "from pandas.io.json import json_normalize  "
   ]
  },
  {
   "cell_type": "code",
   "execution_count": 38,
   "metadata": {},
   "outputs": [
    {
     "output_type": "execute_result",
     "data": {
      "text/plain": "           CBSA  CBSA Code        Date  AQI Category Defining Parameter  \\\n0  Aberdeen, SD      10100  2019-01-03    4     Good               PM10   \n1  Aberdeen, SD      10100  2019-01-06   31     Good              PM2.5   \n2  Aberdeen, SD      10100  2019-01-09    9     Good               PM10   \n3  Aberdeen, SD      10100  2019-01-12   43     Good              PM2.5   \n4  Aberdeen, SD      10100  2019-01-15   28     Good              PM2.5   \n\n  Defining Site  Number of Sites Reporting  \n0   46-013-0003                          1  \n1   46-013-0003                          1  \n2   46-013-0003                          1  \n3   46-013-0003                          1  \n4   46-013-0003                          1  ",
      "text/html": "<div>\n<style scoped>\n    .dataframe tbody tr th:only-of-type {\n        vertical-align: middle;\n    }\n\n    .dataframe tbody tr th {\n        vertical-align: top;\n    }\n\n    .dataframe thead th {\n        text-align: right;\n    }\n</style>\n<table border=\"1\" class=\"dataframe\">\n  <thead>\n    <tr style=\"text-align: right;\">\n      <th></th>\n      <th>CBSA</th>\n      <th>CBSA Code</th>\n      <th>Date</th>\n      <th>AQI</th>\n      <th>Category</th>\n      <th>Defining Parameter</th>\n      <th>Defining Site</th>\n      <th>Number of Sites Reporting</th>\n    </tr>\n  </thead>\n  <tbody>\n    <tr>\n      <th>0</th>\n      <td>Aberdeen, SD</td>\n      <td>10100</td>\n      <td>2019-01-03</td>\n      <td>4</td>\n      <td>Good</td>\n      <td>PM10</td>\n      <td>46-013-0003</td>\n      <td>1</td>\n    </tr>\n    <tr>\n      <th>1</th>\n      <td>Aberdeen, SD</td>\n      <td>10100</td>\n      <td>2019-01-06</td>\n      <td>31</td>\n      <td>Good</td>\n      <td>PM2.5</td>\n      <td>46-013-0003</td>\n      <td>1</td>\n    </tr>\n    <tr>\n      <th>2</th>\n      <td>Aberdeen, SD</td>\n      <td>10100</td>\n      <td>2019-01-09</td>\n      <td>9</td>\n      <td>Good</td>\n      <td>PM10</td>\n      <td>46-013-0003</td>\n      <td>1</td>\n    </tr>\n    <tr>\n      <th>3</th>\n      <td>Aberdeen, SD</td>\n      <td>10100</td>\n      <td>2019-01-12</td>\n      <td>43</td>\n      <td>Good</td>\n      <td>PM2.5</td>\n      <td>46-013-0003</td>\n      <td>1</td>\n    </tr>\n    <tr>\n      <th>4</th>\n      <td>Aberdeen, SD</td>\n      <td>10100</td>\n      <td>2019-01-15</td>\n      <td>28</td>\n      <td>Good</td>\n      <td>PM2.5</td>\n      <td>46-013-0003</td>\n      <td>1</td>\n    </tr>\n  </tbody>\n</table>\n</div>"
     },
     "metadata": {},
     "execution_count": 38
    }
   ],
   "source": [
    "#Import CSV\n",
    "aqi_df = pd.read_csv(\"assets/sample_data/daily_aqi_by_cbsa_2019.csv\")\n",
    "\n",
    "aqi_df.head()"
   ]
  },
  {
   "cell_type": "code",
   "execution_count": 39,
   "metadata": {},
   "outputs": [
    {
     "output_type": "execute_result",
     "data": {
      "text/plain": "           CBSA  CBSA Code        Date  AQI Category Defining Parameter  \\\n0  Aberdeen, SD      10100  2019-01-03    4     Good               PM10   \n1  Aberdeen, SD      10100  2019-01-06   31     Good              PM2.5   \n2  Aberdeen, SD      10100  2019-01-09    9     Good               PM10   \n3  Aberdeen, SD      10100  2019-01-12   43     Good              PM2.5   \n4  Aberdeen, SD      10100  2019-01-15   28     Good              PM2.5   \n\n  Defining Site  Number of Sites Reporting      City State  \n0   46-013-0003                          1  Aberdeen    SD  \n1   46-013-0003                          1  Aberdeen    SD  \n2   46-013-0003                          1  Aberdeen    SD  \n3   46-013-0003                          1  Aberdeen    SD  \n4   46-013-0003                          1  Aberdeen    SD  ",
      "text/html": "<div>\n<style scoped>\n    .dataframe tbody tr th:only-of-type {\n        vertical-align: middle;\n    }\n\n    .dataframe tbody tr th {\n        vertical-align: top;\n    }\n\n    .dataframe thead th {\n        text-align: right;\n    }\n</style>\n<table border=\"1\" class=\"dataframe\">\n  <thead>\n    <tr style=\"text-align: right;\">\n      <th></th>\n      <th>CBSA</th>\n      <th>CBSA Code</th>\n      <th>Date</th>\n      <th>AQI</th>\n      <th>Category</th>\n      <th>Defining Parameter</th>\n      <th>Defining Site</th>\n      <th>Number of Sites Reporting</th>\n      <th>City</th>\n      <th>State</th>\n    </tr>\n  </thead>\n  <tbody>\n    <tr>\n      <th>0</th>\n      <td>Aberdeen, SD</td>\n      <td>10100</td>\n      <td>2019-01-03</td>\n      <td>4</td>\n      <td>Good</td>\n      <td>PM10</td>\n      <td>46-013-0003</td>\n      <td>1</td>\n      <td>Aberdeen</td>\n      <td>SD</td>\n    </tr>\n    <tr>\n      <th>1</th>\n      <td>Aberdeen, SD</td>\n      <td>10100</td>\n      <td>2019-01-06</td>\n      <td>31</td>\n      <td>Good</td>\n      <td>PM2.5</td>\n      <td>46-013-0003</td>\n      <td>1</td>\n      <td>Aberdeen</td>\n      <td>SD</td>\n    </tr>\n    <tr>\n      <th>2</th>\n      <td>Aberdeen, SD</td>\n      <td>10100</td>\n      <td>2019-01-09</td>\n      <td>9</td>\n      <td>Good</td>\n      <td>PM10</td>\n      <td>46-013-0003</td>\n      <td>1</td>\n      <td>Aberdeen</td>\n      <td>SD</td>\n    </tr>\n    <tr>\n      <th>3</th>\n      <td>Aberdeen, SD</td>\n      <td>10100</td>\n      <td>2019-01-12</td>\n      <td>43</td>\n      <td>Good</td>\n      <td>PM2.5</td>\n      <td>46-013-0003</td>\n      <td>1</td>\n      <td>Aberdeen</td>\n      <td>SD</td>\n    </tr>\n    <tr>\n      <th>4</th>\n      <td>Aberdeen, SD</td>\n      <td>10100</td>\n      <td>2019-01-15</td>\n      <td>28</td>\n      <td>Good</td>\n      <td>PM2.5</td>\n      <td>46-013-0003</td>\n      <td>1</td>\n      <td>Aberdeen</td>\n      <td>SD</td>\n    </tr>\n  </tbody>\n</table>\n</div>"
     },
     "metadata": {},
     "execution_count": 39
    }
   ],
   "source": [
    "#Split CBSA into City and State\n",
    "aqi_df[['City','State']] = aqi_df.CBSA.str.split(\",\",expand=True)\n",
    "\n",
    "aqi_df.head()"
   ]
  },
  {
   "cell_type": "code",
   "execution_count": null,
   "metadata": {},
   "outputs": [],
   "source": [
    "# URL for JSON with cities and geo data\n",
    "url = \"https://aqicn.org/data-platform/covid19/airquality-covid19-cities.json\""
   ]
  },
  {
   "cell_type": "code",
   "execution_count": 24,
   "metadata": {},
   "outputs": [
    {
     "output_type": "execute_result",
     "data": {
      "text/plain": "    csvsize                                               data  \\\n0  46726470  {'Place': {'geo': [38.53575, 68.77905], 'featu...   \n1  46726470  {'Place': {'geo': [24.45118, 54.39696], 'featu...   \n2  46726470  {'Place': {'geo': [25.07725, 55.30927], 'featu...   \n3  46726470  {'Place': {'geo': [60.29414, 25.04099], 'featu...   \n4  46726470  {'Place': {'geo': [60.45148, 22.26869], 'featu...   \n\n                   generated  \n0  2020-05-28T20:54:02+01:00  \n1  2020-05-28T20:54:02+01:00  \n2  2020-05-28T20:54:02+01:00  \n3  2020-05-28T20:54:02+01:00  \n4  2020-05-28T20:54:02+01:00  ",
      "text/html": "<div>\n<style scoped>\n    .dataframe tbody tr th:only-of-type {\n        vertical-align: middle;\n    }\n\n    .dataframe tbody tr th {\n        vertical-align: top;\n    }\n\n    .dataframe thead th {\n        text-align: right;\n    }\n</style>\n<table border=\"1\" class=\"dataframe\">\n  <thead>\n    <tr style=\"text-align: right;\">\n      <th></th>\n      <th>csvsize</th>\n      <th>data</th>\n      <th>generated</th>\n    </tr>\n  </thead>\n  <tbody>\n    <tr>\n      <th>0</th>\n      <td>46726470</td>\n      <td>{'Place': {'geo': [38.53575, 68.77905], 'featu...</td>\n      <td>2020-05-28T20:54:02+01:00</td>\n    </tr>\n    <tr>\n      <th>1</th>\n      <td>46726470</td>\n      <td>{'Place': {'geo': [24.45118, 54.39696], 'featu...</td>\n      <td>2020-05-28T20:54:02+01:00</td>\n    </tr>\n    <tr>\n      <th>2</th>\n      <td>46726470</td>\n      <td>{'Place': {'geo': [25.07725, 55.30927], 'featu...</td>\n      <td>2020-05-28T20:54:02+01:00</td>\n    </tr>\n    <tr>\n      <th>3</th>\n      <td>46726470</td>\n      <td>{'Place': {'geo': [60.29414, 25.04099], 'featu...</td>\n      <td>2020-05-28T20:54:02+01:00</td>\n    </tr>\n    <tr>\n      <th>4</th>\n      <td>46726470</td>\n      <td>{'Place': {'geo': [60.45148, 22.26869], 'featu...</td>\n      <td>2020-05-28T20:54:02+01:00</td>\n    </tr>\n  </tbody>\n</table>\n</div>"
     },
     "metadata": {},
     "execution_count": 24
    }
   ],
   "source": [
    "#Read JSON into a dataframe\n",
    "df = pd.read_json(url)\n",
    "\n",
    "df.head()"
   ]
  },
  {
   "cell_type": "code",
   "execution_count": 49,
   "metadata": {
    "tags": [
     "outputPrepend",
     "outputPrepend",
     "outputPrepend",
     "outputPrepend",
     "outputPrepend",
     "outputPrepend",
     "outputPrepend",
     "outputPrepend",
     "outputPrepend",
     "outputPrepend",
     "outputPrepend",
     "outputPrepend",
     "outputPrepend"
    ]
   },
   "outputs": [
    {
     "output_type": "execute_result",
     "data": {
      "text/plain": "                                             Sources  \\\n0  [{'name': 'World Meteorological Organization -...   \n1  [{'name': 'Citizen Weather Observer Program (C...   \n2  [{'name': 'Citizen Weather Observer Program (C...   \n3  [{'name': 'Citizen Weather Observer Program (C...   \n4  [{'name': 'Citizen Weather Observer Program (C...   \n\n                                            Stations             Place.geo  \\\n0      [{'Name': 'Dushanbe US Embassy, Tajikistan'}]  [38.53575, 68.77905]   \n1  [{'Name': 'Al Mafraq, UAE'}, {'Name': 'Hamdan ...  [24.45118, 54.39696]   \n2  [{'Name': 'Dubai Mushrif Park, UAE'}, {'Name':...  [25.07725, 55.30927]   \n3  [{'Name': 'Tikkurila 3, Vantaa, Finland'}, {'N...  [60.29414, 25.04099]   \n4  [{'Name': 'Oriketo, Turku, Finland'}, {'Name':...  [60.45148, 22.26869]   \n\n  Place.feature Place.name Place.country  Place.pop  \n0          PPLC   Dushanbe            TJ     679400  \n1          PPLC  Abu Dhabi            AE     603492  \n2          PPLA      Dubai            AE    2956587  \n3         PPLA3     Vantaa            FI     190058  \n4          PPLA      Turku            FI     175945  ",
      "text/html": "<div>\n<style scoped>\n    .dataframe tbody tr th:only-of-type {\n        vertical-align: middle;\n    }\n\n    .dataframe tbody tr th {\n        vertical-align: top;\n    }\n\n    .dataframe thead th {\n        text-align: right;\n    }\n</style>\n<table border=\"1\" class=\"dataframe\">\n  <thead>\n    <tr style=\"text-align: right;\">\n      <th></th>\n      <th>Sources</th>\n      <th>Stations</th>\n      <th>Place.geo</th>\n      <th>Place.feature</th>\n      <th>Place.name</th>\n      <th>Place.country</th>\n      <th>Place.pop</th>\n    </tr>\n  </thead>\n  <tbody>\n    <tr>\n      <th>0</th>\n      <td>[{'name': 'World Meteorological Organization -...</td>\n      <td>[{'Name': 'Dushanbe US Embassy, Tajikistan'}]</td>\n      <td>[38.53575, 68.77905]</td>\n      <td>PPLC</td>\n      <td>Dushanbe</td>\n      <td>TJ</td>\n      <td>679400</td>\n    </tr>\n    <tr>\n      <th>1</th>\n      <td>[{'name': 'Citizen Weather Observer Program (C...</td>\n      <td>[{'Name': 'Al Mafraq, UAE'}, {'Name': 'Hamdan ...</td>\n      <td>[24.45118, 54.39696]</td>\n      <td>PPLC</td>\n      <td>Abu Dhabi</td>\n      <td>AE</td>\n      <td>603492</td>\n    </tr>\n    <tr>\n      <th>2</th>\n      <td>[{'name': 'Citizen Weather Observer Program (C...</td>\n      <td>[{'Name': 'Dubai Mushrif Park, UAE'}, {'Name':...</td>\n      <td>[25.07725, 55.30927]</td>\n      <td>PPLA</td>\n      <td>Dubai</td>\n      <td>AE</td>\n      <td>2956587</td>\n    </tr>\n    <tr>\n      <th>3</th>\n      <td>[{'name': 'Citizen Weather Observer Program (C...</td>\n      <td>[{'Name': 'Tikkurila 3, Vantaa, Finland'}, {'N...</td>\n      <td>[60.29414, 25.04099]</td>\n      <td>PPLA3</td>\n      <td>Vantaa</td>\n      <td>FI</td>\n      <td>190058</td>\n    </tr>\n    <tr>\n      <th>4</th>\n      <td>[{'name': 'Citizen Weather Observer Program (C...</td>\n      <td>[{'Name': 'Oriketo, Turku, Finland'}, {'Name':...</td>\n      <td>[60.45148, 22.26869]</td>\n      <td>PPLA</td>\n      <td>Turku</td>\n      <td>FI</td>\n      <td>175945</td>\n    </tr>\n  </tbody>\n</table>\n</div>"
     },
     "metadata": {},
     "execution_count": 49
    }
   ],
   "source": [
    "# Uses requests.get() to load JSON into text\n",
    "response = json.loads(requests.get(url).text)\n",
    "\n",
    "#Flattens the nested JSON of the 'data' column into its own DataFrame to get the Places geo data\n",
    "geo_df = pd.io.json.json_normalize(response['data'])\n",
    "#pprint(response)\n",
    "geo_df.head()"
   ]
  },
  {
   "cell_type": "code",
   "execution_count": 50,
   "metadata": {},
   "outputs": [],
   "source": [
    "#Puts the geo data and name into a dataframe\n",
    "places_df = geo_df[['Place.geo','Place.name']]"
   ]
  },
  {
   "cell_type": "code",
   "execution_count": 51,
   "metadata": {},
   "outputs": [
    {
     "output_type": "execute_result",
     "data": {
      "text/plain": "              Place.geo Place.name\n0  [38.53575, 68.77905]   Dushanbe\n1  [24.45118, 54.39696]  Abu Dhabi\n2  [25.07725, 55.30927]      Dubai\n3  [60.29414, 25.04099]     Vantaa\n4  [60.45148, 22.26869]      Turku",
      "text/html": "<div>\n<style scoped>\n    .dataframe tbody tr th:only-of-type {\n        vertical-align: middle;\n    }\n\n    .dataframe tbody tr th {\n        vertical-align: top;\n    }\n\n    .dataframe thead th {\n        text-align: right;\n    }\n</style>\n<table border=\"1\" class=\"dataframe\">\n  <thead>\n    <tr style=\"text-align: right;\">\n      <th></th>\n      <th>Place.geo</th>\n      <th>Place.name</th>\n    </tr>\n  </thead>\n  <tbody>\n    <tr>\n      <th>0</th>\n      <td>[38.53575, 68.77905]</td>\n      <td>Dushanbe</td>\n    </tr>\n    <tr>\n      <th>1</th>\n      <td>[24.45118, 54.39696]</td>\n      <td>Abu Dhabi</td>\n    </tr>\n    <tr>\n      <th>2</th>\n      <td>[25.07725, 55.30927]</td>\n      <td>Dubai</td>\n    </tr>\n    <tr>\n      <th>3</th>\n      <td>[60.29414, 25.04099]</td>\n      <td>Vantaa</td>\n    </tr>\n    <tr>\n      <th>4</th>\n      <td>[60.45148, 22.26869]</td>\n      <td>Turku</td>\n    </tr>\n  </tbody>\n</table>\n</div>"
     },
     "metadata": {},
     "execution_count": 51
    }
   ],
   "source": [
    "places_df.head()"
   ]
  },
  {
   "cell_type": "code",
   "execution_count": 56,
   "metadata": {},
   "outputs": [
    {
     "output_type": "execute_result",
     "data": {
      "text/plain": "                    Geo       City\n0  [38.53575, 68.77905]   Dushanbe\n1  [24.45118, 54.39696]  Abu Dhabi\n2  [25.07725, 55.30927]      Dubai\n3  [60.29414, 25.04099]     Vantaa\n4  [60.45148, 22.26869]      Turku",
      "text/html": "<div>\n<style scoped>\n    .dataframe tbody tr th:only-of-type {\n        vertical-align: middle;\n    }\n\n    .dataframe tbody tr th {\n        vertical-align: top;\n    }\n\n    .dataframe thead th {\n        text-align: right;\n    }\n</style>\n<table border=\"1\" class=\"dataframe\">\n  <thead>\n    <tr style=\"text-align: right;\">\n      <th></th>\n      <th>Geo</th>\n      <th>City</th>\n    </tr>\n  </thead>\n  <tbody>\n    <tr>\n      <th>0</th>\n      <td>[38.53575, 68.77905]</td>\n      <td>Dushanbe</td>\n    </tr>\n    <tr>\n      <th>1</th>\n      <td>[24.45118, 54.39696]</td>\n      <td>Abu Dhabi</td>\n    </tr>\n    <tr>\n      <th>2</th>\n      <td>[25.07725, 55.30927]</td>\n      <td>Dubai</td>\n    </tr>\n    <tr>\n      <th>3</th>\n      <td>[60.29414, 25.04099]</td>\n      <td>Vantaa</td>\n    </tr>\n    <tr>\n      <th>4</th>\n      <td>[60.45148, 22.26869]</td>\n      <td>Turku</td>\n    </tr>\n  </tbody>\n</table>\n</div>"
     },
     "metadata": {},
     "execution_count": 56
    }
   ],
   "source": [
    "#Rename columns for merging purposes\n",
    "places_df = places_df.rename(columns = {'Place.geo':'Geo','Place.name':'City'})\n",
    "places_df.head()"
   ]
  },
  {
   "cell_type": "code",
   "execution_count": 57,
   "metadata": {},
   "outputs": [
    {
     "output_type": "execute_result",
     "data": {
      "text/plain": "              CBSA  CBSA Code        Date  AQI  Category Defining Parameter  \\\n0  Albuquerque, NM      10740  2019-01-01   42      Good               PM10   \n1  Albuquerque, NM      10740  2019-01-02   40      Good              PM2.5   \n2  Albuquerque, NM      10740  2019-01-03   55  Moderate              PM2.5   \n3  Albuquerque, NM      10740  2019-01-04   57  Moderate              PM2.5   \n4  Albuquerque, NM      10740  2019-01-05   66  Moderate              PM2.5   \n\n  Defining Site  Number of Sites Reporting         City State  \\\n0   35-001-0029                          8  Albuquerque    NM   \n1   35-001-1012                          8  Albuquerque    NM   \n2   35-001-0029                          8  Albuquerque    NM   \n3   35-001-0029                          8  Albuquerque    NM   \n4   35-001-0029                          8  Albuquerque    NM   \n\n                      Geo  \n0  [35.08449, -106.65114]  \n1  [35.08449, -106.65114]  \n2  [35.08449, -106.65114]  \n3  [35.08449, -106.65114]  \n4  [35.08449, -106.65114]  ",
      "text/html": "<div>\n<style scoped>\n    .dataframe tbody tr th:only-of-type {\n        vertical-align: middle;\n    }\n\n    .dataframe tbody tr th {\n        vertical-align: top;\n    }\n\n    .dataframe thead th {\n        text-align: right;\n    }\n</style>\n<table border=\"1\" class=\"dataframe\">\n  <thead>\n    <tr style=\"text-align: right;\">\n      <th></th>\n      <th>CBSA</th>\n      <th>CBSA Code</th>\n      <th>Date</th>\n      <th>AQI</th>\n      <th>Category</th>\n      <th>Defining Parameter</th>\n      <th>Defining Site</th>\n      <th>Number of Sites Reporting</th>\n      <th>City</th>\n      <th>State</th>\n      <th>Geo</th>\n    </tr>\n  </thead>\n  <tbody>\n    <tr>\n      <th>0</th>\n      <td>Albuquerque, NM</td>\n      <td>10740</td>\n      <td>2019-01-01</td>\n      <td>42</td>\n      <td>Good</td>\n      <td>PM10</td>\n      <td>35-001-0029</td>\n      <td>8</td>\n      <td>Albuquerque</td>\n      <td>NM</td>\n      <td>[35.08449, -106.65114]</td>\n    </tr>\n    <tr>\n      <th>1</th>\n      <td>Albuquerque, NM</td>\n      <td>10740</td>\n      <td>2019-01-02</td>\n      <td>40</td>\n      <td>Good</td>\n      <td>PM2.5</td>\n      <td>35-001-1012</td>\n      <td>8</td>\n      <td>Albuquerque</td>\n      <td>NM</td>\n      <td>[35.08449, -106.65114]</td>\n    </tr>\n    <tr>\n      <th>2</th>\n      <td>Albuquerque, NM</td>\n      <td>10740</td>\n      <td>2019-01-03</td>\n      <td>55</td>\n      <td>Moderate</td>\n      <td>PM2.5</td>\n      <td>35-001-0029</td>\n      <td>8</td>\n      <td>Albuquerque</td>\n      <td>NM</td>\n      <td>[35.08449, -106.65114]</td>\n    </tr>\n    <tr>\n      <th>3</th>\n      <td>Albuquerque, NM</td>\n      <td>10740</td>\n      <td>2019-01-04</td>\n      <td>57</td>\n      <td>Moderate</td>\n      <td>PM2.5</td>\n      <td>35-001-0029</td>\n      <td>8</td>\n      <td>Albuquerque</td>\n      <td>NM</td>\n      <td>[35.08449, -106.65114]</td>\n    </tr>\n    <tr>\n      <th>4</th>\n      <td>Albuquerque, NM</td>\n      <td>10740</td>\n      <td>2019-01-05</td>\n      <td>66</td>\n      <td>Moderate</td>\n      <td>PM2.5</td>\n      <td>35-001-0029</td>\n      <td>8</td>\n      <td>Albuquerque</td>\n      <td>NM</td>\n      <td>[35.08449, -106.65114]</td>\n    </tr>\n  </tbody>\n</table>\n</div>"
     },
     "metadata": {},
     "execution_count": 57
    }
   ],
   "source": [
    "#Inner merge\n",
    "new_df = aqi_df.merge(places_df,on=\"City\",how=\"inner\")\n",
    "\n",
    "new_df.head()"
   ]
  },
  {
   "cell_type": "code",
   "execution_count": 69,
   "metadata": {},
   "outputs": [
    {
     "output_type": "execute_result",
     "data": {
      "text/plain": "                CBSA  CBSA Code        Date   AQI Category Defining Parameter  \\\n0       Aberdeen, SD    10100.0  2019-01-03   4.0     Good               PM10   \n1       Aberdeen, SD    10100.0  2019-01-06  31.0     Good              PM2.5   \n2       Aberdeen, SD    10100.0  2019-01-09   9.0     Good               PM10   \n3       Aberdeen, SD    10100.0  2019-01-12  43.0     Good              PM2.5   \n4       Aberdeen, SD    10100.0  2019-01-15  28.0     Good              PM2.5   \n...              ...        ...         ...   ...      ...                ...   \n177570           NaN        NaN         NaN   NaN      NaN                NaN   \n177571           NaN        NaN         NaN   NaN      NaN                NaN   \n177572           NaN        NaN         NaN   NaN      NaN                NaN   \n177573           NaN        NaN         NaN   NaN      NaN                NaN   \n177574           NaN        NaN         NaN   NaN      NaN                NaN   \n\n       Defining Site  Number of Sites Reporting        City State  \\\n0        46-013-0003                        1.0    Aberdeen    SD   \n1        46-013-0003                        1.0    Aberdeen    SD   \n2        46-013-0003                        1.0    Aberdeen    SD   \n3        46-013-0003                        1.0    Aberdeen    SD   \n4        46-013-0003                        1.0    Aberdeen    SD   \n...              ...                        ...         ...   ...   \n177570           NaN                        NaN       Kabul   NaN   \n177571           NaN                        NaN      Kaunas   NaN   \n177572           NaN                        NaN   Kathmandu   NaN   \n177573           NaN                        NaN     Pokhara   NaN   \n177574           NaN                        NaN  Biratnagar   NaN   \n\n                         Geo  \n0                        NaN  \n1                        NaN  \n2                        NaN  \n3                        NaN  \n4                        NaN  \n...                      ...  \n177570  [34.52813, 69.17233]  \n177571  [54.90272, 23.90961]  \n177572   [27.70169, 85.3206]  \n177573  [28.26689, 83.96851]  \n177574  [26.45505, 87.27007]  \n\n[177575 rows x 11 columns]",
      "text/html": "<div>\n<style scoped>\n    .dataframe tbody tr th:only-of-type {\n        vertical-align: middle;\n    }\n\n    .dataframe tbody tr th {\n        vertical-align: top;\n    }\n\n    .dataframe thead th {\n        text-align: right;\n    }\n</style>\n<table border=\"1\" class=\"dataframe\">\n  <thead>\n    <tr style=\"text-align: right;\">\n      <th></th>\n      <th>CBSA</th>\n      <th>CBSA Code</th>\n      <th>Date</th>\n      <th>AQI</th>\n      <th>Category</th>\n      <th>Defining Parameter</th>\n      <th>Defining Site</th>\n      <th>Number of Sites Reporting</th>\n      <th>City</th>\n      <th>State</th>\n      <th>Geo</th>\n    </tr>\n  </thead>\n  <tbody>\n    <tr>\n      <th>0</th>\n      <td>Aberdeen, SD</td>\n      <td>10100.0</td>\n      <td>2019-01-03</td>\n      <td>4.0</td>\n      <td>Good</td>\n      <td>PM10</td>\n      <td>46-013-0003</td>\n      <td>1.0</td>\n      <td>Aberdeen</td>\n      <td>SD</td>\n      <td>NaN</td>\n    </tr>\n    <tr>\n      <th>1</th>\n      <td>Aberdeen, SD</td>\n      <td>10100.0</td>\n      <td>2019-01-06</td>\n      <td>31.0</td>\n      <td>Good</td>\n      <td>PM2.5</td>\n      <td>46-013-0003</td>\n      <td>1.0</td>\n      <td>Aberdeen</td>\n      <td>SD</td>\n      <td>NaN</td>\n    </tr>\n    <tr>\n      <th>2</th>\n      <td>Aberdeen, SD</td>\n      <td>10100.0</td>\n      <td>2019-01-09</td>\n      <td>9.0</td>\n      <td>Good</td>\n      <td>PM10</td>\n      <td>46-013-0003</td>\n      <td>1.0</td>\n      <td>Aberdeen</td>\n      <td>SD</td>\n      <td>NaN</td>\n    </tr>\n    <tr>\n      <th>3</th>\n      <td>Aberdeen, SD</td>\n      <td>10100.0</td>\n      <td>2019-01-12</td>\n      <td>43.0</td>\n      <td>Good</td>\n      <td>PM2.5</td>\n      <td>46-013-0003</td>\n      <td>1.0</td>\n      <td>Aberdeen</td>\n      <td>SD</td>\n      <td>NaN</td>\n    </tr>\n    <tr>\n      <th>4</th>\n      <td>Aberdeen, SD</td>\n      <td>10100.0</td>\n      <td>2019-01-15</td>\n      <td>28.0</td>\n      <td>Good</td>\n      <td>PM2.5</td>\n      <td>46-013-0003</td>\n      <td>1.0</td>\n      <td>Aberdeen</td>\n      <td>SD</td>\n      <td>NaN</td>\n    </tr>\n    <tr>\n      <th>...</th>\n      <td>...</td>\n      <td>...</td>\n      <td>...</td>\n      <td>...</td>\n      <td>...</td>\n      <td>...</td>\n      <td>...</td>\n      <td>...</td>\n      <td>...</td>\n      <td>...</td>\n      <td>...</td>\n    </tr>\n    <tr>\n      <th>177570</th>\n      <td>NaN</td>\n      <td>NaN</td>\n      <td>NaN</td>\n      <td>NaN</td>\n      <td>NaN</td>\n      <td>NaN</td>\n      <td>NaN</td>\n      <td>NaN</td>\n      <td>Kabul</td>\n      <td>NaN</td>\n      <td>[34.52813, 69.17233]</td>\n    </tr>\n    <tr>\n      <th>177571</th>\n      <td>NaN</td>\n      <td>NaN</td>\n      <td>NaN</td>\n      <td>NaN</td>\n      <td>NaN</td>\n      <td>NaN</td>\n      <td>NaN</td>\n      <td>NaN</td>\n      <td>Kaunas</td>\n      <td>NaN</td>\n      <td>[54.90272, 23.90961]</td>\n    </tr>\n    <tr>\n      <th>177572</th>\n      <td>NaN</td>\n      <td>NaN</td>\n      <td>NaN</td>\n      <td>NaN</td>\n      <td>NaN</td>\n      <td>NaN</td>\n      <td>NaN</td>\n      <td>NaN</td>\n      <td>Kathmandu</td>\n      <td>NaN</td>\n      <td>[27.70169, 85.3206]</td>\n    </tr>\n    <tr>\n      <th>177573</th>\n      <td>NaN</td>\n      <td>NaN</td>\n      <td>NaN</td>\n      <td>NaN</td>\n      <td>NaN</td>\n      <td>NaN</td>\n      <td>NaN</td>\n      <td>NaN</td>\n      <td>Pokhara</td>\n      <td>NaN</td>\n      <td>[28.26689, 83.96851]</td>\n    </tr>\n    <tr>\n      <th>177574</th>\n      <td>NaN</td>\n      <td>NaN</td>\n      <td>NaN</td>\n      <td>NaN</td>\n      <td>NaN</td>\n      <td>NaN</td>\n      <td>NaN</td>\n      <td>NaN</td>\n      <td>Biratnagar</td>\n      <td>NaN</td>\n      <td>[26.45505, 87.27007]</td>\n    </tr>\n  </tbody>\n</table>\n<p>177575 rows × 11 columns</p>\n</div>"
     },
     "metadata": {},
     "execution_count": 69
    }
   ],
   "source": [
    "#Outer merge\n",
    "new_df2 = aqi_df.merge(places_df,on=\"City\",how=\"outer\")\n",
    "\n",
    "new_df2"
   ]
  },
  {
   "cell_type": "code",
   "execution_count": 66,
   "metadata": {},
   "outputs": [],
   "source": [
    "#Store data to CSV for verification\n",
    "new_df.to_csv(\"sample_data.csv\")"
   ]
  },
  {
   "cell_type": "code",
   "execution_count": 64,
   "metadata": {},
   "outputs": [
    {
     "output_type": "execute_result",
     "data": {
      "text/plain": "            Lat        Lng\n0      35.08449 -106.65114\n1      35.08449 -106.65114\n2      35.08449 -106.65114\n3      35.08449 -106.65114\n4      35.08449 -106.65114\n...         ...        ...\n13364 -33.64651   19.44852\n13365 -33.64651   19.44852\n13366 -33.64651   19.44852\n13367 -33.64651   19.44852\n13368 -33.64651   19.44852\n\n[13369 rows x 2 columns]",
      "text/html": "<div>\n<style scoped>\n    .dataframe tbody tr th:only-of-type {\n        vertical-align: middle;\n    }\n\n    .dataframe tbody tr th {\n        vertical-align: top;\n    }\n\n    .dataframe thead th {\n        text-align: right;\n    }\n</style>\n<table border=\"1\" class=\"dataframe\">\n  <thead>\n    <tr style=\"text-align: right;\">\n      <th></th>\n      <th>Lat</th>\n      <th>Lng</th>\n    </tr>\n  </thead>\n  <tbody>\n    <tr>\n      <th>0</th>\n      <td>35.08449</td>\n      <td>-106.65114</td>\n    </tr>\n    <tr>\n      <th>1</th>\n      <td>35.08449</td>\n      <td>-106.65114</td>\n    </tr>\n    <tr>\n      <th>2</th>\n      <td>35.08449</td>\n      <td>-106.65114</td>\n    </tr>\n    <tr>\n      <th>3</th>\n      <td>35.08449</td>\n      <td>-106.65114</td>\n    </tr>\n    <tr>\n      <th>4</th>\n      <td>35.08449</td>\n      <td>-106.65114</td>\n    </tr>\n    <tr>\n      <th>...</th>\n      <td>...</td>\n      <td>...</td>\n    </tr>\n    <tr>\n      <th>13364</th>\n      <td>-33.64651</td>\n      <td>19.44852</td>\n    </tr>\n    <tr>\n      <th>13365</th>\n      <td>-33.64651</td>\n      <td>19.44852</td>\n    </tr>\n    <tr>\n      <th>13366</th>\n      <td>-33.64651</td>\n      <td>19.44852</td>\n    </tr>\n    <tr>\n      <th>13367</th>\n      <td>-33.64651</td>\n      <td>19.44852</td>\n    </tr>\n    <tr>\n      <th>13368</th>\n      <td>-33.64651</td>\n      <td>19.44852</td>\n    </tr>\n  </tbody>\n</table>\n<p>13369 rows × 2 columns</p>\n</div>"
     },
     "metadata": {},
     "execution_count": 64
    }
   ],
   "source": [
    "#Split up the location data into latitude and longitude\n",
    "neww_df = pd.DataFrame(new_df['Geo'].to_list(), columns =['Lat','Lng'])\n",
    "\n",
    "neww_df"
   ]
  },
  {
   "cell_type": "code",
   "execution_count": null,
   "metadata": {},
   "outputs": [],
   "source": []
  }
 ],
 "metadata": {
  "language_info": {
   "codemirror_mode": {
    "name": "ipython",
    "version": 3
   },
   "file_extension": ".py",
   "mimetype": "text/x-python",
   "name": "python",
   "nbconvert_exporter": "python",
   "pygments_lexer": "ipython3",
   "version": "3.7.4-final"
  },
  "orig_nbformat": 2,
  "kernelspec": {
   "name": "python37464bitpythondatacondaaf71fc3f5dd34866a438487bc0d8ac87",
   "display_name": "Python 3.7.4 64-bit ('PythonData': conda)"
  }
 },
 "nbformat": 4,
 "nbformat_minor": 2
}
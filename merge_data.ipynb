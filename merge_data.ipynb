{
 "cells": [
  {
   "cell_type": "code",
   "execution_count": 2,
   "metadata": {},
   "outputs": [],
   "source": [
    "import json\n",
    "import pandas as pd\n",
    "import requests\n",
    "from pprint import pprint\n",
    "from pandas.io.json import json_normalize  "
   ]
  },
  {
   "cell_type": "code",
   "execution_count": 24,
   "metadata": {},
   "outputs": [
    {
     "output_type": "execute_result",
     "data": {
      "text/plain": "           CBSA  CBSA Code        Date  AQI Category Defining Parameter  \\\n0  Aberdeen, SD      10100  2019-01-03    4     Good               PM10   \n1  Aberdeen, SD      10100  2019-01-06   31     Good              PM2.5   \n2  Aberdeen, SD      10100  2019-01-09    9     Good               PM10   \n3  Aberdeen, SD      10100  2019-01-12   43     Good              PM2.5   \n4  Aberdeen, SD      10100  2019-01-15   28     Good              PM2.5   \n\n  Defining Site  Number of Sites Reporting  \n0   46-013-0003                          1  \n1   46-013-0003                          1  \n2   46-013-0003                          1  \n3   46-013-0003                          1  \n4   46-013-0003                          1  ",
      "text/html": "<div>\n<style scoped>\n    .dataframe tbody tr th:only-of-type {\n        vertical-align: middle;\n    }\n\n    .dataframe tbody tr th {\n        vertical-align: top;\n    }\n\n    .dataframe thead th {\n        text-align: right;\n    }\n</style>\n<table border=\"1\" class=\"dataframe\">\n  <thead>\n    <tr style=\"text-align: right;\">\n      <th></th>\n      <th>CBSA</th>\n      <th>CBSA Code</th>\n      <th>Date</th>\n      <th>AQI</th>\n      <th>Category</th>\n      <th>Defining Parameter</th>\n      <th>Defining Site</th>\n      <th>Number of Sites Reporting</th>\n    </tr>\n  </thead>\n  <tbody>\n    <tr>\n      <th>0</th>\n      <td>Aberdeen, SD</td>\n      <td>10100</td>\n      <td>2019-01-03</td>\n      <td>4</td>\n      <td>Good</td>\n      <td>PM10</td>\n      <td>46-013-0003</td>\n      <td>1</td>\n    </tr>\n    <tr>\n      <th>1</th>\n      <td>Aberdeen, SD</td>\n      <td>10100</td>\n      <td>2019-01-06</td>\n      <td>31</td>\n      <td>Good</td>\n      <td>PM2.5</td>\n      <td>46-013-0003</td>\n      <td>1</td>\n    </tr>\n    <tr>\n      <th>2</th>\n      <td>Aberdeen, SD</td>\n      <td>10100</td>\n      <td>2019-01-09</td>\n      <td>9</td>\n      <td>Good</td>\n      <td>PM10</td>\n      <td>46-013-0003</td>\n      <td>1</td>\n    </tr>\n    <tr>\n      <th>3</th>\n      <td>Aberdeen, SD</td>\n      <td>10100</td>\n      <td>2019-01-12</td>\n      <td>43</td>\n      <td>Good</td>\n      <td>PM2.5</td>\n      <td>46-013-0003</td>\n      <td>1</td>\n    </tr>\n    <tr>\n      <th>4</th>\n      <td>Aberdeen, SD</td>\n      <td>10100</td>\n      <td>2019-01-15</td>\n      <td>28</td>\n      <td>Good</td>\n      <td>PM2.5</td>\n      <td>46-013-0003</td>\n      <td>1</td>\n    </tr>\n  </tbody>\n</table>\n</div>"
     },
     "metadata": {},
     "execution_count": 24
    }
   ],
   "source": [
    "#Import CSVs\n",
    "aqi2019_df = pd.read_csv(\"assets/sample_data/daily_aqi_by_cbsa_2019.csv\")\n",
    "aqi2020_df = pd.read_csv(\"assets/sample_data/daily_aqi_by_cbsa_2020.csv\")\n",
    "\n",
    "#Append the CSVs to one big dataframe\n",
    "aqi_df = aqi2019_df.append(aqi2020_df)\n",
    "aqi_df.head()"
   ]
  },
  {
   "cell_type": "code",
   "execution_count": 25,
   "metadata": {},
   "outputs": [],
   "source": [
    "#Rename cities with duplicate names to avoid merging the wrong data\n",
    "aqi_df = aqi_df.replace({\"Columbia, MO\": \"ColumbiaMO\", \"Salem, OH\": \"SalemOH\", \"Columbus, GA-AL\" : \"ColumbusGA\", \"Columbus, IN\" : \"ColumbusIN\",\n",
    "                                \"Jackson, TN\": \"JacksonTN\", \"Jackson, WY-ID\": \"JacksonWY\", \"Miami, OK\": \"MiamiOK\", \"Salem, OH\": \"SalemOH\",\n",
    "                                \"Springfield, MA\": \"SpringfieldMA\", \"Springfield, MO\" : \"SpringfieldMO\", \"Springfield, OH\": \"SpringfieldOH\"})\n",
    "\n"
   ]
  },
  {
   "cell_type": "code",
   "execution_count": 26,
   "metadata": {},
   "outputs": [
    {
     "output_type": "execute_result",
     "data": {
      "text/plain": "           CBSA  CBSA Code        Date  AQI Category Defining Parameter  \\\n0  Aberdeen, SD      10100  2019-01-03    4     Good               PM10   \n1  Aberdeen, SD      10100  2019-01-06   31     Good              PM2.5   \n2  Aberdeen, SD      10100  2019-01-09    9     Good               PM10   \n3  Aberdeen, SD      10100  2019-01-12   43     Good              PM2.5   \n4  Aberdeen, SD      10100  2019-01-15   28     Good              PM2.5   \n\n  Defining Site  Number of Sites Reporting      City State  \n0   46-013-0003                          1  Aberdeen    SD  \n1   46-013-0003                          1  Aberdeen    SD  \n2   46-013-0003                          1  Aberdeen    SD  \n3   46-013-0003                          1  Aberdeen    SD  \n4   46-013-0003                          1  Aberdeen    SD  ",
      "text/html": "<div>\n<style scoped>\n    .dataframe tbody tr th:only-of-type {\n        vertical-align: middle;\n    }\n\n    .dataframe tbody tr th {\n        vertical-align: top;\n    }\n\n    .dataframe thead th {\n        text-align: right;\n    }\n</style>\n<table border=\"1\" class=\"dataframe\">\n  <thead>\n    <tr style=\"text-align: right;\">\n      <th></th>\n      <th>CBSA</th>\n      <th>CBSA Code</th>\n      <th>Date</th>\n      <th>AQI</th>\n      <th>Category</th>\n      <th>Defining Parameter</th>\n      <th>Defining Site</th>\n      <th>Number of Sites Reporting</th>\n      <th>City</th>\n      <th>State</th>\n    </tr>\n  </thead>\n  <tbody>\n    <tr>\n      <th>0</th>\n      <td>Aberdeen, SD</td>\n      <td>10100</td>\n      <td>2019-01-03</td>\n      <td>4</td>\n      <td>Good</td>\n      <td>PM10</td>\n      <td>46-013-0003</td>\n      <td>1</td>\n      <td>Aberdeen</td>\n      <td>SD</td>\n    </tr>\n    <tr>\n      <th>1</th>\n      <td>Aberdeen, SD</td>\n      <td>10100</td>\n      <td>2019-01-06</td>\n      <td>31</td>\n      <td>Good</td>\n      <td>PM2.5</td>\n      <td>46-013-0003</td>\n      <td>1</td>\n      <td>Aberdeen</td>\n      <td>SD</td>\n    </tr>\n    <tr>\n      <th>2</th>\n      <td>Aberdeen, SD</td>\n      <td>10100</td>\n      <td>2019-01-09</td>\n      <td>9</td>\n      <td>Good</td>\n      <td>PM10</td>\n      <td>46-013-0003</td>\n      <td>1</td>\n      <td>Aberdeen</td>\n      <td>SD</td>\n    </tr>\n    <tr>\n      <th>3</th>\n      <td>Aberdeen, SD</td>\n      <td>10100</td>\n      <td>2019-01-12</td>\n      <td>43</td>\n      <td>Good</td>\n      <td>PM2.5</td>\n      <td>46-013-0003</td>\n      <td>1</td>\n      <td>Aberdeen</td>\n      <td>SD</td>\n    </tr>\n    <tr>\n      <th>4</th>\n      <td>Aberdeen, SD</td>\n      <td>10100</td>\n      <td>2019-01-15</td>\n      <td>28</td>\n      <td>Good</td>\n      <td>PM2.5</td>\n      <td>46-013-0003</td>\n      <td>1</td>\n      <td>Aberdeen</td>\n      <td>SD</td>\n    </tr>\n  </tbody>\n</table>\n</div>"
     },
     "metadata": {},
     "execution_count": 26
    }
   ],
   "source": [
    "#Split CBSA into City and State\n",
    "aqi_df[['City','State']] = aqi_df.CBSA.str.split(\",\",expand=True)\n",
    "\n",
    "aqi_df.head()"
   ]
  },
  {
   "cell_type": "code",
   "execution_count": 27,
   "metadata": {},
   "outputs": [],
   "source": [
    "#Rename City metropolitan areas to one main city for merging\n",
    "aqi_df = aqi_df.replace({\"Atlanta-Sandy Springs-Roswell\":\"Atlanta\",\"Austin-Round Rock\":\"Austin\",\"Baltimore-Columbia-Towson\":\"Baltimore\",\n",
    "                        \"Boise City\":\"Boise\",\"Boston-Cambridge-Newton\":\"Boston\",\"New York-Newark-Jersey City\":\"New York City\",                                                  \"Charlotte-Concord-Gastonia\":\"Charlotte\",\"Chicago-Naperville-Elgin\":\"Chicago\",\"Dallas-Fort Worth-Arlington\":\"Dallas\",\n",
    "                        \"Denver-Aurora-Lakewood\":\"Denver\",\"Detroit-Warren-Dearborn\":\"Detroit\",\"Hartford-West Hartford-East Hartford\":\"Hartford\",\"Urban                          Honolulu\":\"Honolulu\", \"Houston-The Woodlands-Sugar Land\":\"Houston\",\"Indianapolis-Carmel-Anderson\":\"Indianapolis\",\"Las                                   Vegas-Henderson-Paradise\":\"Las Vegas\",\"Little Rock-North Little Rock-Conway\":\"Little Rock\",\"Los Angeles-Long Beach-Anaheim\":\"Los Angeles\",\"Miami-Fort Lauderdale-West Palm Beach\":\"Miami\",\"Milwaukee-Waukesha-West Allis\":\"Milwaukee\",                     \n",
    "                        \"Nashville-Davidson--Murfreesboro--Franklin\":\"Nashville\",\"Omaha-Council Bluffs\":\"Omaha\",\"Philadelphia-Camden-Wilmington\":\n",
    "                        \"Philadelphia\",\"Phoenix-Mesa-Scottsdale\":\"Phoenix\",\"Portland-Vancouver-Hillsboro\":\"Portland\",\"Providence-Warwick\":\"Providence\",\n",
    "                        \"Sacramento--Roseville--Arden-Arcade\":\"Sacramento\",\"Minneapolis-St. Paul-Bloomington\":\"Saint Paul\",\"San Antonio-New Braunfels\":\n",
    "                        \"San Antonio\",\"San Diego-Carlsbad\":\"San Diego\",\"San Francisco-Oakland-Hayward\":\"San Francisco\",\"San Jose-Sunnyvale-Santa Clara\":\n",
    "                        \"San Jose\",\"Seattle-Tacoma-Bellevue\":\"Seattle\",\"Washington-Arlington-Alexandria\":\"Washington, D.C.\"})"
   ]
  },
  {
   "cell_type": "code",
   "execution_count": 28,
   "metadata": {},
   "outputs": [],
   "source": [
    "#Replace state values of multiple states with one state\n",
    "aqi_df = aqi_df.replace({\" MA-NH\":\"MA\",\" IL-IN-WI\":\"IN\",\" NC-SC\":\"NC\",\" TN-MS-AR\":\"TN\",\" MN-WI\":\"MN\",\" NY-NJ-PA\":\"NY\",\" NE-IA\":\"NE\",\" PA-NJ-DE-MD\":\"PA\",                                    \" OR-WA\":\"OR\",\" RI-MA\":\"RI\",\" DC-VA-MD-WV\":\"DC\"})"
   ]
  },
  {
   "cell_type": "code",
   "execution_count": 29,
   "metadata": {},
   "outputs": [
    {
     "output_type": "execute_result",
     "data": {
      "text/plain": " CA          13482\n TX          10312\n FL           8826\n PA           8652\n WA           7471\n             ...  \n KY-IL         369\n PA-NJ         365\n WI-MN         365\n IL-MO         241\n IA-IL-MO      151\nName: State, Length: 94, dtype: int64"
     },
     "metadata": {},
     "execution_count": 29
    }
   ],
   "source": [
    "aqi_df[\"State\"].value_counts()"
   ]
  },
  {
   "cell_type": "code",
   "execution_count": 9,
   "metadata": {},
   "outputs": [],
   "source": [
    "# URL for JSON with cities and geo data\n",
    "url = \"https://aqicn.org/data-platform/covid19/airquality-covid19-cities.json\""
   ]
  },
  {
   "cell_type": "code",
   "execution_count": 24,
   "metadata": {},
   "outputs": [
    {
     "output_type": "execute_result",
     "data": {
      "text/plain": "    csvsize                                               data  \\\n0  46726470  {'Place': {'geo': [38.53575, 68.77905], 'featu...   \n1  46726470  {'Place': {'geo': [24.45118, 54.39696], 'featu...   \n2  46726470  {'Place': {'geo': [25.07725, 55.30927], 'featu...   \n3  46726470  {'Place': {'geo': [60.29414, 25.04099], 'featu...   \n4  46726470  {'Place': {'geo': [60.45148, 22.26869], 'featu...   \n\n                   generated  \n0  2020-05-28T20:54:02+01:00  \n1  2020-05-28T20:54:02+01:00  \n2  2020-05-28T20:54:02+01:00  \n3  2020-05-28T20:54:02+01:00  \n4  2020-05-28T20:54:02+01:00  ",
      "text/html": "<div>\n<style scoped>\n    .dataframe tbody tr th:only-of-type {\n        vertical-align: middle;\n    }\n\n    .dataframe tbody tr th {\n        vertical-align: top;\n    }\n\n    .dataframe thead th {\n        text-align: right;\n    }\n</style>\n<table border=\"1\" class=\"dataframe\">\n  <thead>\n    <tr style=\"text-align: right;\">\n      <th></th>\n      <th>csvsize</th>\n      <th>data</th>\n      <th>generated</th>\n    </tr>\n  </thead>\n  <tbody>\n    <tr>\n      <th>0</th>\n      <td>46726470</td>\n      <td>{'Place': {'geo': [38.53575, 68.77905], 'featu...</td>\n      <td>2020-05-28T20:54:02+01:00</td>\n    </tr>\n    <tr>\n      <th>1</th>\n      <td>46726470</td>\n      <td>{'Place': {'geo': [24.45118, 54.39696], 'featu...</td>\n      <td>2020-05-28T20:54:02+01:00</td>\n    </tr>\n    <tr>\n      <th>2</th>\n      <td>46726470</td>\n      <td>{'Place': {'geo': [25.07725, 55.30927], 'featu...</td>\n      <td>2020-05-28T20:54:02+01:00</td>\n    </tr>\n    <tr>\n      <th>3</th>\n      <td>46726470</td>\n      <td>{'Place': {'geo': [60.29414, 25.04099], 'featu...</td>\n      <td>2020-05-28T20:54:02+01:00</td>\n    </tr>\n    <tr>\n      <th>4</th>\n      <td>46726470</td>\n      <td>{'Place': {'geo': [60.45148, 22.26869], 'featu...</td>\n      <td>2020-05-28T20:54:02+01:00</td>\n    </tr>\n  </tbody>\n</table>\n</div>"
     },
     "metadata": {},
     "execution_count": 24
    }
   ],
   "source": [
    "#Read JSON into a dataframe\n",
    "df = pd.read_json(url)\n",
    "\n",
    "df.head()"
   ]
  },
  {
   "cell_type": "code",
   "execution_count": 10,
   "metadata": {
    "tags": [
     "outputPrepend",
     "outputPrepend",
     "outputPrepend",
     "outputPrepend",
     "outputPrepend",
     "outputPrepend",
     "outputPrepend",
     "outputPrepend",
     "outputPrepend",
     "outputPrepend",
     "outputPrepend",
     "outputPrepend",
     "outputPrepend"
    ]
   },
   "outputs": [
    {
     "output_type": "execute_result",
     "data": {
      "text/plain": "                                             Sources  \\\n0  [{'name': 'Citizen Weather Observer Program (C...   \n1  [{'name': 'Citizen Weather Observer Program (C...   \n2  [{'name': 'Citizen Weather Observer Program (C...   \n3  [{'name': 'Citizen Weather Observer Program (C...   \n4  [{'name': 'Citizen Weather Observer Program (C...   \n\n                                            Stations            Place.geo  \\\n0  [{'Name': 'Jemeppe-sur-meuse, Belgium'}, {'Nam...  [50.63373, 5.56749]   \n1  [{'Name': 'Sint-agatha-berchem, Belgium'}, {'N...  [50.85045, 4.34878]   \n2  [{'Name': 'Charleroi, Belgium'}, {'Name': 'Mar...  [50.41136, 4.44448]   \n3  [{'Name': 'Sint-kruiswinkel, Belgium'}, {'Name...     [51.05, 3.71667]   \n4  [{'Name': 'Vezin, Belgium'}, {'Name': 'Namur, ...   [50.4669, 4.86746]   \n\n  Place.feature Place.name Place.country  Place.pop  \n0           PPL      Liège            BE     182597  \n1          PPLC   Brussels            BE    1019022  \n2           PPL  Charleroi            BE     200132  \n3           PPL       Gent            BE     231493  \n4          PPLA      Namur            BE     106284  ",
      "text/html": "<div>\n<style scoped>\n    .dataframe tbody tr th:only-of-type {\n        vertical-align: middle;\n    }\n\n    .dataframe tbody tr th {\n        vertical-align: top;\n    }\n\n    .dataframe thead th {\n        text-align: right;\n    }\n</style>\n<table border=\"1\" class=\"dataframe\">\n  <thead>\n    <tr style=\"text-align: right;\">\n      <th></th>\n      <th>Sources</th>\n      <th>Stations</th>\n      <th>Place.geo</th>\n      <th>Place.feature</th>\n      <th>Place.name</th>\n      <th>Place.country</th>\n      <th>Place.pop</th>\n    </tr>\n  </thead>\n  <tbody>\n    <tr>\n      <th>0</th>\n      <td>[{'name': 'Citizen Weather Observer Program (C...</td>\n      <td>[{'Name': 'Jemeppe-sur-meuse, Belgium'}, {'Nam...</td>\n      <td>[50.63373, 5.56749]</td>\n      <td>PPL</td>\n      <td>Liège</td>\n      <td>BE</td>\n      <td>182597</td>\n    </tr>\n    <tr>\n      <th>1</th>\n      <td>[{'name': 'Citizen Weather Observer Program (C...</td>\n      <td>[{'Name': 'Sint-agatha-berchem, Belgium'}, {'N...</td>\n      <td>[50.85045, 4.34878]</td>\n      <td>PPLC</td>\n      <td>Brussels</td>\n      <td>BE</td>\n      <td>1019022</td>\n    </tr>\n    <tr>\n      <th>2</th>\n      <td>[{'name': 'Citizen Weather Observer Program (C...</td>\n      <td>[{'Name': 'Charleroi, Belgium'}, {'Name': 'Mar...</td>\n      <td>[50.41136, 4.44448]</td>\n      <td>PPL</td>\n      <td>Charleroi</td>\n      <td>BE</td>\n      <td>200132</td>\n    </tr>\n    <tr>\n      <th>3</th>\n      <td>[{'name': 'Citizen Weather Observer Program (C...</td>\n      <td>[{'Name': 'Sint-kruiswinkel, Belgium'}, {'Name...</td>\n      <td>[51.05, 3.71667]</td>\n      <td>PPL</td>\n      <td>Gent</td>\n      <td>BE</td>\n      <td>231493</td>\n    </tr>\n    <tr>\n      <th>4</th>\n      <td>[{'name': 'Citizen Weather Observer Program (C...</td>\n      <td>[{'Name': 'Vezin, Belgium'}, {'Name': 'Namur, ...</td>\n      <td>[50.4669, 4.86746]</td>\n      <td>PPLA</td>\n      <td>Namur</td>\n      <td>BE</td>\n      <td>106284</td>\n    </tr>\n  </tbody>\n</table>\n</div>"
     },
     "metadata": {},
     "execution_count": 10
    }
   ],
   "source": [
    "# Uses requests.get() to load JSON into text\n",
    "response = json.loads(requests.get(url).text)\n",
    "\n",
    "#Flattens the nested JSON of the 'data' column into its own DataFrame to get the Places geo data\n",
    "geo_df = pd.io.json.json_normalize(response['data'])\n",
    "#pprint(response)\n",
    "geo_df.head()"
   ]
  },
  {
   "cell_type": "code",
   "execution_count": 11,
   "metadata": {},
   "outputs": [],
   "source": [
    "#Puts the geo data and name into a dataframe\n",
    "places_df = geo_df[['Place.geo','Place.name','Place.country','Place.pop']]"
   ]
  },
  {
   "cell_type": "code",
   "execution_count": 9,
   "metadata": {},
   "outputs": [
    {
     "output_type": "execute_result",
     "data": {
      "text/plain": "               Place.geo        Place.name Place.country\n0   [38.71667, -9.13333]            Lisbon            PT\n1  [32.66568, -16.92547]           Funchal            PT\n2   [55.15402, 61.42915]       Chelyabinsk            RU\n3   [56.32867, 44.00205]  Nizhniy Novgorod            RU\n4   [59.93863, 30.31413]  Saint Petersburg            RU",
      "text/html": "<div>\n<style scoped>\n    .dataframe tbody tr th:only-of-type {\n        vertical-align: middle;\n    }\n\n    .dataframe tbody tr th {\n        vertical-align: top;\n    }\n\n    .dataframe thead th {\n        text-align: right;\n    }\n</style>\n<table border=\"1\" class=\"dataframe\">\n  <thead>\n    <tr style=\"text-align: right;\">\n      <th></th>\n      <th>Place.geo</th>\n      <th>Place.name</th>\n      <th>Place.country</th>\n    </tr>\n  </thead>\n  <tbody>\n    <tr>\n      <th>0</th>\n      <td>[38.71667, -9.13333]</td>\n      <td>Lisbon</td>\n      <td>PT</td>\n    </tr>\n    <tr>\n      <th>1</th>\n      <td>[32.66568, -16.92547]</td>\n      <td>Funchal</td>\n      <td>PT</td>\n    </tr>\n    <tr>\n      <th>2</th>\n      <td>[55.15402, 61.42915]</td>\n      <td>Chelyabinsk</td>\n      <td>RU</td>\n    </tr>\n    <tr>\n      <th>3</th>\n      <td>[56.32867, 44.00205]</td>\n      <td>Nizhniy Novgorod</td>\n      <td>RU</td>\n    </tr>\n    <tr>\n      <th>4</th>\n      <td>[59.93863, 30.31413]</td>\n      <td>Saint Petersburg</td>\n      <td>RU</td>\n    </tr>\n  </tbody>\n</table>\n</div>"
     },
     "metadata": {},
     "execution_count": 9
    }
   ],
   "source": [
    "places_df.head()"
   ]
  },
  {
   "cell_type": "code",
   "execution_count": 12,
   "metadata": {},
   "outputs": [
    {
     "output_type": "execute_result",
     "data": {
      "text/plain": "                   Geo       City Country\n0  [50.63373, 5.56749]      Liège      BE\n1  [50.85045, 4.34878]   Brussels      BE\n2  [50.41136, 4.44448]  Charleroi      BE\n3     [51.05, 3.71667]       Gent      BE\n4   [50.4669, 4.86746]      Namur      BE",
      "text/html": "<div>\n<style scoped>\n    .dataframe tbody tr th:only-of-type {\n        vertical-align: middle;\n    }\n\n    .dataframe tbody tr th {\n        vertical-align: top;\n    }\n\n    .dataframe thead th {\n        text-align: right;\n    }\n</style>\n<table border=\"1\" class=\"dataframe\">\n  <thead>\n    <tr style=\"text-align: right;\">\n      <th></th>\n      <th>Geo</th>\n      <th>City</th>\n      <th>Country</th>\n    </tr>\n  </thead>\n  <tbody>\n    <tr>\n      <th>0</th>\n      <td>[50.63373, 5.56749]</td>\n      <td>Liège</td>\n      <td>BE</td>\n    </tr>\n    <tr>\n      <th>1</th>\n      <td>[50.85045, 4.34878]</td>\n      <td>Brussels</td>\n      <td>BE</td>\n    </tr>\n    <tr>\n      <th>2</th>\n      <td>[50.41136, 4.44448]</td>\n      <td>Charleroi</td>\n      <td>BE</td>\n    </tr>\n    <tr>\n      <th>3</th>\n      <td>[51.05, 3.71667]</td>\n      <td>Gent</td>\n      <td>BE</td>\n    </tr>\n    <tr>\n      <th>4</th>\n      <td>[50.4669, 4.86746]</td>\n      <td>Namur</td>\n      <td>BE</td>\n    </tr>\n  </tbody>\n</table>\n</div>"
     },
     "metadata": {},
     "execution_count": 12
    }
   ],
   "source": [
    "#Rename columns for merging purposes\n",
    "places_df = places_df.rename(columns = {'Place.geo':'Geo','Place.name':'City', 'Place.country':'Country', \"Place.pop\":\"Population\"})\n",
    "places_df.head()"
   ]
  },
  {
   "cell_type": "code",
   "execution_count": 13,
   "metadata": {},
   "outputs": [
    {
     "output_type": "stream",
     "name": "stdout",
     "text": "Phoenix             1\nFort Worth          1\nQueens              1\nLas Vegas           1\nHartford            1\nMiami               1\nChicago             1\nSan Diego           1\nManhattan           1\nAtlanta             1\nMilwaukee           1\nTallahassee         1\nSeattle             1\nEl Paso             1\nSaint Paul          1\nSpringfield         1\nMadison             1\nNashville           1\nSan Francisco       1\nAustin              1\nBoise               1\nHonolulu            1\nSan Antonio         1\nIndianapolis        1\nRichmond            1\nStaten Island       1\nWashington, D.C.    1\nProvidence          1\nBoston              1\nOakland             1\nThe Bronx           1\nDetroit             1\nJacksonville        1\nSacramento          1\nColumbia            1\nBrooklyn            1\nTucson              1\nLos Angeles         1\nPhiladelphia        1\nOmaha               1\nColumbus            1\nLittle Rock         1\nCharlotte           1\nAlbuquerque         1\nJackson             1\nMemphis             1\nSan Jose            1\nBaltimore           1\nHouston             1\nSalt Lake City      1\nOklahoma City       1\nRaleigh             1\nDenver              1\nDallas              1\nPortland            1\nFresno              1\nSalem               1\nName: City, dtype: int64\n"
    },
    {
     "output_type": "execute_result",
     "data": {
      "text/plain": "True     48\nFalse     9\nName: City, dtype: int64"
     },
     "metadata": {},
     "execution_count": 13
    }
   ],
   "source": [
    "us_df = places_df.loc[places_df[\"Country\"] == \"US\"]\n",
    "print(us_df[\"City\"].value_counts())\n",
    "us_df[\"City\"].isin(aqi_df[\"City\"]).value_counts()"
   ]
  },
  {
   "cell_type": "code",
   "execution_count": 14,
   "metadata": {},
   "outputs": [],
   "source": [
    "#Replace Manhattan with New York City for the merge\n",
    "us_df = us_df.replace({\"Manhattan\":\"New York City\"})"
   ]
  },
  {
   "cell_type": "code",
   "execution_count": 21,
   "metadata": {},
   "outputs": [],
   "source": [
    "us_df.to_csv(\"us_locations.csv\")"
   ]
  },
  {
   "cell_type": "code",
   "execution_count": 30,
   "metadata": {},
   "outputs": [
    {
     "output_type": "execute_result",
     "data": {
      "text/plain": "              CBSA  CBSA Code        Date  AQI  Category Defining Parameter  \\\n0  Albuquerque, NM      10740  2019-01-01   42      Good               PM10   \n1  Albuquerque, NM      10740  2019-01-02   40      Good              PM2.5   \n2  Albuquerque, NM      10740  2019-01-03   55  Moderate              PM2.5   \n3  Albuquerque, NM      10740  2019-01-04   57  Moderate              PM2.5   \n4  Albuquerque, NM      10740  2019-01-05   66  Moderate              PM2.5   \n\n  Defining Site  Number of Sites Reporting         City State  \\\n0   35-001-0029                          8  Albuquerque    NM   \n1   35-001-1012                          8  Albuquerque    NM   \n2   35-001-0029                          8  Albuquerque    NM   \n3   35-001-0029                          8  Albuquerque    NM   \n4   35-001-0029                          8  Albuquerque    NM   \n\n                      Geo Country  \n0  [35.08449, -106.65114]      US  \n1  [35.08449, -106.65114]      US  \n2  [35.08449, -106.65114]      US  \n3  [35.08449, -106.65114]      US  \n4  [35.08449, -106.65114]      US  ",
      "text/html": "<div>\n<style scoped>\n    .dataframe tbody tr th:only-of-type {\n        vertical-align: middle;\n    }\n\n    .dataframe tbody tr th {\n        vertical-align: top;\n    }\n\n    .dataframe thead th {\n        text-align: right;\n    }\n</style>\n<table border=\"1\" class=\"dataframe\">\n  <thead>\n    <tr style=\"text-align: right;\">\n      <th></th>\n      <th>CBSA</th>\n      <th>CBSA Code</th>\n      <th>Date</th>\n      <th>AQI</th>\n      <th>Category</th>\n      <th>Defining Parameter</th>\n      <th>Defining Site</th>\n      <th>Number of Sites Reporting</th>\n      <th>City</th>\n      <th>State</th>\n      <th>Geo</th>\n      <th>Country</th>\n    </tr>\n  </thead>\n  <tbody>\n    <tr>\n      <th>0</th>\n      <td>Albuquerque, NM</td>\n      <td>10740</td>\n      <td>2019-01-01</td>\n      <td>42</td>\n      <td>Good</td>\n      <td>PM10</td>\n      <td>35-001-0029</td>\n      <td>8</td>\n      <td>Albuquerque</td>\n      <td>NM</td>\n      <td>[35.08449, -106.65114]</td>\n      <td>US</td>\n    </tr>\n    <tr>\n      <th>1</th>\n      <td>Albuquerque, NM</td>\n      <td>10740</td>\n      <td>2019-01-02</td>\n      <td>40</td>\n      <td>Good</td>\n      <td>PM2.5</td>\n      <td>35-001-1012</td>\n      <td>8</td>\n      <td>Albuquerque</td>\n      <td>NM</td>\n      <td>[35.08449, -106.65114]</td>\n      <td>US</td>\n    </tr>\n    <tr>\n      <th>2</th>\n      <td>Albuquerque, NM</td>\n      <td>10740</td>\n      <td>2019-01-03</td>\n      <td>55</td>\n      <td>Moderate</td>\n      <td>PM2.5</td>\n      <td>35-001-0029</td>\n      <td>8</td>\n      <td>Albuquerque</td>\n      <td>NM</td>\n      <td>[35.08449, -106.65114]</td>\n      <td>US</td>\n    </tr>\n    <tr>\n      <th>3</th>\n      <td>Albuquerque, NM</td>\n      <td>10740</td>\n      <td>2019-01-04</td>\n      <td>57</td>\n      <td>Moderate</td>\n      <td>PM2.5</td>\n      <td>35-001-0029</td>\n      <td>8</td>\n      <td>Albuquerque</td>\n      <td>NM</td>\n      <td>[35.08449, -106.65114]</td>\n      <td>US</td>\n    </tr>\n    <tr>\n      <th>4</th>\n      <td>Albuquerque, NM</td>\n      <td>10740</td>\n      <td>2019-01-05</td>\n      <td>66</td>\n      <td>Moderate</td>\n      <td>PM2.5</td>\n      <td>35-001-0029</td>\n      <td>8</td>\n      <td>Albuquerque</td>\n      <td>NM</td>\n      <td>[35.08449, -106.65114]</td>\n      <td>US</td>\n    </tr>\n  </tbody>\n</table>\n</div>"
     },
     "metadata": {},
     "execution_count": 30
    }
   ],
   "source": [
    "#Inner merge\n",
    "new_df = aqi_df.merge(us_df,on=\"City\",how=\"inner\")\n",
    "\n",
    "new_df.head()"
   ]
  },
  {
   "cell_type": "code",
   "execution_count": 31,
   "metadata": {},
   "outputs": [
    {
     "output_type": "execute_result",
     "data": {
      "text/plain": " CA    2433\n TX    2013\n FL    1276\n AZ     913\n WI     730\nNC      487\n UT     487\nNE      486\n CO     468\nOR      461\n OK     457\n SC     457\n AR     457\nNY      457\n OH     457\n MS     457\n NC     457\n IN     456\n GA     456\nIN      456\nTN      456\nDC      456\n VA     456\n MD     455\nPA      453\nRI      429\nMA      426\n IL     418\n WA     397\n NM     365\n CT     365\nMN      365\n MI     365\n TN     365\n ID     365\n OR     356\nName: State, dtype: int64"
     },
     "metadata": {},
     "execution_count": 31
    }
   ],
   "source": [
    "\n",
    "new_df[\"State\"].value_counts()"
   ]
  },
  {
   "cell_type": "code",
   "execution_count": 73,
   "metadata": {},
   "outputs": [],
   "source": [
    "#Store data to CSV for verification\n",
    "new_df.to_csv(\"sample_data.csv\")"
   ]
  },
  {
   "cell_type": "code",
   "execution_count": 32,
   "metadata": {},
   "outputs": [
    {
     "output_type": "execute_result",
     "data": {
      "text/plain": "            Lat        Lng\n0      35.08449 -106.65114\n1      35.08449 -106.65114\n2      35.08449 -106.65114\n3      35.08449 -106.65114\n4      35.08449 -106.65114\n...         ...        ...\n20808  38.89511  -77.03637\n20809  38.89511  -77.03637\n20810  38.89511  -77.03637\n20811  38.89511  -77.03637\n20812  38.89511  -77.03637\n\n[20813 rows x 2 columns]",
      "text/html": "<div>\n<style scoped>\n    .dataframe tbody tr th:only-of-type {\n        vertical-align: middle;\n    }\n\n    .dataframe tbody tr th {\n        vertical-align: top;\n    }\n\n    .dataframe thead th {\n        text-align: right;\n    }\n</style>\n<table border=\"1\" class=\"dataframe\">\n  <thead>\n    <tr style=\"text-align: right;\">\n      <th></th>\n      <th>Lat</th>\n      <th>Lng</th>\n    </tr>\n  </thead>\n  <tbody>\n    <tr>\n      <th>0</th>\n      <td>35.08449</td>\n      <td>-106.65114</td>\n    </tr>\n    <tr>\n      <th>1</th>\n      <td>35.08449</td>\n      <td>-106.65114</td>\n    </tr>\n    <tr>\n      <th>2</th>\n      <td>35.08449</td>\n      <td>-106.65114</td>\n    </tr>\n    <tr>\n      <th>3</th>\n      <td>35.08449</td>\n      <td>-106.65114</td>\n    </tr>\n    <tr>\n      <th>4</th>\n      <td>35.08449</td>\n      <td>-106.65114</td>\n    </tr>\n    <tr>\n      <th>...</th>\n      <td>...</td>\n      <td>...</td>\n    </tr>\n    <tr>\n      <th>20808</th>\n      <td>38.89511</td>\n      <td>-77.03637</td>\n    </tr>\n    <tr>\n      <th>20809</th>\n      <td>38.89511</td>\n      <td>-77.03637</td>\n    </tr>\n    <tr>\n      <th>20810</th>\n      <td>38.89511</td>\n      <td>-77.03637</td>\n    </tr>\n    <tr>\n      <th>20811</th>\n      <td>38.89511</td>\n      <td>-77.03637</td>\n    </tr>\n    <tr>\n      <th>20812</th>\n      <td>38.89511</td>\n      <td>-77.03637</td>\n    </tr>\n  </tbody>\n</table>\n<p>20813 rows × 2 columns</p>\n</div>"
     },
     "metadata": {},
     "execution_count": 32
    }
   ],
   "source": [
    "#Split up the location data into latitude and longitude\n",
    "loc_df = pd.DataFrame(new_df['Geo'].to_list(),index=None, columns =['Lat','Lng'])\n",
    "\n",
    "loc_df"
   ]
  },
  {
   "cell_type": "code",
   "execution_count": 33,
   "metadata": {},
   "outputs": [
    {
     "output_type": "execute_result",
     "data": {
      "text/plain": "              CBSA  CBSA Code        Date  AQI  Category Defining Parameter  \\\n0  Albuquerque, NM      10740  2019-01-01   42      Good               PM10   \n1  Albuquerque, NM      10740  2019-01-02   40      Good              PM2.5   \n2  Albuquerque, NM      10740  2019-01-03   55  Moderate              PM2.5   \n3  Albuquerque, NM      10740  2019-01-04   57  Moderate              PM2.5   \n4  Albuquerque, NM      10740  2019-01-05   66  Moderate              PM2.5   \n\n  Defining Site  Number of Sites Reporting         City State  \\\n0   35-001-0029                          8  Albuquerque    NM   \n1   35-001-1012                          8  Albuquerque    NM   \n2   35-001-0029                          8  Albuquerque    NM   \n3   35-001-0029                          8  Albuquerque    NM   \n4   35-001-0029                          8  Albuquerque    NM   \n\n                      Geo Country       Lat        Lng  \n0  [35.08449, -106.65114]      US  35.08449 -106.65114  \n1  [35.08449, -106.65114]      US  35.08449 -106.65114  \n2  [35.08449, -106.65114]      US  35.08449 -106.65114  \n3  [35.08449, -106.65114]      US  35.08449 -106.65114  \n4  [35.08449, -106.65114]      US  35.08449 -106.65114  ",
      "text/html": "<div>\n<style scoped>\n    .dataframe tbody tr th:only-of-type {\n        vertical-align: middle;\n    }\n\n    .dataframe tbody tr th {\n        vertical-align: top;\n    }\n\n    .dataframe thead th {\n        text-align: right;\n    }\n</style>\n<table border=\"1\" class=\"dataframe\">\n  <thead>\n    <tr style=\"text-align: right;\">\n      <th></th>\n      <th>CBSA</th>\n      <th>CBSA Code</th>\n      <th>Date</th>\n      <th>AQI</th>\n      <th>Category</th>\n      <th>Defining Parameter</th>\n      <th>Defining Site</th>\n      <th>Number of Sites Reporting</th>\n      <th>City</th>\n      <th>State</th>\n      <th>Geo</th>\n      <th>Country</th>\n      <th>Lat</th>\n      <th>Lng</th>\n    </tr>\n  </thead>\n  <tbody>\n    <tr>\n      <th>0</th>\n      <td>Albuquerque, NM</td>\n      <td>10740</td>\n      <td>2019-01-01</td>\n      <td>42</td>\n      <td>Good</td>\n      <td>PM10</td>\n      <td>35-001-0029</td>\n      <td>8</td>\n      <td>Albuquerque</td>\n      <td>NM</td>\n      <td>[35.08449, -106.65114]</td>\n      <td>US</td>\n      <td>35.08449</td>\n      <td>-106.65114</td>\n    </tr>\n    <tr>\n      <th>1</th>\n      <td>Albuquerque, NM</td>\n      <td>10740</td>\n      <td>2019-01-02</td>\n      <td>40</td>\n      <td>Good</td>\n      <td>PM2.5</td>\n      <td>35-001-1012</td>\n      <td>8</td>\n      <td>Albuquerque</td>\n      <td>NM</td>\n      <td>[35.08449, -106.65114]</td>\n      <td>US</td>\n      <td>35.08449</td>\n      <td>-106.65114</td>\n    </tr>\n    <tr>\n      <th>2</th>\n      <td>Albuquerque, NM</td>\n      <td>10740</td>\n      <td>2019-01-03</td>\n      <td>55</td>\n      <td>Moderate</td>\n      <td>PM2.5</td>\n      <td>35-001-0029</td>\n      <td>8</td>\n      <td>Albuquerque</td>\n      <td>NM</td>\n      <td>[35.08449, -106.65114]</td>\n      <td>US</td>\n      <td>35.08449</td>\n      <td>-106.65114</td>\n    </tr>\n    <tr>\n      <th>3</th>\n      <td>Albuquerque, NM</td>\n      <td>10740</td>\n      <td>2019-01-04</td>\n      <td>57</td>\n      <td>Moderate</td>\n      <td>PM2.5</td>\n      <td>35-001-0029</td>\n      <td>8</td>\n      <td>Albuquerque</td>\n      <td>NM</td>\n      <td>[35.08449, -106.65114]</td>\n      <td>US</td>\n      <td>35.08449</td>\n      <td>-106.65114</td>\n    </tr>\n    <tr>\n      <th>4</th>\n      <td>Albuquerque, NM</td>\n      <td>10740</td>\n      <td>2019-01-05</td>\n      <td>66</td>\n      <td>Moderate</td>\n      <td>PM2.5</td>\n      <td>35-001-0029</td>\n      <td>8</td>\n      <td>Albuquerque</td>\n      <td>NM</td>\n      <td>[35.08449, -106.65114]</td>\n      <td>US</td>\n      <td>35.08449</td>\n      <td>-106.65114</td>\n    </tr>\n  </tbody>\n</table>\n</div>"
     },
     "metadata": {},
     "execution_count": 33
    }
   ],
   "source": [
    "#Join the divided lat/lng df to the main dataframe\n",
    "data_df = new_df.join(loc_df)\n",
    "\n",
    "data_df.head()"
   ]
  },
  {
   "cell_type": "code",
   "execution_count": 34,
   "metadata": {},
   "outputs": [
    {
     "output_type": "execute_result",
     "data": {
      "text/plain": "             Date              City State       Lat        Lng  AQI  Category  \\\n0      2019-01-01       Albuquerque    NM  35.08449 -106.65114   42      Good   \n1      2019-01-02       Albuquerque    NM  35.08449 -106.65114   40      Good   \n2      2019-01-03       Albuquerque    NM  35.08449 -106.65114   55  Moderate   \n3      2019-01-04       Albuquerque    NM  35.08449 -106.65114   57  Moderate   \n4      2019-01-05       Albuquerque    NM  35.08449 -106.65114   66  Moderate   \n...           ...               ...   ...       ...        ...  ...       ...   \n20808  2020-03-27  Washington, D.C.    DC  38.89511  -77.03637   44      Good   \n20809  2020-03-28  Washington, D.C.    DC  38.89511  -77.03637   40      Good   \n20810  2020-03-29  Washington, D.C.    DC  38.89511  -77.03637   39      Good   \n20811  2020-03-30  Washington, D.C.    DC  38.89511  -77.03637   44      Good   \n20812  2020-03-31  Washington, D.C.    DC  38.89511  -77.03637   35      Good   \n\n      Defining Parameter  \n0                   PM10  \n1                  PM2.5  \n2                  PM2.5  \n3                  PM2.5  \n4                  PM2.5  \n...                  ...  \n20808              Ozone  \n20809              Ozone  \n20810              PM2.5  \n20811              Ozone  \n20812              Ozone  \n\n[20813 rows x 8 columns]",
      "text/html": "<div>\n<style scoped>\n    .dataframe tbody tr th:only-of-type {\n        vertical-align: middle;\n    }\n\n    .dataframe tbody tr th {\n        vertical-align: top;\n    }\n\n    .dataframe thead th {\n        text-align: right;\n    }\n</style>\n<table border=\"1\" class=\"dataframe\">\n  <thead>\n    <tr style=\"text-align: right;\">\n      <th></th>\n      <th>Date</th>\n      <th>City</th>\n      <th>State</th>\n      <th>Lat</th>\n      <th>Lng</th>\n      <th>AQI</th>\n      <th>Category</th>\n      <th>Defining Parameter</th>\n    </tr>\n  </thead>\n  <tbody>\n    <tr>\n      <th>0</th>\n      <td>2019-01-01</td>\n      <td>Albuquerque</td>\n      <td>NM</td>\n      <td>35.08449</td>\n      <td>-106.65114</td>\n      <td>42</td>\n      <td>Good</td>\n      <td>PM10</td>\n    </tr>\n    <tr>\n      <th>1</th>\n      <td>2019-01-02</td>\n      <td>Albuquerque</td>\n      <td>NM</td>\n      <td>35.08449</td>\n      <td>-106.65114</td>\n      <td>40</td>\n      <td>Good</td>\n      <td>PM2.5</td>\n    </tr>\n    <tr>\n      <th>2</th>\n      <td>2019-01-03</td>\n      <td>Albuquerque</td>\n      <td>NM</td>\n      <td>35.08449</td>\n      <td>-106.65114</td>\n      <td>55</td>\n      <td>Moderate</td>\n      <td>PM2.5</td>\n    </tr>\n    <tr>\n      <th>3</th>\n      <td>2019-01-04</td>\n      <td>Albuquerque</td>\n      <td>NM</td>\n      <td>35.08449</td>\n      <td>-106.65114</td>\n      <td>57</td>\n      <td>Moderate</td>\n      <td>PM2.5</td>\n    </tr>\n    <tr>\n      <th>4</th>\n      <td>2019-01-05</td>\n      <td>Albuquerque</td>\n      <td>NM</td>\n      <td>35.08449</td>\n      <td>-106.65114</td>\n      <td>66</td>\n      <td>Moderate</td>\n      <td>PM2.5</td>\n    </tr>\n    <tr>\n      <th>...</th>\n      <td>...</td>\n      <td>...</td>\n      <td>...</td>\n      <td>...</td>\n      <td>...</td>\n      <td>...</td>\n      <td>...</td>\n      <td>...</td>\n    </tr>\n    <tr>\n      <th>20808</th>\n      <td>2020-03-27</td>\n      <td>Washington, D.C.</td>\n      <td>DC</td>\n      <td>38.89511</td>\n      <td>-77.03637</td>\n      <td>44</td>\n      <td>Good</td>\n      <td>Ozone</td>\n    </tr>\n    <tr>\n      <th>20809</th>\n      <td>2020-03-28</td>\n      <td>Washington, D.C.</td>\n      <td>DC</td>\n      <td>38.89511</td>\n      <td>-77.03637</td>\n      <td>40</td>\n      <td>Good</td>\n      <td>Ozone</td>\n    </tr>\n    <tr>\n      <th>20810</th>\n      <td>2020-03-29</td>\n      <td>Washington, D.C.</td>\n      <td>DC</td>\n      <td>38.89511</td>\n      <td>-77.03637</td>\n      <td>39</td>\n      <td>Good</td>\n      <td>PM2.5</td>\n    </tr>\n    <tr>\n      <th>20811</th>\n      <td>2020-03-30</td>\n      <td>Washington, D.C.</td>\n      <td>DC</td>\n      <td>38.89511</td>\n      <td>-77.03637</td>\n      <td>44</td>\n      <td>Good</td>\n      <td>Ozone</td>\n    </tr>\n    <tr>\n      <th>20812</th>\n      <td>2020-03-31</td>\n      <td>Washington, D.C.</td>\n      <td>DC</td>\n      <td>38.89511</td>\n      <td>-77.03637</td>\n      <td>35</td>\n      <td>Good</td>\n      <td>Ozone</td>\n    </tr>\n  </tbody>\n</table>\n<p>20813 rows × 8 columns</p>\n</div>"
     },
     "metadata": {},
     "execution_count": 34
    }
   ],
   "source": [
    "#Clean up the dataframe and keep only the desired fields\n",
    "data_df = data_df[[\"Date\",\"City\",\"State\",\"Lat\",\"Lng\",\"AQI\",\"Category\",\"Defining Parameter\"]]\n",
    "\n",
    "data_df"
   ]
  },
  {
   "cell_type": "code",
   "execution_count": 35,
   "metadata": {},
   "outputs": [],
   "source": [
    "data_df.to_csv(\"sample_data.csv\", index=False)"
   ]
  },
  {
   "cell_type": "code",
   "execution_count": 36,
   "metadata": {},
   "outputs": [
    {
     "output_type": "execute_result",
     "data": {
      "text/plain": "Charlotte           487\nSalt Lake City      487\nOmaha               486\nFresno              486\nDenver              468\nPortland            461\nOklahoma City       457\nLittle Rock         457\nColumbia            457\nJacksonville        457\nJackson             457\nRaleigh             457\nColumbus            457\nNew York City       457\nPhoenix             457\nMemphis             456\nAtlanta             456\nTucson              456\nIndianapolis        456\nWashington, D.C.    456\nRichmond            456\nSan Antonio         456\nChicago             456\nBaltimore           455\nMiami               454\nPhiladelphia        453\nProvidence          429\nBoston              426\nSan Jose            425\nSacramento          425\nSpringfield         418\nDallas              397\nEl Paso             397\nSeattle             397\nAustin              397\nSan Diego           367\nHouston             366\nMilwaukee           365\nDetroit             365\nMadison             365\nBoise               365\nHartford            365\nSan Francisco       365\nAlbuquerque         365\nLos Angeles         365\nNashville           365\nTallahassee         365\nSaint Paul          365\nSalem               356\nName: City, dtype: int64"
     },
     "metadata": {},
     "execution_count": 36
    }
   ],
   "source": [
    "#Get value counts of the cities to see where data discrepancies are\n",
    "data_df[\"City\"].value_counts()"
   ]
  },
  {
   "cell_type": "code",
   "execution_count": 3,
   "metadata": {},
   "outputs": [],
   "source": [
    "missing2020_df = pd.read_csv(\"aqidaily2020.csv\")\n",
    "data_df = pd.read_csv(\"sample_data.csv\")"
   ]
  },
  {
   "cell_type": "code",
   "execution_count": 9,
   "metadata": {},
   "outputs": [
    {
     "output_type": "stream",
     "name": "stdout",
     "text": "Date                   object\nCITY                   object\nState                  object\nLat                   float64\nLng                   float64\nAQI                     int64\nCategory              float64\nDefining Parameter     object\nSource                 object\nCO                     object\nOzone                  object\nSO2                    object\nPM10                   object\nPM25                   object\nNO2                    object\ndtype: object\n"
    },
    {
     "output_type": "execute_result",
     "data": {
      "text/plain": "       Date         CITY State       Lat        Lng  AQI  Category  \\\n0  1/1/2020  Albuquerque    NM  35.08449 -106.65114   54       NaN   \n1  1/2/2020  Albuquerque    NM  35.08449 -106.65114   39       NaN   \n2  1/3/2020  Albuquerque    NM  35.08449 -106.65114   38       NaN   \n3  1/4/2020  Albuquerque    NM  35.08449 -106.65114   50       NaN   \n4  1/5/2020  Albuquerque    NM  35.08449 -106.65114   63       NaN   \n\n  Defining Parameter  Source  CO Ozone  SO2 PM10 PM25  NO2  \n0              PM2.5  AirNow  42    54  NaN  NaN  NaN  NaN  \n1              Ozone  AirNow  39    30  NaN  NaN  NaN  NaN  \n2              Ozone  AirNow  38    37  NaN  NaN  NaN  NaN  \n3              PM2.5  AirNow  36    50  NaN  NaN  NaN  NaN  \n4              PM2.5  AirNow  37    63  NaN  NaN  NaN  NaN  ",
      "text/html": "<div>\n<style scoped>\n    .dataframe tbody tr th:only-of-type {\n        vertical-align: middle;\n    }\n\n    .dataframe tbody tr th {\n        vertical-align: top;\n    }\n\n    .dataframe thead th {\n        text-align: right;\n    }\n</style>\n<table border=\"1\" class=\"dataframe\">\n  <thead>\n    <tr style=\"text-align: right;\">\n      <th></th>\n      <th>Date</th>\n      <th>CITY</th>\n      <th>State</th>\n      <th>Lat</th>\n      <th>Lng</th>\n      <th>AQI</th>\n      <th>Category</th>\n      <th>Defining Parameter</th>\n      <th>Source</th>\n      <th>CO</th>\n      <th>Ozone</th>\n      <th>SO2</th>\n      <th>PM10</th>\n      <th>PM25</th>\n      <th>NO2</th>\n    </tr>\n  </thead>\n  <tbody>\n    <tr>\n      <th>0</th>\n      <td>1/1/2020</td>\n      <td>Albuquerque</td>\n      <td>NM</td>\n      <td>35.08449</td>\n      <td>-106.65114</td>\n      <td>54</td>\n      <td>NaN</td>\n      <td>PM2.5</td>\n      <td>AirNow</td>\n      <td>42</td>\n      <td>54</td>\n      <td>NaN</td>\n      <td>NaN</td>\n      <td>NaN</td>\n      <td>NaN</td>\n    </tr>\n    <tr>\n      <th>1</th>\n      <td>1/2/2020</td>\n      <td>Albuquerque</td>\n      <td>NM</td>\n      <td>35.08449</td>\n      <td>-106.65114</td>\n      <td>39</td>\n      <td>NaN</td>\n      <td>Ozone</td>\n      <td>AirNow</td>\n      <td>39</td>\n      <td>30</td>\n      <td>NaN</td>\n      <td>NaN</td>\n      <td>NaN</td>\n      <td>NaN</td>\n    </tr>\n    <tr>\n      <th>2</th>\n      <td>1/3/2020</td>\n      <td>Albuquerque</td>\n      <td>NM</td>\n      <td>35.08449</td>\n      <td>-106.65114</td>\n      <td>38</td>\n      <td>NaN</td>\n      <td>Ozone</td>\n      <td>AirNow</td>\n      <td>38</td>\n      <td>37</td>\n      <td>NaN</td>\n      <td>NaN</td>\n      <td>NaN</td>\n      <td>NaN</td>\n    </tr>\n    <tr>\n      <th>3</th>\n      <td>1/4/2020</td>\n      <td>Albuquerque</td>\n      <td>NM</td>\n      <td>35.08449</td>\n      <td>-106.65114</td>\n      <td>50</td>\n      <td>NaN</td>\n      <td>PM2.5</td>\n      <td>AirNow</td>\n      <td>36</td>\n      <td>50</td>\n      <td>NaN</td>\n      <td>NaN</td>\n      <td>NaN</td>\n      <td>NaN</td>\n    </tr>\n    <tr>\n      <th>4</th>\n      <td>1/5/2020</td>\n      <td>Albuquerque</td>\n      <td>NM</td>\n      <td>35.08449</td>\n      <td>-106.65114</td>\n      <td>63</td>\n      <td>NaN</td>\n      <td>PM2.5</td>\n      <td>AirNow</td>\n      <td>37</td>\n      <td>63</td>\n      <td>NaN</td>\n      <td>NaN</td>\n      <td>NaN</td>\n      <td>NaN</td>\n    </tr>\n  </tbody>\n</table>\n</div>"
     },
     "metadata": {},
     "execution_count": 9
    }
   ],
   "source": [
    "print(missing2020_df.dtypes)\n",
    "missing2020_df.head()"
   ]
  },
  {
   "cell_type": "code",
   "execution_count": 18,
   "metadata": {},
   "outputs": [],
   "source": [
    "missing2020_df.loc[missing2020_df[\"AQI\"] <= 50, 'Category'] = \"Good\"\n",
    "missing2020_df.loc[(missing2020_df[\"AQI\"] > 50) & (missing2020_df[\"AQI\"] <= 100), 'Category'] = \"Moderate\"\n",
    "missing2020_df.loc[(missing2020_df[\"AQI\"] > 100) & (missing2020_df[\"AQI\"] <= 150), 'Category'] = \"Unhealthy for Sensitive Groups\"\n",
    "missing2020_df.loc[(missing2020_df[\"AQI\"] > 150) & (missing2020_df[\"AQI\"] <= 200), 'Category'] = \"Unhealthy\"\n",
    "missing2020_df.loc[(missing2020_df[\"AQI\"] > 250) & (missing2020_df[\"AQI\"] <= 300), 'Category'] = \"Very Unhealthy\"\n",
    "missing2020_df.loc[missing2020_df[\"AQI\"] > 300, 'Category'] = \"Hazardous\""
   ]
  },
  {
   "cell_type": "code",
   "execution_count": 19,
   "metadata": {},
   "outputs": [
    {
     "output_type": "execute_result",
     "data": {
      "text/plain": "       Date         CITY State       Lat        Lng  AQI  Category  \\\n0  1/1/2020  Albuquerque    NM  35.08449 -106.65114   54  Moderate   \n1  1/2/2020  Albuquerque    NM  35.08449 -106.65114   39      Good   \n2  1/3/2020  Albuquerque    NM  35.08449 -106.65114   38      Good   \n3  1/4/2020  Albuquerque    NM  35.08449 -106.65114   50      Good   \n4  1/5/2020  Albuquerque    NM  35.08449 -106.65114   63  Moderate   \n\n  Defining Parameter  Source  CO Ozone  SO2 PM10 PM25  NO2  \n0              PM2.5  AirNow  42    54  NaN  NaN  NaN  NaN  \n1              Ozone  AirNow  39    30  NaN  NaN  NaN  NaN  \n2              Ozone  AirNow  38    37  NaN  NaN  NaN  NaN  \n3              PM2.5  AirNow  36    50  NaN  NaN  NaN  NaN  \n4              PM2.5  AirNow  37    63  NaN  NaN  NaN  NaN  ",
      "text/html": "<div>\n<style scoped>\n    .dataframe tbody tr th:only-of-type {\n        vertical-align: middle;\n    }\n\n    .dataframe tbody tr th {\n        vertical-align: top;\n    }\n\n    .dataframe thead th {\n        text-align: right;\n    }\n</style>\n<table border=\"1\" class=\"dataframe\">\n  <thead>\n    <tr style=\"text-align: right;\">\n      <th></th>\n      <th>Date</th>\n      <th>CITY</th>\n      <th>State</th>\n      <th>Lat</th>\n      <th>Lng</th>\n      <th>AQI</th>\n      <th>Category</th>\n      <th>Defining Parameter</th>\n      <th>Source</th>\n      <th>CO</th>\n      <th>Ozone</th>\n      <th>SO2</th>\n      <th>PM10</th>\n      <th>PM25</th>\n      <th>NO2</th>\n    </tr>\n  </thead>\n  <tbody>\n    <tr>\n      <th>0</th>\n      <td>1/1/2020</td>\n      <td>Albuquerque</td>\n      <td>NM</td>\n      <td>35.08449</td>\n      <td>-106.65114</td>\n      <td>54</td>\n      <td>Moderate</td>\n      <td>PM2.5</td>\n      <td>AirNow</td>\n      <td>42</td>\n      <td>54</td>\n      <td>NaN</td>\n      <td>NaN</td>\n      <td>NaN</td>\n      <td>NaN</td>\n    </tr>\n    <tr>\n      <th>1</th>\n      <td>1/2/2020</td>\n      <td>Albuquerque</td>\n      <td>NM</td>\n      <td>35.08449</td>\n      <td>-106.65114</td>\n      <td>39</td>\n      <td>Good</td>\n      <td>Ozone</td>\n      <td>AirNow</td>\n      <td>39</td>\n      <td>30</td>\n      <td>NaN</td>\n      <td>NaN</td>\n      <td>NaN</td>\n      <td>NaN</td>\n    </tr>\n    <tr>\n      <th>2</th>\n      <td>1/3/2020</td>\n      <td>Albuquerque</td>\n      <td>NM</td>\n      <td>35.08449</td>\n      <td>-106.65114</td>\n      <td>38</td>\n      <td>Good</td>\n      <td>Ozone</td>\n      <td>AirNow</td>\n      <td>38</td>\n      <td>37</td>\n      <td>NaN</td>\n      <td>NaN</td>\n      <td>NaN</td>\n      <td>NaN</td>\n    </tr>\n    <tr>\n      <th>3</th>\n      <td>1/4/2020</td>\n      <td>Albuquerque</td>\n      <td>NM</td>\n      <td>35.08449</td>\n      <td>-106.65114</td>\n      <td>50</td>\n      <td>Good</td>\n      <td>PM2.5</td>\n      <td>AirNow</td>\n      <td>36</td>\n      <td>50</td>\n      <td>NaN</td>\n      <td>NaN</td>\n      <td>NaN</td>\n      <td>NaN</td>\n    </tr>\n    <tr>\n      <th>4</th>\n      <td>1/5/2020</td>\n      <td>Albuquerque</td>\n      <td>NM</td>\n      <td>35.08449</td>\n      <td>-106.65114</td>\n      <td>63</td>\n      <td>Moderate</td>\n      <td>PM2.5</td>\n      <td>AirNow</td>\n      <td>37</td>\n      <td>63</td>\n      <td>NaN</td>\n      <td>NaN</td>\n      <td>NaN</td>\n      <td>NaN</td>\n    </tr>\n  </tbody>\n</table>\n</div>"
     },
     "metadata": {},
     "execution_count": 19
    }
   ],
   "source": [
    "missing2020_df.head()"
   ]
  },
  {
   "cell_type": "code",
   "execution_count": 22,
   "metadata": {},
   "outputs": [],
   "source": [
    "missing2020_df = missing2020_df.rename(columns = {\"CITY\":\"City\",\"Defining Parameter\":\"Defining_Parameter\"})\n",
    "data_df = data_df.rename({\"Defining Parameter\":\"Defining_Parameter\"})"
   ]
  },
  {
   "cell_type": "code",
   "execution_count": 23,
   "metadata": {},
   "outputs": [],
   "source": [
    "missing2020_df = missing2020_df[[\"Date\",\"City\",\"State\",\"Lat\",\"Lng\",\"AQI\",\"Category\",\"Defining_Parameter\"]]"
   ]
  },
  {
   "cell_type": "code",
   "execution_count": 24,
   "metadata": {},
   "outputs": [],
   "source": [
    "data_df = data_df.append(missing2020_df)"
   ]
  },
  {
   "cell_type": "code",
   "execution_count": 25,
   "metadata": {},
   "outputs": [
    {
     "output_type": "execute_result",
     "data": {
      "text/plain": "Charlotte           637\nSalt Lake City      637\nOmaha               636\nFresno              636\nDenver              618\nPortland            611\nPhoenix             608\nColumbia            607\nJackson             607\nColumbus            607\nNew York City       607\nJacksonville        607\nRaleigh             607\nOklahoma City       607\nAtlanta             606\nChicago             606\nMemphis             606\nTucson              606\nIndianapolis        606\nSan Antonio         606\nLittle Rock         606\nRichmond            606\nWashington, D.C.    606\nBaltimore           604\nMiami               604\nPhiladelphia        603\nProvidence          579\nBoston              576\nSan Jose            575\nSacramento          575\nSpringfield         566\nSeattle             547\nDallas              545\nAustin              545\nEl Paso             544\nSan Diego           517\nSaint Paul          516\nBoise               515\nSan Francisco       515\nLos Angeles         515\nHartford            515\nNashville           515\nDetroit             515\nAlbuquerque         515\nHouston             513\nMadison             511\nTallahassee         511\nMilwaukee           511\nSalem               506\nName: City, dtype: int64"
     },
     "metadata": {},
     "execution_count": 25
    }
   ],
   "source": [
    "data_df[\"City\"].value_counts()"
   ]
  },
  {
   "cell_type": "code",
   "execution_count": null,
   "metadata": {},
   "outputs": [],
   "source": []
  }
 ],
 "metadata": {
  "language_info": {
   "codemirror_mode": {
    "name": "ipython",
    "version": 3
   },
   "file_extension": ".py",
   "mimetype": "text/x-python",
   "name": "python",
   "nbconvert_exporter": "python",
   "pygments_lexer": "ipython3",
   "version": "3.7.4-final"
  },
  "orig_nbformat": 2,
  "kernelspec": {
   "name": "python37464bitpythondatacondaaf71fc3f5dd34866a438487bc0d8ac87",
   "display_name": "Python 3.7.4 64-bit ('PythonData': conda)"
  }
 },
 "nbformat": 4,
 "nbformat_minor": 2
}
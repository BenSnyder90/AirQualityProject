{
 "cells": [
  {
   "cell_type": "code",
   "execution_count": 10,
   "metadata": {},
   "outputs": [],
   "source": [
    "import json\n",
    "import pandas as pd\n",
    "import requests\n",
    "from pprint import pprint"
   ]
  },
  {
   "cell_type": "code",
   "execution_count": 14,
   "metadata": {},
   "outputs": [
    {
     "output_type": "execute_result",
     "data": {
      "text/plain": "           CBSA  CBSA Code        Date  AQI Category Defining Parameter  \\\n0  Aberdeen, SD      10100  2019-01-03    4     Good               PM10   \n1  Aberdeen, SD      10100  2019-01-06   31     Good              PM2.5   \n2  Aberdeen, SD      10100  2019-01-09    9     Good               PM10   \n3  Aberdeen, SD      10100  2019-01-12   43     Good              PM2.5   \n4  Aberdeen, SD      10100  2019-01-15   28     Good              PM2.5   \n\n  Defining Site  Number of Sites Reporting  \n0   46-013-0003                          1  \n1   46-013-0003                          1  \n2   46-013-0003                          1  \n3   46-013-0003                          1  \n4   46-013-0003                          1  ",
      "text/html": "<div>\n<style scoped>\n    .dataframe tbody tr th:only-of-type {\n        vertical-align: middle;\n    }\n\n    .dataframe tbody tr th {\n        vertical-align: top;\n    }\n\n    .dataframe thead th {\n        text-align: right;\n    }\n</style>\n<table border=\"1\" class=\"dataframe\">\n  <thead>\n    <tr style=\"text-align: right;\">\n      <th></th>\n      <th>CBSA</th>\n      <th>CBSA Code</th>\n      <th>Date</th>\n      <th>AQI</th>\n      <th>Category</th>\n      <th>Defining Parameter</th>\n      <th>Defining Site</th>\n      <th>Number of Sites Reporting</th>\n    </tr>\n  </thead>\n  <tbody>\n    <tr>\n      <th>0</th>\n      <td>Aberdeen, SD</td>\n      <td>10100</td>\n      <td>2019-01-03</td>\n      <td>4</td>\n      <td>Good</td>\n      <td>PM10</td>\n      <td>46-013-0003</td>\n      <td>1</td>\n    </tr>\n    <tr>\n      <th>1</th>\n      <td>Aberdeen, SD</td>\n      <td>10100</td>\n      <td>2019-01-06</td>\n      <td>31</td>\n      <td>Good</td>\n      <td>PM2.5</td>\n      <td>46-013-0003</td>\n      <td>1</td>\n    </tr>\n    <tr>\n      <th>2</th>\n      <td>Aberdeen, SD</td>\n      <td>10100</td>\n      <td>2019-01-09</td>\n      <td>9</td>\n      <td>Good</td>\n      <td>PM10</td>\n      <td>46-013-0003</td>\n      <td>1</td>\n    </tr>\n    <tr>\n      <th>3</th>\n      <td>Aberdeen, SD</td>\n      <td>10100</td>\n      <td>2019-01-12</td>\n      <td>43</td>\n      <td>Good</td>\n      <td>PM2.5</td>\n      <td>46-013-0003</td>\n      <td>1</td>\n    </tr>\n    <tr>\n      <th>4</th>\n      <td>Aberdeen, SD</td>\n      <td>10100</td>\n      <td>2019-01-15</td>\n      <td>28</td>\n      <td>Good</td>\n      <td>PM2.5</td>\n      <td>46-013-0003</td>\n      <td>1</td>\n    </tr>\n  </tbody>\n</table>\n</div>"
     },
     "metadata": {},
     "execution_count": 14
    }
   ],
   "source": [
    "aqi_df = pd.read_csv(\"assets/sample_data/daily_aqi_by_cbsa_2019.csv\")\n",
    "\n",
    "aqi_df.head()"
   ]
  },
  {
   "cell_type": "code",
   "execution_count": null,
   "metadata": {},
   "outputs": [],
   "source": [
    "url = \"https://aqicn.org/data-platform/covid19/airquality-covid19-cities.json\""
   ]
  },
  {
   "cell_type": "code",
   "execution_count": 24,
   "metadata": {},
   "outputs": [
    {
     "output_type": "execute_result",
     "data": {
      "text/plain": "    csvsize                                               data  \\\n0  46726470  {'Place': {'geo': [38.53575, 68.77905], 'featu...   \n1  46726470  {'Place': {'geo': [24.45118, 54.39696], 'featu...   \n2  46726470  {'Place': {'geo': [25.07725, 55.30927], 'featu...   \n3  46726470  {'Place': {'geo': [60.29414, 25.04099], 'featu...   \n4  46726470  {'Place': {'geo': [60.45148, 22.26869], 'featu...   \n\n                   generated  \n0  2020-05-28T20:54:02+01:00  \n1  2020-05-28T20:54:02+01:00  \n2  2020-05-28T20:54:02+01:00  \n3  2020-05-28T20:54:02+01:00  \n4  2020-05-28T20:54:02+01:00  ",
      "text/html": "<div>\n<style scoped>\n    .dataframe tbody tr th:only-of-type {\n        vertical-align: middle;\n    }\n\n    .dataframe tbody tr th {\n        vertical-align: top;\n    }\n\n    .dataframe thead th {\n        text-align: right;\n    }\n</style>\n<table border=\"1\" class=\"dataframe\">\n  <thead>\n    <tr style=\"text-align: right;\">\n      <th></th>\n      <th>csvsize</th>\n      <th>data</th>\n      <th>generated</th>\n    </tr>\n  </thead>\n  <tbody>\n    <tr>\n      <th>0</th>\n      <td>46726470</td>\n      <td>{'Place': {'geo': [38.53575, 68.77905], 'featu...</td>\n      <td>2020-05-28T20:54:02+01:00</td>\n    </tr>\n    <tr>\n      <th>1</th>\n      <td>46726470</td>\n      <td>{'Place': {'geo': [24.45118, 54.39696], 'featu...</td>\n      <td>2020-05-28T20:54:02+01:00</td>\n    </tr>\n    <tr>\n      <th>2</th>\n      <td>46726470</td>\n      <td>{'Place': {'geo': [25.07725, 55.30927], 'featu...</td>\n      <td>2020-05-28T20:54:02+01:00</td>\n    </tr>\n    <tr>\n      <th>3</th>\n      <td>46726470</td>\n      <td>{'Place': {'geo': [60.29414, 25.04099], 'featu...</td>\n      <td>2020-05-28T20:54:02+01:00</td>\n    </tr>\n    <tr>\n      <th>4</th>\n      <td>46726470</td>\n      <td>{'Place': {'geo': [60.45148, 22.26869], 'featu...</td>\n      <td>2020-05-28T20:54:02+01:00</td>\n    </tr>\n  </tbody>\n</table>\n</div>"
     },
     "metadata": {},
     "execution_count": 24
    }
   ],
   "source": [
    "df = pd.read_json(url)\n",
    "\n",
    "df.head()"
   ]
  },
  {
   "cell_type": "code",
   "execution_count": 27,
   "metadata": {
    "tags": [
     "outputPrepend",
     "outputPrepend",
     "outputPrepend",
     "outputPrepend",
     "outputPrepend",
     "outputPrepend",
     "outputPrepend",
     "outputPrepend",
     "outputPrepend",
     "outputPrepend",
     "outputPrepend",
     "outputPrepend",
     "outputPrepend"
    ]
   },
   "outputs": [
    {
     "output_type": "execute_result",
     "data": {
      "text/plain": "    csvsize                                               data  \\\n0  46726470  {'Place': {'geo': [38.53575, 68.77905], 'featu...   \n1  46726470  {'Place': {'geo': [24.45118, 54.39696], 'featu...   \n2  46726470  {'Place': {'geo': [25.07725, 55.30927], 'featu...   \n3  46726470  {'Place': {'geo': [60.29414, 25.04099], 'featu...   \n4  46726470  {'Place': {'geo': [60.45148, 22.26869], 'featu...   \n\n                   generated  \n0  2020-05-28T20:54:02+01:00  \n1  2020-05-28T20:54:02+01:00  \n2  2020-05-28T20:54:02+01:00  \n3  2020-05-28T20:54:02+01:00  \n4  2020-05-28T20:54:02+01:00  ",
      "text/html": "<div>\n<style scoped>\n    .dataframe tbody tr th:only-of-type {\n        vertical-align: middle;\n    }\n\n    .dataframe tbody tr th {\n        vertical-align: top;\n    }\n\n    .dataframe thead th {\n        text-align: right;\n    }\n</style>\n<table border=\"1\" class=\"dataframe\">\n  <thead>\n    <tr style=\"text-align: right;\">\n      <th></th>\n      <th>csvsize</th>\n      <th>data</th>\n      <th>generated</th>\n    </tr>\n  </thead>\n  <tbody>\n    <tr>\n      <th>0</th>\n      <td>46726470</td>\n      <td>{'Place': {'geo': [38.53575, 68.77905], 'featu...</td>\n      <td>2020-05-28T20:54:02+01:00</td>\n    </tr>\n    <tr>\n      <th>1</th>\n      <td>46726470</td>\n      <td>{'Place': {'geo': [24.45118, 54.39696], 'featu...</td>\n      <td>2020-05-28T20:54:02+01:00</td>\n    </tr>\n    <tr>\n      <th>2</th>\n      <td>46726470</td>\n      <td>{'Place': {'geo': [25.07725, 55.30927], 'featu...</td>\n      <td>2020-05-28T20:54:02+01:00</td>\n    </tr>\n    <tr>\n      <th>3</th>\n      <td>46726470</td>\n      <td>{'Place': {'geo': [60.29414, 25.04099], 'featu...</td>\n      <td>2020-05-28T20:54:02+01:00</td>\n    </tr>\n    <tr>\n      <th>4</th>\n      <td>46726470</td>\n      <td>{'Place': {'geo': [60.45148, 22.26869], 'featu...</td>\n      <td>2020-05-28T20:54:02+01:00</td>\n    </tr>\n  </tbody>\n</table>\n</div>"
     },
     "metadata": {},
     "execution_count": 27
    }
   ],
   "source": [
    "response = json.loads(requests.get(url).text)\n",
    "\n",
    "geo_df = pd.DataFrame(response)\n",
    "#pprint(response)\n",
    "geo_df.head()"
   ]
  },
  {
   "cell_type": "code",
   "execution_count": 22,
   "metadata": {},
   "outputs": [
    {
     "output_type": "error",
     "ename": "AttributeError",
     "evalue": "'dict' object has no attribute 'headers'",
     "traceback": [
      "\u001b[1;31m---------------------------------------------------------------------------\u001b[0m",
      "\u001b[1;31mAttributeError\u001b[0m                            Traceback (most recent call last)",
      "\u001b[1;32m<ipython-input-22-24ed8d0e848b>\u001b[0m in \u001b[0;36m<module>\u001b[1;34m\u001b[0m\n\u001b[1;32m----> 1\u001b[1;33m \u001b[0mresponse\u001b[0m\u001b[1;33m.\u001b[0m\u001b[0mheaders\u001b[0m\u001b[1;33m\u001b[0m\u001b[1;33m\u001b[0m\u001b[0m\n\u001b[0m",
      "\u001b[1;31mAttributeError\u001b[0m: 'dict' object has no attribute 'headers'"
     ]
    }
   ],
   "source": [
    "response.headers"
   ]
  },
  {
   "cell_type": "code",
   "execution_count": 18,
   "metadata": {},
   "outputs": [
    {
     "output_type": "execute_result",
     "data": {
      "text/plain": "    csvsize                                               data  \\\n0  46726470  {'Place': {'geo': [38.53575, 68.77905], 'featu...   \n1  46726470  {'Place': {'geo': [24.45118, 54.39696], 'featu...   \n2  46726470  {'Place': {'geo': [25.07725, 55.30927], 'featu...   \n3  46726470  {'Place': {'geo': [60.29414, 25.04099], 'featu...   \n4  46726470  {'Place': {'geo': [60.45148, 22.26869], 'featu...   \n\n                   generated  \n0  2020-05-28T20:54:02+01:00  \n1  2020-05-28T20:54:02+01:00  \n2  2020-05-28T20:54:02+01:00  \n3  2020-05-28T20:54:02+01:00  \n4  2020-05-28T20:54:02+01:00  ",
      "text/html": "<div>\n<style scoped>\n    .dataframe tbody tr th:only-of-type {\n        vertical-align: middle;\n    }\n\n    .dataframe tbody tr th {\n        vertical-align: top;\n    }\n\n    .dataframe thead th {\n        text-align: right;\n    }\n</style>\n<table border=\"1\" class=\"dataframe\">\n  <thead>\n    <tr style=\"text-align: right;\">\n      <th></th>\n      <th>csvsize</th>\n      <th>data</th>\n      <th>generated</th>\n    </tr>\n  </thead>\n  <tbody>\n    <tr>\n      <th>0</th>\n      <td>46726470</td>\n      <td>{'Place': {'geo': [38.53575, 68.77905], 'featu...</td>\n      <td>2020-05-28T20:54:02+01:00</td>\n    </tr>\n    <tr>\n      <th>1</th>\n      <td>46726470</td>\n      <td>{'Place': {'geo': [24.45118, 54.39696], 'featu...</td>\n      <td>2020-05-28T20:54:02+01:00</td>\n    </tr>\n    <tr>\n      <th>2</th>\n      <td>46726470</td>\n      <td>{'Place': {'geo': [25.07725, 55.30927], 'featu...</td>\n      <td>2020-05-28T20:54:02+01:00</td>\n    </tr>\n    <tr>\n      <th>3</th>\n      <td>46726470</td>\n      <td>{'Place': {'geo': [60.29414, 25.04099], 'featu...</td>\n      <td>2020-05-28T20:54:02+01:00</td>\n    </tr>\n    <tr>\n      <th>4</th>\n      <td>46726470</td>\n      <td>{'Place': {'geo': [60.45148, 22.26869], 'featu...</td>\n      <td>2020-05-28T20:54:02+01:00</td>\n    </tr>\n  </tbody>\n</table>\n</div>"
     },
     "metadata": {},
     "execution_count": 18
    }
   ],
   "source": [
    "geo_df = pd.DataFrame(response)\n",
    "#pprint(response)\n",
    "geo_df.head()"
   ]
  },
  {
   "cell_type": "code",
   "execution_count": 28,
   "metadata": {},
   "outputs": [
    {
     "output_type": "execute_result",
     "data": {
      "text/plain": "                                                data\n0  {'Place': {'geo': [38.53575, 68.77905], 'featu...\n1  {'Place': {'geo': [24.45118, 54.39696], 'featu...\n2  {'Place': {'geo': [25.07725, 55.30927], 'featu...\n3  {'Place': {'geo': [60.29414, 25.04099], 'featu...\n4  {'Place': {'geo': [60.45148, 22.26869], 'featu...",
      "text/html": "<div>\n<style scoped>\n    .dataframe tbody tr th:only-of-type {\n        vertical-align: middle;\n    }\n\n    .dataframe tbody tr th {\n        vertical-align: top;\n    }\n\n    .dataframe thead th {\n        text-align: right;\n    }\n</style>\n<table border=\"1\" class=\"dataframe\">\n  <thead>\n    <tr style=\"text-align: right;\">\n      <th></th>\n      <th>data</th>\n    </tr>\n  </thead>\n  <tbody>\n    <tr>\n      <th>0</th>\n      <td>{'Place': {'geo': [38.53575, 68.77905], 'featu...</td>\n    </tr>\n    <tr>\n      <th>1</th>\n      <td>{'Place': {'geo': [24.45118, 54.39696], 'featu...</td>\n    </tr>\n    <tr>\n      <th>2</th>\n      <td>{'Place': {'geo': [25.07725, 55.30927], 'featu...</td>\n    </tr>\n    <tr>\n      <th>3</th>\n      <td>{'Place': {'geo': [60.29414, 25.04099], 'featu...</td>\n    </tr>\n    <tr>\n      <th>4</th>\n      <td>{'Place': {'geo': [60.45148, 22.26869], 'featu...</td>\n    </tr>\n  </tbody>\n</table>\n</div>"
     },
     "metadata": {},
     "execution_count": 28
    }
   ],
   "source": [
    "geo_df = geo_df[['data']]\n",
    "\n",
    "geo_df.head()"
   ]
  },
  {
   "cell_type": "code",
   "execution_count": 29,
   "metadata": {},
   "outputs": [
    {
     "output_type": "execute_result",
     "data": {
      "text/plain": "  593: {'Place': {'geo': [43.42537, -80.5112],\n    'feature': 'PPLA2',\n    'name': 'Kitchener',\n    'country': 'CA',\n    'pop': 233700},\n   'Sources': [{'name': 'Citizen Weather Observer Program (CWOP/APRS)',\n     'url': 'http://wxqa.com/',\n     'pols': ['weather'],\n     'logo': ''},\n    {'name': 'Air Quality Ontario - the Ontario Ministry of the Environment and Climate Change',\n     'url': 'http://www.airqualityontario.com/',\n     'pols': None,\n     'logo': 'Ontario-Ministry-of-the-Environment-and-Climate-Change.png'}],\n   'Stations': [{'Name': 'Brantford, Ontario, Canada'},\n    {'Name': 'Kitchener, Ontario, Canada'}]},\n  594: {'Place': {'geo': [53.55014, -113.46871],\n    'feature': 'PPLA',\n    'name': 'Edmonton',\n    'country': 'CA',\n    'pop': 712391},\n   'Sources': [{'name': 'Citizen Weather Observer Program (CWOP/APRS)',\n     'url': 'http://wxqa.com/',\n     'pols': ['weather'],\n     'logo': ''},\n    {'name': 'Alberta Environment and Sustainable Resource Development - Air Quality monitoring',\n     'url': 'http://aep.alberta.ca/air/',\n     'pols': None,\n     'logo': 'Canada-Alberta.png'}],\n   'Stations': [{'Name': 'Edmonton Central, Alberta, Canada'},\n    {'Name': 'Edmonton South, Alberta, Canada'},\n    {'Name': 'Sherwood Park, Alberta, Canada'},\n    {'Name': 'Bon Accord, Alberta, Canada'},\n    {'Name': 'Woodcroft, Alberta, Canada'},\n    {'Name': 'Gibbons, Alberta, Canada'},\n    {'Name': 'St. Albert, Alberta, Canada'},\n    {'Name': 'Edmonton East, Alberta, Canada'}]},\n  595: {'Place': {'geo': [49.10635, -122.82509],\n    'feature': 'PPL',\n    'name': 'Surrey',\n    'country': 'CA',\n    'pop': 394976},\n   'Sources': [{'name': 'Citizen Weather Observer Program (CWOP/APRS)',\n     'url': 'http://wxqa.com/',\n     'pols': ['weather'],\n     'logo': ''},\n    {'name': 'British Columbia, Canada Air Quality Monitoring Agency',\n     'url': 'https://www2.gov.bc.ca/gov/content/environment/air-land-water/air',\n     'pols': None,\n     'logo': 'Canada-BritishColumbia.png'}],\n   'Stations': [{'Name': 'Surrey East, British Comlumbia, Canada'},\n    {'Name': 'Pitt Meadow Meadowlands School, British Comlumbia, Canada'},\n    {'Name': 'North Delta, British Comlumbia, Canada'},\n    {'Name': 'Port Moody Rocky Point Park, British Comlumbia, Canada'}]},\n  596: {'Place': {'geo': [43.5789, -79.6583],\n    'feature': 'PPL',\n    'name': 'Mississauga',\n    'country': 'CA',\n    'pop': 668549},\n   'Sources': [{'name': 'Citizen Weather Observer Program (CWOP/APRS)',\n     'url': 'http://wxqa.com/',\n     'pols': ['weather'],\n     'logo': ''},\n    {'name': 'Air Quality Ontario - the Ontario Ministry of the Environment and Climate Change',\n     'url': 'http://www.airqualityontario.com/',\n     'pols': None,\n     'logo': 'Ontario-Ministry-of-the-Environment-and-Climate-Change.png'}],\n   'Stations': [{'Name': 'Oakville, Ontario, Canada'},\n    {'Name': 'Mississauga, Ontario, Canada'},\n    {'Name': 'Barrie, Ontario, Canada'}]},\n  597: {'Place': {'geo': [46.81228, -71.21454],\n    'feature': 'PPLA',\n    'name': 'Québec',\n    'country': 'CA',\n    'pop': 528595},\n   'Sources': [{'name': 'Citizen Weather Observer Program (CWOP/APRS)',\n     'url': 'http://wxqa.com/',\n     'pols': ['weather'],\n     'logo': ''},\n    {'name': 'Environnement au Québec',\n     'url': 'http://www.mddep.gouv.qc.ca/air/iqa/',\n     'pols': None,\n     'logo': 'Canada-Quebec.png'}],\n   'Stations': [{'Name': 'Québec - secteur du Vieux-Limoilou, Quebec, Canada'},\n    {'Name': 'Lanaudière, Quebec, Canada'},\n    {'Name': 'Lévis - secteur du parc Georges-Maranda, Quebec, Canada'},\n    {'Name': 'Beauce, Quebec, Canada'},\n    {'Name': 'Québec, Quebec, Canada'},\n    {'Name': 'Rouyn-Noranda - secteur du centre-ville, Quebec, Canada'},\n    {'Name': 'Bois-Francs, Quebec, Canada'},\n    {'Name': 'Québec - secteur de Champigny, Quebec, Canada'}]},\n  598: {'Place': {'geo': [49.24966, -123.11934],\n    'feature': 'PPL',\n    'name': 'Vancouver',\n    'country': 'CA',\n    'pop': 600000},\n   'Sources': [{'name': 'Citizen Weather Observer Program (CWOP/APRS)',\n     'url': 'http://wxqa.com/',\n     'pols': ['weather'],\n     'logo': ''},\n    {'name': 'British Columbia, Canada Air Quality Monitoring Agency',\n     'url': 'https://www2.gov.bc.ca/gov/content/environment/air-land-water/air',\n     'pols': None,\n     'logo': 'Canada-BritishColumbia.png'}],\n   'Stations': [{'Name': 'Burnaby South, British Comlumbia, Canada'},\n    {'Name': 'Vancouver Kitsilano, British Comlumbia, Canada'},\n    {'Name': 'Tsawwassen, British Comlumbia, Canada'},\n    {'Name': 'Richmond South, British Comlumbia, Canada'},\n    {'Name': 'Horseshoe Bay, British Comlumbia, Canada'},\n    {'Name': 'Burnaby North Eton, British Comlumbia, Canada'},\n    {'Name': 'Burnaby Kensington Park, British Comlumbia, Canada'},\n    {'Name': 'Vancouver International Airport #2, British Comlumbia, Canada'},\n    {'Name': 'North Vancouver Second Narrows, British Comlumbia, Canada'}]},\n  599: {'Place': {'geo': [48.4359, -123.35155],\n    'feature': 'PPLA',\n    'name': 'Victoria',\n    'country': 'CA',\n    'pop': 289625},\n   'Sources': [{'name': 'Citizen Weather Observer Program (CWOP/APRS)',\n     'url': 'http://wxqa.com/',\n     'pols': ['weather'],\n     'logo': ''},\n    {'name': 'British Columbia, Canada Air Quality Monitoring Agency',\n     'url': 'https://www2.gov.bc.ca/gov/content/environment/air-land-water/air',\n     'pols': None,\n     'logo': 'Canada-BritishColumbia.png'}],\n   'Stations': [{'Name': 'Esquimalt Graving Dock, British Comlumbia, Canada'},\n    {'Name': 'Colwood City Hall, British Comlumbia, Canada'},\n    {'Name': 'Victoria Topaz, British Comlumbia, Canada'}]},\n  600: {'Place': {'geo': [45.50884, -73.58781],\n    'feature': 'PPLA2',\n    'name': 'Montréal',\n    'country': 'CA',\n    'pop': 1600000},\n   'Sources': [{'name': 'Citizen Weather Observer Program (CWOP/APRS)',\n     'url': 'http://wxqa.com/',\n     'pols': ['weather'],\n     'logo': ''},\n    {'name': \"Ville de Montreal - Réseau de surveillance de la qualité de l'air\",\n     'url': 'http://ville.montreal.qc.ca/portal/page?_pageid=7237,74495616&_dad=portal&_schema=PORTAL',\n     'pols': None,\n     'logo': 'Canada-Montreal.png'},\n    {'name': 'Environnement au Québec',\n     'url': 'http://www.mddep.gouv.qc.ca/air/iqa/',\n     'pols': None,\n     'logo': 'Canada-Quebec.png'}],\n   'Stations': [{'Name': 'Saint-Jean-Baptiste, Montreal, Canada'},\n    {'Name': 'Parc Pilon, Montreal, Canada'},\n    {'Name': 'Saint-Michel, Montreal, Canada'},\n    {'Name': 'Hochelaga-Maisonneuve, Montreal, Canada'},\n    {'Name': 'Terrebonne - secteur du parc Vaillant, Quebec, Canada'},\n    {'Name': 'Longueuil - secteur du parc Océanie (Brossard), Quebec, Canada'},\n    {'Name': 'Chénier, Montreal, Canada'},\n    {'Name': 'Drummond, Montreal, Canada'},\n    {'Name': 'Anjou, Montreal, Canada'},\n    {'Name': 'Caserne 17, Montreal, Canada'},\n    {'Name': 'Verdun, Montreal, Canada'},\n    {'Name': 'Échangeur Décarie, Montreal, Canada'},\n    {'Name': 'St-Dominique, Montreal, Canada'},\n    {'Name': 'Molson, Montreal, Canada'},\n    {'Name': 'Roberval, York, Montreal, Canada'},\n    {'Name': 'Aéroport de Montréal, Montreal, Canada'},\n    {'Name': 'Rive-Sud de Montréal, Quebec, Canada'},\n    {'Name': 'Maisonneuve, Montreal, Canada'},\n    {'Name': \"Shawinigan - secteur de L'Assomption, Quebec, Canada\"},\n    {'Name': 'Rivière-des-prairies, Montreal, Canada'},\n    {'Name': 'Laval, Quebec, Canada'},\n    {'Name': 'Jardin Botanique, Montreal, Canada'},\n    {'Name': 'Duncan, Montreal, Canada'},\n    {'Name': 'Brossard - secteur du parc Sorbonne, Quebec, Canada'},\n    {'Name': 'Dorval, Montreal, Canada'},\n    {'Name': 'Ontario, Montreal, Canada'},\n    {'Name': 'Île de Montréal - Centre, Quebec, Canada'}]},\n  601: {'Place': {'geo': [43.70011, -79.4163],\n    'feature': 'PPLA',\n    'name': 'Toronto',\n    'country': 'CA',\n    'pop': 2600000},\n   'Sources': [{'name': 'Citizen Weather Observer Program (CWOP/APRS)',\n     'url': 'http://wxqa.com/',\n     'pols': ['weather'],\n     'logo': ''},\n    {'name': 'Air Quality Ontario - the Ontario Ministry of the Environment and Climate Change',\n     'url': 'http://www.airqualityontario.com/',\n     'pols': None,\n     'logo': 'Ontario-Ministry-of-the-Environment-and-Climate-Change.png'}],\n   'Stations': [{'Name': 'Toronto North, Ontario, Canada'},\n    {'Name': 'Toronto East, Ontario, Canada'},\n    {'Name': 'Toronto West, Ontario, Canada'},\n    {'Name': 'Toronto Downtown, Ontario, Canada'},\n    {'Name': 'St. Catharines, Ontario, Canada'},\n    {'Name': 'Newmarket, Ontario, Canada'}]},\n  602: {'Place': {'geo': [45.41117, -75.69812],\n    'feature': 'PPLC',\n    'name': 'Ottawa',\n    'country': 'CA',\n    'pop': 812129},\n   'Sources': [{'name': 'Citizen Weather Observer Program (CWOP/APRS)',\n     'url': 'http://wxqa.com/',\n     'pols': ['weather'],\n     'logo': ''},\n    {'name': 'Environnement au Québec',\n     'url': 'http://www.mddep.gouv.qc.ca/air/iqa/',\n     'pols': None,\n     'logo': 'Canada-Quebec.png'},\n    {'name': 'Air Quality Ontario - the Ontario Ministry of the Environment and Climate Change',\n     'url': 'http://www.airqualityontario.com/',\n     'pols': None,\n     'logo': 'Ontario-Ministry-of-the-Environment-and-Climate-Change.png'}],\n   'Stations': [{'Name': 'Gatineau - secteur de Hull, Quebec, Canada'},\n    {'Name': 'Ottawa Downtown, Ontario, Canada'},\n    {'Name': 'Gatineau, Quebec, Canada'},\n    {'Name': 'Ottawa Central, Ontario, Canada'}]},\n  603: {'Place': {'geo': [42.98339, -81.23304],\n    'feature': 'PPL',\n    'name': 'London',\n    'country': 'CA',\n    'pop': 346765},\n   'Sources': [{'name': 'Citizen Weather Observer Program (CWOP/APRS)',\n     'url': 'http://wxqa.com/',\n     'pols': ['weather'],\n     'logo': ''},\n    {'name': 'Air Quality Ontario - the Ontario Ministry of the Environment and Climate Change',\n     'url': 'http://www.airqualityontario.com/',\n     'pols': None,\n     'logo': 'Ontario-Ministry-of-the-Environment-and-Climate-Change.png'}],\n   'Stations': [{'Name': 'London, Ontario, Canada'},\n    {'Name': 'Port Stanley, Ontario, Canada'}]},\n  604: {'Place': {'geo': [47.53167, 21.62444],\n    'feature': 'PPLA',\n    'name': 'Debrecen',\n    'country': 'HU',\n    'pop': 204124},\n   'Sources': [{'name': 'Citizen Weather Observer Program (CWOP/APRS)',\n     'url': 'http://wxqa.com/',\n     'pols': ['weather'],\n     'logo': ''},\n    {'name': 'Hungarian Air Quality Network (Maďarský systém na meranie znečistenia vzduchu)',\n     'url': 'http://www.levegominoseg.hu/',\n     'pols': None,\n     'logo': 'Hungary-foldmuvelesugyi.png'}],\n   'Stations': [{'Name': 'Debrecen Klinika, Debrecen, Hungary'},\n    {'Name': 'Debrecen Kalotaszeg tér, Debrecen, Hungary'},\n    {'Name': 'Debrecen Hajnal u., Debrecen, Hungary'}]},\n  605: {'Place': {'geo': [47.68333, 17.63512],\n    'feature': 'PPLA',\n    'name': 'Győr',\n    'country': 'HU',\n    'pop': 128265},\n   'Sources': [{'name': 'Citizen Weather Observer Program (CWOP/APRS)',\n     'url': 'http://wxqa.com/',\n     'pols': ['weather'],\n     'logo': ''},\n    {'name': 'Hungarian Air Quality Network (Maďarský systém na meranie znečistenia vzduchu)',\n     'url': 'http://www.levegominoseg.hu/',\n     'pols': None,\n     'logo': 'Hungary-foldmuvelesugyi.png'}],\n   'Stations': [{'Name': 'Gyor 1 Szent István, Gyor, Hungary'},\n    {'Name': 'Gyor 2 Ifjúság, Gyor, Hungary'}]},\n  606: {'Place': {'geo': [46.253, 20.14824],\n    'feature': 'PPLA',\n    'name': 'Szeged',\n    'country': 'HU',\n    'pop': 164883},\n   'Sources': [{'name': 'Citizen Weather Observer Program (CWOP/APRS)',\n     'url': 'http://wxqa.com/',\n     'pols': ['weather'],\n     'logo': ''},\n    {'name': 'Hungarian Air Quality Network (Maďarský systém na meranie znečistenia vzduchu)',\n     'url': 'http://www.levegominoseg.hu/',\n     'pols': None,\n     'logo': 'Hungary-foldmuvelesugyi.png'}],\n   'Stations': [{'Name': 'Szeged 2 Rózsa u., Szeged, Hungary'},\n    {'Name': 'Szeged, Hungary'}]},\n  607: {'Place': {'geo': [46.0725, 18.23083],\n    'feature': 'PPLA',\n    'name': 'Pécs',\n    'country': 'HU',\n    'pop': 156649},\n   'Sources': [{'name': 'Citizen Weather Observer Program (CWOP/APRS)',\n     'url': 'http://wxqa.com/',\n     'pols': ['weather'],\n     'logo': ''},\n    {'name': 'Hungarian Air Quality Network (Maďarský systém na meranie znečistenia vzduchu)',\n     'url': 'http://www.levegominoseg.hu/',\n     'pols': None,\n     'logo': 'Hungary-foldmuvelesugyi.png'}],\n   'Stations': [{'Name': 'Pécs Nevelési Központ, Pécs, Hungary'},\n    {'Name': 'Pécs Boszorkány u., Pécs, Hungary'},\n    {'Name': 'Pécs Szabadság u., Pécs, Hungary'}]},\n  608: {'Place': {'geo': [46.90618, 19.69128],\n    'feature': 'PPLA',\n    'name': 'Kecskemét',\n    'country': 'HU',\n    'pop': 109847},\n   'Sources': [{'name': 'Citizen Weather Observer Program (CWOP/APRS)',\n     'url': 'http://wxqa.com/',\n     'pols': ['weather'],\n     'logo': ''},\n    {'name': 'Hungarian Air Quality Network (Maďarský systém na meranie znečistenia vzduchu)',\n     'url': 'http://www.levegominoseg.hu/',\n     'pols': None,\n     'logo': 'Hungary-foldmuvelesugyi.png'}],\n   'Stations': [{'Name': 'Kecskemét, Kecskemét, Hungary'},\n    {'Name': 'K-Puszta, K-puszta, Hungary'}]},\n  609: {'Place': {'geo': [48.10306, 20.77806],\n    'feature': 'PPLA',\n    'name': 'Miskolc',\n    'country': 'HU',\n    'pop': 172637},\n   'Sources': [{'name': 'Citizen Weather Observer Program (CWOP/APRS)',\n     'url': 'http://wxqa.com/',\n     'pols': ['weather'],\n     'logo': ''},\n    {'name': 'Hungarian Air Quality Network (Maďarský systém na meranie znečistenia vzduchu)',\n     'url': 'http://www.levegominoseg.hu/',\n     'pols': None,\n     'logo': 'Hungary-foldmuvelesugyi.png'}],\n   'Stations': [{'Name': 'Kazincbarcika, Kazincbarcika, Hungary'},\n    {'Name': 'Miskolc Búza tér, Miskolc, Hungary'},\n    {'Name': 'Miskolc Alföldi, Miskolc, Hungary'},\n    {'Name': 'Sajószentpéter, Sajószentpéter, Hungary'},\n    {'Name': 'Miskolc Lavotta, Miskolc, Hungary'}]},\n  610: {'Place': {'geo': [47.49835, 19.04045],\n    'feature': 'PPLC',\n    'name': 'Budapest',\n    'country': 'HU',\n    'pop': 1741041},\n   'Sources': [{'name': 'Citizen Weather Observer Program (CWOP/APRS)',\n     'url': 'http://wxqa.com/',\n     'pols': ['weather'],\n     'logo': ''},\n    {'name': 'Hungarian Air Quality Network (Maďarský systém na meranie znečistenia vzduchu)',\n     'url': 'http://www.levegominoseg.hu/',\n     'pols': None,\n     'logo': 'Hungary-foldmuvelesugyi.png'}],\n   'Stations': [{'Name': 'Budapest Széna tér, Budapest, Hungary'},\n    {'Name': 'Budapest Pesthidegkút, Budapest, Hungary'},\n    {'Name': 'Budapest Kosztolányi D. tér, Budapest, Hungary'},\n    {'Name': 'Budapest Teleki tér, Budapest, Hungary'},\n    {'Name': 'Budapest Gilice tér, Budapest, Hungary'},\n    {'Name': 'Százhalombatta 3 Liszt Ferenc sétány, Százhalombatta, Hungary'},\n    {'Name': 'BP8 Erzsébet, Budapest, Hungary'},\n    {'Name': 'Százhalombatta 1 Búzavirág tér, Százhalombatta, Hungary'},\n    {'Name': 'Budapest Káposztásmegyer, Budapest, Hungary'},\n    {'Name': 'Budapest Csepel, Budapest, Hungary'},\n    {'Name': 'Budapest Gergely utca, Budapest, Hungary'},\n    {'Name': 'Budapest Honvéd, Budapest, Hungary'},\n    {'Name': 'Százhalombatta 2 Sportpálya, Százhalombatta, Hungary'},\n    {'Name': 'Budapest Erzsébet tér, Budapest, Hungary'},\n    {'Name': 'Budapest Budatétény, Budapest, Hungary'},\n    {'Name': 'Budapest Korakás park, Budapest, Hungary'}]},\n  611: {'Place': {'geo': [0.31628, 32.58219],\n    'feature': 'PPLC',\n    'name': 'Kampala',\n    'country': 'UG',\n    'pop': 1353189},\n   'Sources': [{'name': 'Citizen Weather Observer Program (CWOP/APRS)',\n     'url': 'http://wxqa.com/',\n     'pols': ['weather'],\n     'logo': ''},\n    {'name': 'Kampala Air Quality Monitor - US Embassy',\n     'url': 'https://ug.usembassy.gov/',\n     'pols': ['pm25'],\n     'logo': 'US-StateDepartment.png'}],\n   'Stations': [{'Name': 'Kampala US Embassy, Uganda'}]},\n  612: {'Place': {'geo': [42.67272, 21.16688],\n    'feature': 'PPLC',\n    'name': 'Pristina',\n    'country': 'XK',\n    'pop': 550000},\n   'Sources': [{'name': 'World Meteorological Organization - surface synoptic observations (WMO-SYNOP)',\n     'url': 'http://worldweather.wmo.int',\n     'pols': ['weather'],\n     'logo': ''},\n    {'name': 'Instituti Hidrometeorologjik i Kosovës',\n     'url': 'http://ihmk-rks.net/',\n     'pols': None,\n     'logo': 'Kosovo-IHMK.png'},\n    {'name': 'Pristina Air Quality Monitor - US Consulate',\n     'url': 'https://airnow.gov/index.cfm?action=airnow.global_summary#Kosovo$Pristina',\n     'pols': ['pm25'],\n     'logo': 'US-StateDepartment.png'}],\n   'Stations': [{'Name': 'Prishtine, Rilindje, Kosovo'},\n    {'Name': 'Pristina US Consulate, Kosovo'},\n    {'Name': 'Prishtine - IHMK, Kosovo'}]},\n  613: {'Place': {'geo': [34.52813, 69.17233],\n    'feature': 'PPLC',\n    'name': 'Kabul',\n    'country': 'AF',\n    'pop': 3043532},\n   'Sources': [{'name': 'Citizen Weather Observer Program (CWOP/APRS)',\n     'url': 'http://wxqa.com/',\n     'pols': ['weather'],\n     'logo': ''},\n    {'name': 'Kabul Air Quality Monitor - US Embassy',\n     'url': 'https://af.usembassy.gov/',\n     'pols': ['pm25'],\n     'logo': 'US-StateDepartment.png'}],\n   'Stations': [{'Name': 'Kabul US Embassy, Afganistan'}]},\n  614: {'Place': {'geo': [54.90272, 23.90961],\n    'feature': 'PPLA',\n    'name': 'Kaunas',\n    'country': 'LT',\n    'pop': 374643},\n   'Sources': [{'name': 'Citizen Weather Observer Program (CWOP/APRS)',\n     'url': 'http://wxqa.com/',\n     'pols': ['weather'],\n     'logo': ''},\n    {'name': 'AAA - Aplinkos Apsaugos Agentūra (Lithuania Environmental Protection Agency',\n     'url': 'http://gamta.lt/cms/index',\n     'pols': None,\n     'logo': 'Lithuania-AAA.png'},\n    {'name': 'European Environment Agency',\n     'url': 'http://www.eea.europa.eu/themes/air/',\n     'pols': None,\n     'logo': 'Europe-EEA.png'}],\n   'Stations': [{'Name': 'Kaunas Petrašiūnai, Lithuania'},\n    {'Name': 'Kaunas Noreikiskes, Lithuania'}]},\n  615: {'Place': {'geo': [27.70169, 85.3206],\n    'feature': 'PPLC',\n    'name': 'Kathmandu',\n    'country': 'NP',\n    'pop': 1442271},\n   'Sources': [{'name': 'Citizen Weather Observer Program (CWOP/APRS)',\n     'url': 'http://wxqa.com/',\n     'pols': ['weather'],\n     'logo': ''},\n    {'name': 'Government of Nepal, Ministry of Population and Environment, Department of Environment Air Quality Monitoring',\n     'url': 'http://pollution.gov.np/',\n     'pols': None,\n     'logo': 'Nepal-DEAQM.png'}],\n   'Stations': [{'Name': 'Pulchowk, Kathmandu, Nepal'},\n    {'Name': 'US Embassy, Phora Durbar, Kathmandu, Nepal'},\n    {'Name': 'Shankha Park, KTM, Nepal'},\n    {'Name': 'Bhaisipati, KTM, Nepal'},\n    {'Name': 'Birendra School, Bhaktapur, Nepal'},\n    {'Name': 'Ratnapark, Kathmandu, Nepal'},\n    {'Name': 'US Embassy, Kathmandu, Nepal'}]},\n  616: {'Place': {'geo': [28.26689, 83.96851],\n    'feature': 'PPLA',\n    'name': 'Pokhara',\n    'country': 'NP',\n    'pop': 200000},\n   'Sources': [{'name': 'Citizen Weather Observer Program (CWOP/APRS)',\n     'url': 'http://wxqa.com/',\n     'pols': ['weather'],\n     'logo': ''},\n    {'name': 'Government of Nepal, Ministry of Population and Environment, Department of Environment Air Quality Monitoring',\n     'url': 'http://pollution.gov.np/',\n     'pols': None,\n     'logo': 'Nepal-DEAQM.png'}],\n   'Stations': [{'Name': 'Pokhara University, PKR, Nepal'},\n    {'Name': 'DHM Pokhara, Nepal'},\n    {'Name': 'Gandaki Boarding School, PKR, Nepal'}]},\n  617: {'Place': {'geo': [26.45505, 87.27007],\n    'feature': 'PPL',\n    'name': 'Biratnagar',\n    'country': 'NP',\n    'pop': 182324},\n   'Sources': [{'name': 'Citizen Weather Observer Program (CWOP/APRS)',\n     'url': 'http://wxqa.com/',\n     'pols': ['weather'],\n     'logo': ''},\n    {'name': 'Government of Nepal, Ministry of Population and Environment, Department of Environment Air Quality Monitoring',\n     'url': 'http://pollution.gov.np/',\n     'pols': None,\n     'logo': 'Nepal-DEAQM.png'}],\n   'Stations': [{'Name': 'Dhankuta, Nepal'},\n    {'Name': 'Jhumka, Sunsari, Nepal'}]}}}"
     },
     "metadata": {},
     "execution_count": 29
    }
   ],
   "source": [
    "geo_list = geo_df.to_dict()\n",
    "\n",
    "geo_list"
   ]
  },
  {
   "cell_type": "code",
   "execution_count": 30,
   "metadata": {},
   "outputs": [
    {
     "output_type": "execute_result",
     "data": {
      "text/plain": "                                                data\n0  {'Place': {'geo': [38.53575, 68.77905], 'featu...\n1  {'Place': {'geo': [24.45118, 54.39696], 'featu...\n2  {'Place': {'geo': [25.07725, 55.30927], 'featu...\n3  {'Place': {'geo': [60.29414, 25.04099], 'featu...\n4  {'Place': {'geo': [60.45148, 22.26869], 'featu...",
      "text/html": "<div>\n<style scoped>\n    .dataframe tbody tr th:only-of-type {\n        vertical-align: middle;\n    }\n\n    .dataframe tbody tr th {\n        vertical-align: top;\n    }\n\n    .dataframe thead th {\n        text-align: right;\n    }\n</style>\n<table border=\"1\" class=\"dataframe\">\n  <thead>\n    <tr style=\"text-align: right;\">\n      <th></th>\n      <th>data</th>\n    </tr>\n  </thead>\n  <tbody>\n    <tr>\n      <th>0</th>\n      <td>{'Place': {'geo': [38.53575, 68.77905], 'featu...</td>\n    </tr>\n    <tr>\n      <th>1</th>\n      <td>{'Place': {'geo': [24.45118, 54.39696], 'featu...</td>\n    </tr>\n    <tr>\n      <th>2</th>\n      <td>{'Place': {'geo': [25.07725, 55.30927], 'featu...</td>\n    </tr>\n    <tr>\n      <th>3</th>\n      <td>{'Place': {'geo': [60.29414, 25.04099], 'featu...</td>\n    </tr>\n    <tr>\n      <th>4</th>\n      <td>{'Place': {'geo': [60.45148, 22.26869], 'featu...</td>\n    </tr>\n  </tbody>\n</table>\n</div>"
     },
     "metadata": {},
     "execution_count": 30
    }
   ],
   "source": [
    "new_df = pd.DataFrame(geo_list)\n",
    "\n",
    "new_df.head()"
   ]
  },
  {
   "cell_type": "code",
   "execution_count": null,
   "metadata": {},
   "outputs": [],
   "source": []
  }
 ],
 "metadata": {
  "language_info": {
   "codemirror_mode": {
    "name": "ipython",
    "version": 3
   },
   "file_extension": ".py",
   "mimetype": "text/x-python",
   "name": "python",
   "nbconvert_exporter": "python",
   "pygments_lexer": "ipython3",
   "version": "3.7.4-final"
  },
  "orig_nbformat": 2,
  "kernelspec": {
   "name": "python37464bitpythondatacondaaf71fc3f5dd34866a438487bc0d8ac87",
   "display_name": "Python 3.7.4 64-bit ('PythonData': conda)"
  }
 },
 "nbformat": 4,
 "nbformat_minor": 2
}
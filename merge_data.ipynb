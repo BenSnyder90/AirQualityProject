{
 "cells": [
  {
   "cell_type": "code",
   "execution_count": 2,
   "metadata": {},
   "outputs": [],
   "source": [
    "import json\n",
    "import pandas as pd\n",
    "import requests\n",
    "from pprint import pprint\n",
    "from pandas.io.json import json_normalize  "
   ]
  },
  {
   "cell_type": "code",
   "execution_count": 52,
   "metadata": {},
   "outputs": [
    {
     "output_type": "execute_result",
     "data": {
      "text/plain": "           CBSA  CBSA Code        Date  AQI Category Defining Parameter  \\\n0  Aberdeen, SD      10100  2019-01-03    4     Good               PM10   \n1  Aberdeen, SD      10100  2019-01-06   31     Good              PM2.5   \n2  Aberdeen, SD      10100  2019-01-09    9     Good               PM10   \n3  Aberdeen, SD      10100  2019-01-12   43     Good              PM2.5   \n4  Aberdeen, SD      10100  2019-01-15   28     Good              PM2.5   \n\n  Defining Site  Number of Sites Reporting  \n0   46-013-0003                          1  \n1   46-013-0003                          1  \n2   46-013-0003                          1  \n3   46-013-0003                          1  \n4   46-013-0003                          1  ",
      "text/html": "<div>\n<style scoped>\n    .dataframe tbody tr th:only-of-type {\n        vertical-align: middle;\n    }\n\n    .dataframe tbody tr th {\n        vertical-align: top;\n    }\n\n    .dataframe thead th {\n        text-align: right;\n    }\n</style>\n<table border=\"1\" class=\"dataframe\">\n  <thead>\n    <tr style=\"text-align: right;\">\n      <th></th>\n      <th>CBSA</th>\n      <th>CBSA Code</th>\n      <th>Date</th>\n      <th>AQI</th>\n      <th>Category</th>\n      <th>Defining Parameter</th>\n      <th>Defining Site</th>\n      <th>Number of Sites Reporting</th>\n    </tr>\n  </thead>\n  <tbody>\n    <tr>\n      <th>0</th>\n      <td>Aberdeen, SD</td>\n      <td>10100</td>\n      <td>2019-01-03</td>\n      <td>4</td>\n      <td>Good</td>\n      <td>PM10</td>\n      <td>46-013-0003</td>\n      <td>1</td>\n    </tr>\n    <tr>\n      <th>1</th>\n      <td>Aberdeen, SD</td>\n      <td>10100</td>\n      <td>2019-01-06</td>\n      <td>31</td>\n      <td>Good</td>\n      <td>PM2.5</td>\n      <td>46-013-0003</td>\n      <td>1</td>\n    </tr>\n    <tr>\n      <th>2</th>\n      <td>Aberdeen, SD</td>\n      <td>10100</td>\n      <td>2019-01-09</td>\n      <td>9</td>\n      <td>Good</td>\n      <td>PM10</td>\n      <td>46-013-0003</td>\n      <td>1</td>\n    </tr>\n    <tr>\n      <th>3</th>\n      <td>Aberdeen, SD</td>\n      <td>10100</td>\n      <td>2019-01-12</td>\n      <td>43</td>\n      <td>Good</td>\n      <td>PM2.5</td>\n      <td>46-013-0003</td>\n      <td>1</td>\n    </tr>\n    <tr>\n      <th>4</th>\n      <td>Aberdeen, SD</td>\n      <td>10100</td>\n      <td>2019-01-15</td>\n      <td>28</td>\n      <td>Good</td>\n      <td>PM2.5</td>\n      <td>46-013-0003</td>\n      <td>1</td>\n    </tr>\n  </tbody>\n</table>\n</div>"
     },
     "metadata": {},
     "execution_count": 52
    }
   ],
   "source": [
    "#Import CSV\n",
    "aqi_df = pd.read_csv(\"assets/sample_data/daily_aqi_by_cbsa_2019.csv\")\n",
    "\n",
    "aqi_df.head()"
   ]
  },
  {
   "cell_type": "code",
   "execution_count": 53,
   "metadata": {},
   "outputs": [],
   "source": [
    "#Rename cities with duplicate names to avoid merging the wrong data\n",
    "aqi_df = aqi_df.replace({\"Columbia, MO\": \"ColumbiaMO\", \"Salem, OH\": \"SalemOH\", \"Columbus, GA-AL\" : \"ColumbusGA\", \"Columbus, IN\" : \"ColumbusIN\",\n",
    "                                \"Jackson, TN\": \"JacksonTN\", \"Jackson, WY-ID\": \"JacksonWY\", \"Miami, OK\": \"MiamiOK\", \"Salem, OH\": \"SalemOH\",\n",
    "                                \"Springfield, MA\": \"SpringfieldMA\", \"Springfield, MO\" : \"SpringfieldMO\", \"Springfield, OH\": \"SpringfieldOH\"})\n",
    "\n"
   ]
  },
  {
   "cell_type": "code",
   "execution_count": 54,
   "metadata": {},
   "outputs": [
    {
     "output_type": "execute_result",
     "data": {
      "text/plain": "           CBSA  CBSA Code        Date  AQI Category Defining Parameter  \\\n0  Aberdeen, SD      10100  2019-01-03    4     Good               PM10   \n1  Aberdeen, SD      10100  2019-01-06   31     Good              PM2.5   \n2  Aberdeen, SD      10100  2019-01-09    9     Good               PM10   \n3  Aberdeen, SD      10100  2019-01-12   43     Good              PM2.5   \n4  Aberdeen, SD      10100  2019-01-15   28     Good              PM2.5   \n\n  Defining Site  Number of Sites Reporting      City State  \n0   46-013-0003                          1  Aberdeen    SD  \n1   46-013-0003                          1  Aberdeen    SD  \n2   46-013-0003                          1  Aberdeen    SD  \n3   46-013-0003                          1  Aberdeen    SD  \n4   46-013-0003                          1  Aberdeen    SD  ",
      "text/html": "<div>\n<style scoped>\n    .dataframe tbody tr th:only-of-type {\n        vertical-align: middle;\n    }\n\n    .dataframe tbody tr th {\n        vertical-align: top;\n    }\n\n    .dataframe thead th {\n        text-align: right;\n    }\n</style>\n<table border=\"1\" class=\"dataframe\">\n  <thead>\n    <tr style=\"text-align: right;\">\n      <th></th>\n      <th>CBSA</th>\n      <th>CBSA Code</th>\n      <th>Date</th>\n      <th>AQI</th>\n      <th>Category</th>\n      <th>Defining Parameter</th>\n      <th>Defining Site</th>\n      <th>Number of Sites Reporting</th>\n      <th>City</th>\n      <th>State</th>\n    </tr>\n  </thead>\n  <tbody>\n    <tr>\n      <th>0</th>\n      <td>Aberdeen, SD</td>\n      <td>10100</td>\n      <td>2019-01-03</td>\n      <td>4</td>\n      <td>Good</td>\n      <td>PM10</td>\n      <td>46-013-0003</td>\n      <td>1</td>\n      <td>Aberdeen</td>\n      <td>SD</td>\n    </tr>\n    <tr>\n      <th>1</th>\n      <td>Aberdeen, SD</td>\n      <td>10100</td>\n      <td>2019-01-06</td>\n      <td>31</td>\n      <td>Good</td>\n      <td>PM2.5</td>\n      <td>46-013-0003</td>\n      <td>1</td>\n      <td>Aberdeen</td>\n      <td>SD</td>\n    </tr>\n    <tr>\n      <th>2</th>\n      <td>Aberdeen, SD</td>\n      <td>10100</td>\n      <td>2019-01-09</td>\n      <td>9</td>\n      <td>Good</td>\n      <td>PM10</td>\n      <td>46-013-0003</td>\n      <td>1</td>\n      <td>Aberdeen</td>\n      <td>SD</td>\n    </tr>\n    <tr>\n      <th>3</th>\n      <td>Aberdeen, SD</td>\n      <td>10100</td>\n      <td>2019-01-12</td>\n      <td>43</td>\n      <td>Good</td>\n      <td>PM2.5</td>\n      <td>46-013-0003</td>\n      <td>1</td>\n      <td>Aberdeen</td>\n      <td>SD</td>\n    </tr>\n    <tr>\n      <th>4</th>\n      <td>Aberdeen, SD</td>\n      <td>10100</td>\n      <td>2019-01-15</td>\n      <td>28</td>\n      <td>Good</td>\n      <td>PM2.5</td>\n      <td>46-013-0003</td>\n      <td>1</td>\n      <td>Aberdeen</td>\n      <td>SD</td>\n    </tr>\n  </tbody>\n</table>\n</div>"
     },
     "metadata": {},
     "execution_count": 54
    }
   ],
   "source": [
    "#Split CBSA into City and State\n",
    "aqi_df[['City','State']] = aqi_df.CBSA.str.split(\",\",expand=True)\n",
    "\n",
    "aqi_df.head()"
   ]
  },
  {
   "cell_type": "code",
   "execution_count": 55,
   "metadata": {},
   "outputs": [],
   "source": [
    "#Rename City metropolitan areas to one main city for merging\n",
    "aqi_df = aqi_df.replace({\"Atlanta-Sandy Springs-Roswell\":\"Atlanta\",\"Austin-Round Rock\":\"Austin\",\"Baltimore-Columbia-Towson\":\"Baltimore\",\n",
    "                        \"Boise City\":\"Boise\",\"Boston-Cambridge-Newton\":\"Boston\",\"New York-Newark-Jersey City\":\"New York City\",                                                  \"Charlotte-Concord-Gastonia\":\"Charlotte\",\"Chicago-Naperville-Elgin\":\"Chicago\",\"Dallas-Fort Worth-Arlington\":\"Dallas\",\n",
    "                        \"Denver-Aurora-Lakewood\":\"Denver\",\"Detroit-Warren-Dearborn\":\"Detroit\",\"Hartford-West Hartford-East Hartford\":\"Hartford\",\"Urban                          Honolulu\":\"Honolulu\", \"Houston-The Woodlands-Sugar Land\":\"Houston\",\"Indianapolis-Carmel-Anderson\":\"Indianapolis\",\"Las                                   Vegas-Henderson-Paradise\":\"Las Vegas\",\"Little Rock-North Little Rock-Conway\":\"Little Rock\",\"Los Angeles-Long Beach-Anaheim\":\"Los Angeles\",\"Miami-Fort Lauderdale-West Palm Beach\":\"Miami\",\"Milwaukee-Waukesha-West Allis\":\"Milwaukee\",                     \n",
    "                        \"Nashville-Davidson--Murfreesboro--Franklin\":\"Nashville\",\"Omaha-Council Bluffs\":\"Omaha\",\"Philadelphia-Camden-Wilmington\":\n",
    "                        \"Philadelphia\",\"Phoenix-Mesa-Scottsdale\":\"Phoenix\",\"Portland-Vancouver-Hillsboro\":\"Portland\",\"Providence-Warwick\":\"Providence\",\n",
    "                        \"Sacramento--Roseville--Arden-Arcade\":\"Sacramento\",\"Minneapolis-St. Paul-Bloomington\":\"Saint Paul\",\"San Antonio-New Braunfels\":\n",
    "                        \"San Antonio\",\"San Diego-Carlsbad\":\"San Diego\",\"San Francisco-Oakland-Hayward\":\"San Francisco\",\"San Jose-Sunnyvale-Santa Clara\":\n",
    "                        \"San Jose\",\"Seattle-Tacoma-Bellevue\":\"Seattle\",\"Washington-Arlington-Alexandria\":\"Washington, D.C.\"})"
   ]
  },
  {
   "cell_type": "code",
   "execution_count": 68,
   "metadata": {},
   "outputs": [],
   "source": [
    "#Replace state values of multiple states with one state\n",
    "aqi_df = aqi_df.replace({\" MA-NH\":\"MA\",\" IL-IN-WI\":\"IN\",\" NC-SC\":\"NC\",\" TN-MS-AR\":\"TN\",\" MN-WI\":\"MN\",\" NY-NJ-PA\":\"NY\",\" NE-IA\":\"NE\",\" PA-NJ-DE-MD\":\"PA\",                                    \" OR-WA\":\"OR\",\" RI-MA\":\"RI\",\" DC-VA-MD-WV\":\"DC\"})"
   ]
  },
  {
   "cell_type": "code",
   "execution_count": 69,
   "metadata": {},
   "outputs": [
    {
     "output_type": "execute_result",
     "data": {
      "text/plain": " CA          12268\n TX           9244\n PA           7931\n FL           7801\n WA           6883\n             ...  \n AR-OK         361\n SC-NC         356\n TX-AR         349\n IL-MO         241\n IA-IL-MO      120\nName: State, Length: 94, dtype: int64"
     },
     "metadata": {},
     "execution_count": 69
    }
   ],
   "source": [
    "aqi_df[\"State\"].value_counts()"
   ]
  },
  {
   "cell_type": "code",
   "execution_count": 6,
   "metadata": {},
   "outputs": [],
   "source": [
    "# URL for JSON with cities and geo data\n",
    "url = \"https://aqicn.org/data-platform/covid19/airquality-covid19-cities.json\""
   ]
  },
  {
   "cell_type": "code",
   "execution_count": 24,
   "metadata": {},
   "outputs": [
    {
     "output_type": "execute_result",
     "data": {
      "text/plain": "    csvsize                                               data  \\\n0  46726470  {'Place': {'geo': [38.53575, 68.77905], 'featu...   \n1  46726470  {'Place': {'geo': [24.45118, 54.39696], 'featu...   \n2  46726470  {'Place': {'geo': [25.07725, 55.30927], 'featu...   \n3  46726470  {'Place': {'geo': [60.29414, 25.04099], 'featu...   \n4  46726470  {'Place': {'geo': [60.45148, 22.26869], 'featu...   \n\n                   generated  \n0  2020-05-28T20:54:02+01:00  \n1  2020-05-28T20:54:02+01:00  \n2  2020-05-28T20:54:02+01:00  \n3  2020-05-28T20:54:02+01:00  \n4  2020-05-28T20:54:02+01:00  ",
      "text/html": "<div>\n<style scoped>\n    .dataframe tbody tr th:only-of-type {\n        vertical-align: middle;\n    }\n\n    .dataframe tbody tr th {\n        vertical-align: top;\n    }\n\n    .dataframe thead th {\n        text-align: right;\n    }\n</style>\n<table border=\"1\" class=\"dataframe\">\n  <thead>\n    <tr style=\"text-align: right;\">\n      <th></th>\n      <th>csvsize</th>\n      <th>data</th>\n      <th>generated</th>\n    </tr>\n  </thead>\n  <tbody>\n    <tr>\n      <th>0</th>\n      <td>46726470</td>\n      <td>{'Place': {'geo': [38.53575, 68.77905], 'featu...</td>\n      <td>2020-05-28T20:54:02+01:00</td>\n    </tr>\n    <tr>\n      <th>1</th>\n      <td>46726470</td>\n      <td>{'Place': {'geo': [24.45118, 54.39696], 'featu...</td>\n      <td>2020-05-28T20:54:02+01:00</td>\n    </tr>\n    <tr>\n      <th>2</th>\n      <td>46726470</td>\n      <td>{'Place': {'geo': [25.07725, 55.30927], 'featu...</td>\n      <td>2020-05-28T20:54:02+01:00</td>\n    </tr>\n    <tr>\n      <th>3</th>\n      <td>46726470</td>\n      <td>{'Place': {'geo': [60.29414, 25.04099], 'featu...</td>\n      <td>2020-05-28T20:54:02+01:00</td>\n    </tr>\n    <tr>\n      <th>4</th>\n      <td>46726470</td>\n      <td>{'Place': {'geo': [60.45148, 22.26869], 'featu...</td>\n      <td>2020-05-28T20:54:02+01:00</td>\n    </tr>\n  </tbody>\n</table>\n</div>"
     },
     "metadata": {},
     "execution_count": 24
    }
   ],
   "source": [
    "#Read JSON into a dataframe\n",
    "df = pd.read_json(url)\n",
    "\n",
    "df.head()"
   ]
  },
  {
   "cell_type": "code",
   "execution_count": 7,
   "metadata": {
    "tags": [
     "outputPrepend",
     "outputPrepend",
     "outputPrepend",
     "outputPrepend",
     "outputPrepend",
     "outputPrepend",
     "outputPrepend",
     "outputPrepend",
     "outputPrepend",
     "outputPrepend",
     "outputPrepend",
     "outputPrepend",
     "outputPrepend"
    ]
   },
   "outputs": [
    {
     "output_type": "execute_result",
     "data": {
      "text/plain": "                                             Sources  \\\n0  [{'name': 'Citizen Weather Observer Program (C...   \n1  [{'name': 'Citizen Weather Observer Program (C...   \n2  [{'name': 'Citizen Weather Observer Program (C...   \n3  [{'name': 'Citizen Weather Observer Program (C...   \n4  [{'name': 'Citizen Weather Observer Program (C...   \n\n                                            Stations              Place.geo  \\\n0  [{'Name': 'Olivais, Lisboa, Portugal'}, {'Name...   [38.71667, -9.13333]   \n1  [{'Name': 'Santana, Santana, Portugal'}, {'Nam...  [32.66568, -16.92547]   \n2  [{'Name': 'Pobedy av. 287, Chelyabinsk, Russia...   [55.15402, 61.42915]   \n3  [{'Name': 'Beketova str., 28, Nizhny Novgorod,...   [56.32867, 44.00205]   \n4  [{'Name': 'Professor Popov str., 48, Saint-Pet...   [59.93863, 30.31413]   \n\n  Place.feature        Place.name Place.country  Place.pop  \n0          PPLC            Lisbon            PT     517802  \n1          PPLA           Funchal            PT     100847  \n2          PPLA       Chelyabinsk            RU    1062919  \n3          PPLA  Nizhniy Novgorod            RU    1284164  \n4          PPLA  Saint Petersburg            RU    5028000  ",
      "text/html": "<div>\n<style scoped>\n    .dataframe tbody tr th:only-of-type {\n        vertical-align: middle;\n    }\n\n    .dataframe tbody tr th {\n        vertical-align: top;\n    }\n\n    .dataframe thead th {\n        text-align: right;\n    }\n</style>\n<table border=\"1\" class=\"dataframe\">\n  <thead>\n    <tr style=\"text-align: right;\">\n      <th></th>\n      <th>Sources</th>\n      <th>Stations</th>\n      <th>Place.geo</th>\n      <th>Place.feature</th>\n      <th>Place.name</th>\n      <th>Place.country</th>\n      <th>Place.pop</th>\n    </tr>\n  </thead>\n  <tbody>\n    <tr>\n      <th>0</th>\n      <td>[{'name': 'Citizen Weather Observer Program (C...</td>\n      <td>[{'Name': 'Olivais, Lisboa, Portugal'}, {'Name...</td>\n      <td>[38.71667, -9.13333]</td>\n      <td>PPLC</td>\n      <td>Lisbon</td>\n      <td>PT</td>\n      <td>517802</td>\n    </tr>\n    <tr>\n      <th>1</th>\n      <td>[{'name': 'Citizen Weather Observer Program (C...</td>\n      <td>[{'Name': 'Santana, Santana, Portugal'}, {'Nam...</td>\n      <td>[32.66568, -16.92547]</td>\n      <td>PPLA</td>\n      <td>Funchal</td>\n      <td>PT</td>\n      <td>100847</td>\n    </tr>\n    <tr>\n      <th>2</th>\n      <td>[{'name': 'Citizen Weather Observer Program (C...</td>\n      <td>[{'Name': 'Pobedy av. 287, Chelyabinsk, Russia...</td>\n      <td>[55.15402, 61.42915]</td>\n      <td>PPLA</td>\n      <td>Chelyabinsk</td>\n      <td>RU</td>\n      <td>1062919</td>\n    </tr>\n    <tr>\n      <th>3</th>\n      <td>[{'name': 'Citizen Weather Observer Program (C...</td>\n      <td>[{'Name': 'Beketova str., 28, Nizhny Novgorod,...</td>\n      <td>[56.32867, 44.00205]</td>\n      <td>PPLA</td>\n      <td>Nizhniy Novgorod</td>\n      <td>RU</td>\n      <td>1284164</td>\n    </tr>\n    <tr>\n      <th>4</th>\n      <td>[{'name': 'Citizen Weather Observer Program (C...</td>\n      <td>[{'Name': 'Professor Popov str., 48, Saint-Pet...</td>\n      <td>[59.93863, 30.31413]</td>\n      <td>PPLA</td>\n      <td>Saint Petersburg</td>\n      <td>RU</td>\n      <td>5028000</td>\n    </tr>\n  </tbody>\n</table>\n</div>"
     },
     "metadata": {},
     "execution_count": 7
    }
   ],
   "source": [
    "# Uses requests.get() to load JSON into text\n",
    "response = json.loads(requests.get(url).text)\n",
    "\n",
    "#Flattens the nested JSON of the 'data' column into its own DataFrame to get the Places geo data\n",
    "geo_df = pd.io.json.json_normalize(response['data'])\n",
    "#pprint(response)\n",
    "geo_df.head()"
   ]
  },
  {
   "cell_type": "code",
   "execution_count": 8,
   "metadata": {},
   "outputs": [],
   "source": [
    "#Puts the geo data and name into a dataframe\n",
    "places_df = geo_df[['Place.geo','Place.name','Place.country']]"
   ]
  },
  {
   "cell_type": "code",
   "execution_count": 9,
   "metadata": {},
   "outputs": [
    {
     "output_type": "execute_result",
     "data": {
      "text/plain": "               Place.geo        Place.name Place.country\n0   [38.71667, -9.13333]            Lisbon            PT\n1  [32.66568, -16.92547]           Funchal            PT\n2   [55.15402, 61.42915]       Chelyabinsk            RU\n3   [56.32867, 44.00205]  Nizhniy Novgorod            RU\n4   [59.93863, 30.31413]  Saint Petersburg            RU",
      "text/html": "<div>\n<style scoped>\n    .dataframe tbody tr th:only-of-type {\n        vertical-align: middle;\n    }\n\n    .dataframe tbody tr th {\n        vertical-align: top;\n    }\n\n    .dataframe thead th {\n        text-align: right;\n    }\n</style>\n<table border=\"1\" class=\"dataframe\">\n  <thead>\n    <tr style=\"text-align: right;\">\n      <th></th>\n      <th>Place.geo</th>\n      <th>Place.name</th>\n      <th>Place.country</th>\n    </tr>\n  </thead>\n  <tbody>\n    <tr>\n      <th>0</th>\n      <td>[38.71667, -9.13333]</td>\n      <td>Lisbon</td>\n      <td>PT</td>\n    </tr>\n    <tr>\n      <th>1</th>\n      <td>[32.66568, -16.92547]</td>\n      <td>Funchal</td>\n      <td>PT</td>\n    </tr>\n    <tr>\n      <th>2</th>\n      <td>[55.15402, 61.42915]</td>\n      <td>Chelyabinsk</td>\n      <td>RU</td>\n    </tr>\n    <tr>\n      <th>3</th>\n      <td>[56.32867, 44.00205]</td>\n      <td>Nizhniy Novgorod</td>\n      <td>RU</td>\n    </tr>\n    <tr>\n      <th>4</th>\n      <td>[59.93863, 30.31413]</td>\n      <td>Saint Petersburg</td>\n      <td>RU</td>\n    </tr>\n  </tbody>\n</table>\n</div>"
     },
     "metadata": {},
     "execution_count": 9
    }
   ],
   "source": [
    "places_df.head()"
   ]
  },
  {
   "cell_type": "code",
   "execution_count": 10,
   "metadata": {},
   "outputs": [
    {
     "output_type": "execute_result",
     "data": {
      "text/plain": "                     Geo              City Country\n0   [38.71667, -9.13333]            Lisbon      PT\n1  [32.66568, -16.92547]           Funchal      PT\n2   [55.15402, 61.42915]       Chelyabinsk      RU\n3   [56.32867, 44.00205]  Nizhniy Novgorod      RU\n4   [59.93863, 30.31413]  Saint Petersburg      RU",
      "text/html": "<div>\n<style scoped>\n    .dataframe tbody tr th:only-of-type {\n        vertical-align: middle;\n    }\n\n    .dataframe tbody tr th {\n        vertical-align: top;\n    }\n\n    .dataframe thead th {\n        text-align: right;\n    }\n</style>\n<table border=\"1\" class=\"dataframe\">\n  <thead>\n    <tr style=\"text-align: right;\">\n      <th></th>\n      <th>Geo</th>\n      <th>City</th>\n      <th>Country</th>\n    </tr>\n  </thead>\n  <tbody>\n    <tr>\n      <th>0</th>\n      <td>[38.71667, -9.13333]</td>\n      <td>Lisbon</td>\n      <td>PT</td>\n    </tr>\n    <tr>\n      <th>1</th>\n      <td>[32.66568, -16.92547]</td>\n      <td>Funchal</td>\n      <td>PT</td>\n    </tr>\n    <tr>\n      <th>2</th>\n      <td>[55.15402, 61.42915]</td>\n      <td>Chelyabinsk</td>\n      <td>RU</td>\n    </tr>\n    <tr>\n      <th>3</th>\n      <td>[56.32867, 44.00205]</td>\n      <td>Nizhniy Novgorod</td>\n      <td>RU</td>\n    </tr>\n    <tr>\n      <th>4</th>\n      <td>[59.93863, 30.31413]</td>\n      <td>Saint Petersburg</td>\n      <td>RU</td>\n    </tr>\n  </tbody>\n</table>\n</div>"
     },
     "metadata": {},
     "execution_count": 10
    }
   ],
   "source": [
    "#Rename columns for merging purposes\n",
    "places_df = places_df.rename(columns = {'Place.geo':'Geo','Place.name':'City', 'Place.country':'Country'})\n",
    "places_df.head()"
   ]
  },
  {
   "cell_type": "code",
   "execution_count": 57,
   "metadata": {},
   "outputs": [
    {
     "output_type": "stream",
     "name": "stdout",
     "text": "Oakland             1\nJackson             1\nThe Bronx           1\nBoise               1\nStaten Island       1\nWashington, D.C.    1\nHonolulu            1\nProvidence          1\nSeattle             1\nBaltimore           1\nColumbus            1\nQueens              1\nJacksonville        1\nChicago             1\nColumbia            1\nHartford            1\nMemphis             1\nDenver              1\nFresno              1\nSalt Lake City      1\nSan Jose            1\nSaint Paul          1\nSalem               1\nBoston              1\nCharlotte           1\nPortland            1\nFort Worth          1\nMilwaukee           1\nRaleigh             1\nPhoenix             1\nRichmond            1\nBrooklyn            1\nNashville           1\nPhiladelphia        1\nManhattan           1\nIndianapolis        1\nDallas              1\nMadison             1\nTucson              1\nDetroit             1\nSan Diego           1\nTallahassee         1\nOmaha               1\nAtlanta             1\nMiami               1\nSacramento          1\nLos Angeles         1\nLas Vegas           1\nAustin              1\nOklahoma City       1\nSan Francisco       1\nSan Antonio         1\nAlbuquerque         1\nEl Paso             1\nSpringfield         1\nLittle Rock         1\nHouston             1\nName: City, dtype: int64\n"
    },
    {
     "output_type": "execute_result",
     "data": {
      "text/plain": "True     48\nFalse     9\nName: City, dtype: int64"
     },
     "metadata": {},
     "execution_count": 57
    }
   ],
   "source": [
    "us_df = places_df.loc[places_df[\"Country\"] == \"US\"]\n",
    "print(us_df[\"City\"].value_counts())\n",
    "us_df[\"City\"].isin(aqi_df[\"City\"]).value_counts()"
   ]
  },
  {
   "cell_type": "code",
   "execution_count": 59,
   "metadata": {},
   "outputs": [],
   "source": [
    "#Replace Manhattan with New York City for the merge\n",
    "us_df = us_df.replace({\"Manhattan\":\"New York City\"})"
   ]
  },
  {
   "cell_type": "code",
   "execution_count": 21,
   "metadata": {},
   "outputs": [],
   "source": [
    "us_df.to_csv(\"us_locations.csv\")"
   ]
  },
  {
   "cell_type": "code",
   "execution_count": 70,
   "metadata": {},
   "outputs": [
    {
     "output_type": "execute_result",
     "data": {
      "text/plain": "              CBSA  CBSA Code        Date  AQI  Category Defining Parameter  \\\n0  Albuquerque, NM      10740  2019-01-01   42      Good               PM10   \n1  Albuquerque, NM      10740  2019-01-02   40      Good              PM2.5   \n2  Albuquerque, NM      10740  2019-01-03   55  Moderate              PM2.5   \n3  Albuquerque, NM      10740  2019-01-04   57  Moderate              PM2.5   \n4  Albuquerque, NM      10740  2019-01-05   66  Moderate              PM2.5   \n\n  Defining Site  Number of Sites Reporting         City State  \\\n0   35-001-0029                          8  Albuquerque    NM   \n1   35-001-1012                          8  Albuquerque    NM   \n2   35-001-0029                          8  Albuquerque    NM   \n3   35-001-0029                          8  Albuquerque    NM   \n4   35-001-0029                          8  Albuquerque    NM   \n\n                      Geo Country  \n0  [35.08449, -106.65114]      US  \n1  [35.08449, -106.65114]      US  \n2  [35.08449, -106.65114]      US  \n3  [35.08449, -106.65114]      US  \n4  [35.08449, -106.65114]      US  ",
      "text/html": "<div>\n<style scoped>\n    .dataframe tbody tr th:only-of-type {\n        vertical-align: middle;\n    }\n\n    .dataframe tbody tr th {\n        vertical-align: top;\n    }\n\n    .dataframe thead th {\n        text-align: right;\n    }\n</style>\n<table border=\"1\" class=\"dataframe\">\n  <thead>\n    <tr style=\"text-align: right;\">\n      <th></th>\n      <th>CBSA</th>\n      <th>CBSA Code</th>\n      <th>Date</th>\n      <th>AQI</th>\n      <th>Category</th>\n      <th>Defining Parameter</th>\n      <th>Defining Site</th>\n      <th>Number of Sites Reporting</th>\n      <th>City</th>\n      <th>State</th>\n      <th>Geo</th>\n      <th>Country</th>\n    </tr>\n  </thead>\n  <tbody>\n    <tr>\n      <th>0</th>\n      <td>Albuquerque, NM</td>\n      <td>10740</td>\n      <td>2019-01-01</td>\n      <td>42</td>\n      <td>Good</td>\n      <td>PM10</td>\n      <td>35-001-0029</td>\n      <td>8</td>\n      <td>Albuquerque</td>\n      <td>NM</td>\n      <td>[35.08449, -106.65114]</td>\n      <td>US</td>\n    </tr>\n    <tr>\n      <th>1</th>\n      <td>Albuquerque, NM</td>\n      <td>10740</td>\n      <td>2019-01-02</td>\n      <td>40</td>\n      <td>Good</td>\n      <td>PM2.5</td>\n      <td>35-001-1012</td>\n      <td>8</td>\n      <td>Albuquerque</td>\n      <td>NM</td>\n      <td>[35.08449, -106.65114]</td>\n      <td>US</td>\n    </tr>\n    <tr>\n      <th>2</th>\n      <td>Albuquerque, NM</td>\n      <td>10740</td>\n      <td>2019-01-03</td>\n      <td>55</td>\n      <td>Moderate</td>\n      <td>PM2.5</td>\n      <td>35-001-0029</td>\n      <td>8</td>\n      <td>Albuquerque</td>\n      <td>NM</td>\n      <td>[35.08449, -106.65114]</td>\n      <td>US</td>\n    </tr>\n    <tr>\n      <th>3</th>\n      <td>Albuquerque, NM</td>\n      <td>10740</td>\n      <td>2019-01-04</td>\n      <td>57</td>\n      <td>Moderate</td>\n      <td>PM2.5</td>\n      <td>35-001-0029</td>\n      <td>8</td>\n      <td>Albuquerque</td>\n      <td>NM</td>\n      <td>[35.08449, -106.65114]</td>\n      <td>US</td>\n    </tr>\n    <tr>\n      <th>4</th>\n      <td>Albuquerque, NM</td>\n      <td>10740</td>\n      <td>2019-01-05</td>\n      <td>66</td>\n      <td>Moderate</td>\n      <td>PM2.5</td>\n      <td>35-001-0029</td>\n      <td>8</td>\n      <td>Albuquerque</td>\n      <td>NM</td>\n      <td>[35.08449, -106.65114]</td>\n      <td>US</td>\n    </tr>\n  </tbody>\n</table>\n</div>"
     },
     "metadata": {},
     "execution_count": 70
    }
   ],
   "source": [
    "#Inner merge\n",
    "new_df = aqi_df.merge(us_df,on=\"City\",how=\"inner\")\n",
    "\n",
    "new_df.head()"
   ]
  },
  {
   "cell_type": "code",
   "execution_count": 71,
   "metadata": {},
   "outputs": [
    {
     "output_type": "execute_result",
     "data": {
      "text/plain": " CA    2190\n TX    1825\n FL    1093\n AZ     730\n WI     730\n UT     365\n OK     365\n IN     365\n AR     365\nDC      365\n GA     365\n OH     365\n MD     365\n ID     365\nPA      365\n CO     365\nMA      365\n MI     365\nOR      365\n MS     365\n TN     365\nNY      365\n WA     365\n SC     365\n NC     365\nMN      365\nIN      365\n CT     365\n VA     365\nNE      365\nNC      365\nRI      365\nTN      365\n NM     365\n IL     360\n OR     356\nName: State, dtype: int64"
     },
     "metadata": {},
     "execution_count": 71
    }
   ],
   "source": [
    "\n",
    "new_df[\"State\"].value_counts()"
   ]
  },
  {
   "cell_type": "code",
   "execution_count": 73,
   "metadata": {},
   "outputs": [],
   "source": [
    "#Store data to CSV for verification\n",
    "new_df.to_csv(\"sample_data.csv\")"
   ]
  },
  {
   "cell_type": "code",
   "execution_count": 64,
   "metadata": {},
   "outputs": [
    {
     "output_type": "execute_result",
     "data": {
      "text/plain": "            Lat        Lng\n0      35.08449 -106.65114\n1      35.08449 -106.65114\n2      35.08449 -106.65114\n3      35.08449 -106.65114\n4      35.08449 -106.65114\n...         ...        ...\n13364 -33.64651   19.44852\n13365 -33.64651   19.44852\n13366 -33.64651   19.44852\n13367 -33.64651   19.44852\n13368 -33.64651   19.44852\n\n[13369 rows x 2 columns]",
      "text/html": "<div>\n<style scoped>\n    .dataframe tbody tr th:only-of-type {\n        vertical-align: middle;\n    }\n\n    .dataframe tbody tr th {\n        vertical-align: top;\n    }\n\n    .dataframe thead th {\n        text-align: right;\n    }\n</style>\n<table border=\"1\" class=\"dataframe\">\n  <thead>\n    <tr style=\"text-align: right;\">\n      <th></th>\n      <th>Lat</th>\n      <th>Lng</th>\n    </tr>\n  </thead>\n  <tbody>\n    <tr>\n      <th>0</th>\n      <td>35.08449</td>\n      <td>-106.65114</td>\n    </tr>\n    <tr>\n      <th>1</th>\n      <td>35.08449</td>\n      <td>-106.65114</td>\n    </tr>\n    <tr>\n      <th>2</th>\n      <td>35.08449</td>\n      <td>-106.65114</td>\n    </tr>\n    <tr>\n      <th>3</th>\n      <td>35.08449</td>\n      <td>-106.65114</td>\n    </tr>\n    <tr>\n      <th>4</th>\n      <td>35.08449</td>\n      <td>-106.65114</td>\n    </tr>\n    <tr>\n      <th>...</th>\n      <td>...</td>\n      <td>...</td>\n    </tr>\n    <tr>\n      <th>13364</th>\n      <td>-33.64651</td>\n      <td>19.44852</td>\n    </tr>\n    <tr>\n      <th>13365</th>\n      <td>-33.64651</td>\n      <td>19.44852</td>\n    </tr>\n    <tr>\n      <th>13366</th>\n      <td>-33.64651</td>\n      <td>19.44852</td>\n    </tr>\n    <tr>\n      <th>13367</th>\n      <td>-33.64651</td>\n      <td>19.44852</td>\n    </tr>\n    <tr>\n      <th>13368</th>\n      <td>-33.64651</td>\n      <td>19.44852</td>\n    </tr>\n  </tbody>\n</table>\n<p>13369 rows × 2 columns</p>\n</div>"
     },
     "metadata": {},
     "execution_count": 64
    }
   ],
   "source": [
    "#Split up the location data into latitude and longitude\n",
    "neww_df = pd.DataFrame(new_df['Geo'].to_list(), columns =['Lat','Lng'])\n",
    "\n",
    "neww_df"
   ]
  },
  {
   "cell_type": "code",
   "execution_count": null,
   "metadata": {},
   "outputs": [],
   "source": []
  }
 ],
 "metadata": {
  "language_info": {
   "codemirror_mode": {
    "name": "ipython",
    "version": 3
   },
   "file_extension": ".py",
   "mimetype": "text/x-python",
   "name": "python",
   "nbconvert_exporter": "python",
   "pygments_lexer": "ipython3",
   "version": "3.7.4-final"
  },
  "orig_nbformat": 2,
  "kernelspec": {
   "name": "python37464bitpythondatacondaaf71fc3f5dd34866a438487bc0d8ac87",
   "display_name": "Python 3.7.4 64-bit ('PythonData': conda)"
  }
 },
 "nbformat": 4,
 "nbformat_minor": 2
}
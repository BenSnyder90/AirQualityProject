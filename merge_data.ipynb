{
 "cells": [
  {
   "cell_type": "code",
   "execution_count": 2,
   "metadata": {},
   "outputs": [],
   "source": [
    "import json\n",
    "import pandas as pd\n",
    "import requests\n",
    "from pprint import pprint\n",
    "from pandas.io.json import json_normalize  "
   ]
  },
  {
   "cell_type": "code",
   "execution_count": 39,
   "metadata": {},
   "outputs": [
    {
     "output_type": "stream",
     "name": "stdout",
     "text": "CBSA  CBSA Code        Date  AQI Category Defining Parameter  \\\n0  Aberdeen, SD      10100  2019-01-03    4     Good               PM10   \n1  Aberdeen, SD      10100  2019-01-06   31     Good              PM2.5   \n2  Aberdeen, SD      10100  2019-01-09    9     Good               PM10   \n3  Aberdeen, SD      10100  2019-01-12   43     Good              PM2.5   \n4  Aberdeen, SD      10100  2019-01-15   28     Good              PM2.5   \n\n  Defining Site  Number of Sites Reporting  \n0   46-013-0003                          1  \n1   46-013-0003                          1  \n2   46-013-0003                          1  \n3   46-013-0003                          1  \n4   46-013-0003                          1  \n       Date         CITY State       Lat        Lng  AQI  Category  \\\n0  1/1/2020  Albuquerque    NM  35.08449 -106.65114   54       NaN   \n1  1/2/2020  Albuquerque    NM  35.08449 -106.65114   39       NaN   \n2  1/3/2020  Albuquerque    NM  35.08449 -106.65114   38       NaN   \n3  1/4/2020  Albuquerque    NM  35.08449 -106.65114   50       NaN   \n4  1/5/2020  Albuquerque    NM  35.08449 -106.65114   63       NaN   \n\n  Defining Parameter  Source  CO Ozone  SO2 PM10 PM25  NO2  \n0              PM2.5  AirNow  42    54  NaN  NaN  NaN  NaN  \n1              Ozone  AirNow  39    30  NaN  NaN  NaN  NaN  \n2              Ozone  AirNow  38    37  NaN  NaN  NaN  NaN  \n3              PM2.5  AirNow  36    50  NaN  NaN  NaN  NaN  \n4              PM2.5  AirNow  37    63  NaN  NaN  NaN  NaN  \n"
    }
   ],
   "source": [
    "#Import CSVs\n",
    "aqi2019_df = pd.read_csv(\"assets/sample_data/daily_aqi_by_cbsa_2019.csv\")\n",
    "aqi2020_df = pd.read_csv(\"aqidaily2020.csv\")\n",
    "\n",
    "print(aqi2019_df.head())\n",
    "print(aqi2020_df.head())"
   ]
  },
  {
   "cell_type": "code",
   "execution_count": 40,
   "metadata": {},
   "outputs": [],
   "source": [
    "#Rename cities with duplicate names to avoid merging the wrong data\n",
    "aqi2019_df = aqi2019_df.replace({\"Columbia, MO\": \"ColumbiaMO\", \"Salem, OH\": \"SalemOH\", \"Columbus, GA-AL\" : \"ColumbusGA\", \"Columbus, IN\" : \"ColumbusIN\",\n",
    "                                \"Jackson, TN\": \"JacksonTN\", \"Jackson, WY-ID\": \"JacksonWY\", \"Miami, OK\": \"MiamiOK\", \"Salem, OH\": \"SalemOH\",\n",
    "                                \"Springfield, MA\": \"SpringfieldMA\", \"Springfield, MO\" : \"SpringfieldMO\", \"Springfield, OH\": \"SpringfieldOH\"})\n",
    "\n"
   ]
  },
  {
   "cell_type": "code",
   "execution_count": 41,
   "metadata": {},
   "outputs": [
    {
     "output_type": "execute_result",
     "data": {
      "text/plain": "           CBSA  CBSA Code        Date  AQI Category Defining Parameter  \\\n0  Aberdeen, SD      10100  2019-01-03    4     Good               PM10   \n1  Aberdeen, SD      10100  2019-01-06   31     Good              PM2.5   \n2  Aberdeen, SD      10100  2019-01-09    9     Good               PM10   \n3  Aberdeen, SD      10100  2019-01-12   43     Good              PM2.5   \n4  Aberdeen, SD      10100  2019-01-15   28     Good              PM2.5   \n\n  Defining Site  Number of Sites Reporting      City State  \n0   46-013-0003                          1  Aberdeen    SD  \n1   46-013-0003                          1  Aberdeen    SD  \n2   46-013-0003                          1  Aberdeen    SD  \n3   46-013-0003                          1  Aberdeen    SD  \n4   46-013-0003                          1  Aberdeen    SD  ",
      "text/html": "<div>\n<style scoped>\n    .dataframe tbody tr th:only-of-type {\n        vertical-align: middle;\n    }\n\n    .dataframe tbody tr th {\n        vertical-align: top;\n    }\n\n    .dataframe thead th {\n        text-align: right;\n    }\n</style>\n<table border=\"1\" class=\"dataframe\">\n  <thead>\n    <tr style=\"text-align: right;\">\n      <th></th>\n      <th>CBSA</th>\n      <th>CBSA Code</th>\n      <th>Date</th>\n      <th>AQI</th>\n      <th>Category</th>\n      <th>Defining Parameter</th>\n      <th>Defining Site</th>\n      <th>Number of Sites Reporting</th>\n      <th>City</th>\n      <th>State</th>\n    </tr>\n  </thead>\n  <tbody>\n    <tr>\n      <th>0</th>\n      <td>Aberdeen, SD</td>\n      <td>10100</td>\n      <td>2019-01-03</td>\n      <td>4</td>\n      <td>Good</td>\n      <td>PM10</td>\n      <td>46-013-0003</td>\n      <td>1</td>\n      <td>Aberdeen</td>\n      <td>SD</td>\n    </tr>\n    <tr>\n      <th>1</th>\n      <td>Aberdeen, SD</td>\n      <td>10100</td>\n      <td>2019-01-06</td>\n      <td>31</td>\n      <td>Good</td>\n      <td>PM2.5</td>\n      <td>46-013-0003</td>\n      <td>1</td>\n      <td>Aberdeen</td>\n      <td>SD</td>\n    </tr>\n    <tr>\n      <th>2</th>\n      <td>Aberdeen, SD</td>\n      <td>10100</td>\n      <td>2019-01-09</td>\n      <td>9</td>\n      <td>Good</td>\n      <td>PM10</td>\n      <td>46-013-0003</td>\n      <td>1</td>\n      <td>Aberdeen</td>\n      <td>SD</td>\n    </tr>\n    <tr>\n      <th>3</th>\n      <td>Aberdeen, SD</td>\n      <td>10100</td>\n      <td>2019-01-12</td>\n      <td>43</td>\n      <td>Good</td>\n      <td>PM2.5</td>\n      <td>46-013-0003</td>\n      <td>1</td>\n      <td>Aberdeen</td>\n      <td>SD</td>\n    </tr>\n    <tr>\n      <th>4</th>\n      <td>Aberdeen, SD</td>\n      <td>10100</td>\n      <td>2019-01-15</td>\n      <td>28</td>\n      <td>Good</td>\n      <td>PM2.5</td>\n      <td>46-013-0003</td>\n      <td>1</td>\n      <td>Aberdeen</td>\n      <td>SD</td>\n    </tr>\n  </tbody>\n</table>\n</div>"
     },
     "metadata": {},
     "execution_count": 41
    }
   ],
   "source": [
    "#Split CBSA into City and State\n",
    "aqi2019_df[['City','State']] = aqi2019_df.CBSA.str.split(\", \",expand=True)\n",
    "\n",
    "aqi2019_df.head()"
   ]
  },
  {
   "cell_type": "code",
   "execution_count": 42,
   "metadata": {},
   "outputs": [],
   "source": [
    "#Rename City metropolitan areas to one main city for merging\n",
    "aqi2019_df = aqi2019_df.replace({\"Atlanta-Sandy Springs-Roswell\":\"Atlanta\",\"Austin-Round Rock\":\"Austin\",\"Baltimore-Columbia-Towson\":\"Baltimore\",\n",
    "                        \"Boise City\":\"Boise\",\"Boston-Cambridge-Newton\":\"Boston\",\"New York-Newark-Jersey City\":\"New York City\",                                                  \"Charlotte-Concord-Gastonia\":\"Charlotte\",\"Chicago-Naperville-Elgin\":\"Chicago\",\"Dallas-Fort Worth-Arlington\":\"Dallas\",\n",
    "                        \"Denver-Aurora-Lakewood\":\"Denver\",\"Detroit-Warren-Dearborn\":\"Detroit\",\"Hartford-West Hartford-East Hartford\":\"Hartford\",\"Urban                          Honolulu\":\"Honolulu\", \"Houston-The Woodlands-Sugar Land\":\"Houston\",\"Indianapolis-Carmel-Anderson\":\"Indianapolis\",\"Las                                   Vegas-Henderson-Paradise\":\"Las Vegas\",\"Little Rock-North Little Rock-Conway\":\"Little Rock\",\"Los Angeles-Long Beach-Anaheim\":\"Los Angeles\",\"Miami-Fort Lauderdale-West Palm Beach\":\"Miami\",\"Milwaukee-Waukesha-West Allis\":\"Milwaukee\",                     \n",
    "                        \"Nashville-Davidson--Murfreesboro--Franklin\":\"Nashville\",\"Omaha-Council Bluffs\":\"Omaha\",\"Philadelphia-Camden-Wilmington\":\n",
    "                        \"Philadelphia\",\"Phoenix-Mesa-Scottsdale\":\"Phoenix\",\"Portland-Vancouver-Hillsboro\":\"Portland\",\"Providence-Warwick\":\"Providence\",\n",
    "                        \"Sacramento--Roseville--Arden-Arcade\":\"Sacramento\",\"Minneapolis-St. Paul-Bloomington\":\"Saint Paul\",\"San Antonio-New Braunfels\":\n",
    "                        \"San Antonio\",\"San Diego-Carlsbad\":\"San Diego\",\"San Francisco-Oakland-Hayward\":\"San Francisco\",\"San Jose-Sunnyvale-Santa Clara\":\n",
    "                        \"San Jose\",\"Seattle-Tacoma-Bellevue\":\"Seattle\",\"Washington-Arlington-Alexandria\":\"Washington, D.C.\"})"
   ]
  },
  {
   "cell_type": "code",
   "execution_count": 43,
   "metadata": {},
   "outputs": [],
   "source": [
    "#Replace state values of multiple states with one state\n",
    "aqi2019_df = aqi2019_df.replace({\"MA-NH\":\"MA\",\"IL-IN-WI\":\"IL\",\"NC-SC\":\"NC\",\"TN-MS-AR\":\"TN\",\"MN-WI\":\"MN\",\"NY-NJ-PA\":\"NY\",\"NE-IA\":\"NE\",\n",
    "                                    \"PA-NJ-DE-MD\":\"PA\",\"OR-WA\":\"OR\",\"RI-MA\":\"RI\",\"DC-VA-MD-WV\":\"DC\"})"
   ]
  },
  {
   "cell_type": "code",
   "execution_count": 44,
   "metadata": {},
   "outputs": [
    {
     "output_type": "execute_result",
     "data": {
      "text/plain": "CA          12268\nTX           9244\nPA           8296\nFL           7801\nWA           6883\n            ...  \nAR-OK         361\nSC-NC         356\nTX-AR         349\nIL-MO         241\nIA-IL-MO      120\nName: State, Length: 85, dtype: int64"
     },
     "metadata": {},
     "execution_count": 44
    }
   ],
   "source": [
    "aqi2019_df[\"State\"].value_counts()"
   ]
  },
  {
   "cell_type": "code",
   "execution_count": 45,
   "metadata": {},
   "outputs": [
    {
     "output_type": "execute_result",
     "data": {
      "text/plain": "29181    IL\n29182    IL\n29183    IL\n29184    IL\n29185    IL\n         ..\n29541    IL\n29542    IL\n29543    IL\n29544    IL\n29545    IL\nName: State, Length: 365, dtype: object"
     },
     "metadata": {},
     "execution_count": 45
    }
   ],
   "source": [
    "aqi2019_df.loc[aqi2019_df[\"City\"] == \"Chicago\", \"State\"]"
   ]
  },
  {
   "cell_type": "code",
   "execution_count": 48,
   "metadata": {},
   "outputs": [],
   "source": [
    "# URL for JSON with cities and geo data\n",
    "url = \"https://aqicn.org/data-platform/covid19/airquality-covid19-cities.json\""
   ]
  },
  {
   "cell_type": "code",
   "execution_count": 24,
   "metadata": {},
   "outputs": [
    {
     "output_type": "execute_result",
     "data": {
      "text/plain": "    csvsize                                               data  \\\n0  46726470  {'Place': {'geo': [38.53575, 68.77905], 'featu...   \n1  46726470  {'Place': {'geo': [24.45118, 54.39696], 'featu...   \n2  46726470  {'Place': {'geo': [25.07725, 55.30927], 'featu...   \n3  46726470  {'Place': {'geo': [60.29414, 25.04099], 'featu...   \n4  46726470  {'Place': {'geo': [60.45148, 22.26869], 'featu...   \n\n                   generated  \n0  2020-05-28T20:54:02+01:00  \n1  2020-05-28T20:54:02+01:00  \n2  2020-05-28T20:54:02+01:00  \n3  2020-05-28T20:54:02+01:00  \n4  2020-05-28T20:54:02+01:00  ",
      "text/html": "<div>\n<style scoped>\n    .dataframe tbody tr th:only-of-type {\n        vertical-align: middle;\n    }\n\n    .dataframe tbody tr th {\n        vertical-align: top;\n    }\n\n    .dataframe thead th {\n        text-align: right;\n    }\n</style>\n<table border=\"1\" class=\"dataframe\">\n  <thead>\n    <tr style=\"text-align: right;\">\n      <th></th>\n      <th>csvsize</th>\n      <th>data</th>\n      <th>generated</th>\n    </tr>\n  </thead>\n  <tbody>\n    <tr>\n      <th>0</th>\n      <td>46726470</td>\n      <td>{'Place': {'geo': [38.53575, 68.77905], 'featu...</td>\n      <td>2020-05-28T20:54:02+01:00</td>\n    </tr>\n    <tr>\n      <th>1</th>\n      <td>46726470</td>\n      <td>{'Place': {'geo': [24.45118, 54.39696], 'featu...</td>\n      <td>2020-05-28T20:54:02+01:00</td>\n    </tr>\n    <tr>\n      <th>2</th>\n      <td>46726470</td>\n      <td>{'Place': {'geo': [25.07725, 55.30927], 'featu...</td>\n      <td>2020-05-28T20:54:02+01:00</td>\n    </tr>\n    <tr>\n      <th>3</th>\n      <td>46726470</td>\n      <td>{'Place': {'geo': [60.29414, 25.04099], 'featu...</td>\n      <td>2020-05-28T20:54:02+01:00</td>\n    </tr>\n    <tr>\n      <th>4</th>\n      <td>46726470</td>\n      <td>{'Place': {'geo': [60.45148, 22.26869], 'featu...</td>\n      <td>2020-05-28T20:54:02+01:00</td>\n    </tr>\n  </tbody>\n</table>\n</div>"
     },
     "metadata": {},
     "execution_count": 24
    }
   ],
   "source": [
    "#Read JSON into a dataframe\n",
    "df = pd.read_json(url)\n",
    "\n",
    "df.head()"
   ]
  },
  {
   "cell_type": "code",
   "execution_count": 49,
   "metadata": {
    "tags": [
     "outputPrepend",
     "outputPrepend",
     "outputPrepend",
     "outputPrepend",
     "outputPrepend",
     "outputPrepend",
     "outputPrepend",
     "outputPrepend",
     "outputPrepend",
     "outputPrepend",
     "outputPrepend",
     "outputPrepend",
     "outputPrepend"
    ]
   },
   "outputs": [
    {
     "output_type": "execute_result",
     "data": {
      "text/plain": "                                             Sources  \\\n0  [{'name': 'Citizen Weather Observer Program (C...   \n1  [{'name': 'Citizen Weather Observer Program (C...   \n2  [{'name': 'Citizen Weather Observer Program (C...   \n3  [{'name': 'World Meteorological Organization -...   \n4  [{'name': 'Citizen Weather Observer Program (C...   \n\n                                            Stations              Place.geo  \\\n0           [{'Name': 'Conakry US Embassy, Guinea'}]   [9.53795, -13.67729]   \n1  [{'Name': 'US Embassy, Guatemala City, Guatema...  [14.64072, -90.51327]   \n2  [{'Name': 'Kacheripady, Ernakulam, India'}, {'...   [10.51667, 76.21667]   \n3  [{'Name': 'New Delhi US Embassy, India (नई दिल...   [28.63576, 77.22445]   \n4  [{'Name': 'Zoo Park, Bahadurpura West, Hyderab...   [17.38405, 78.45636]   \n\n  Place.feature      Place.name Place.country  Place.pop  \n0          PPLC         Conakry            GN    1767200  \n1          PPLC  Guatemala City            GT     994938  \n2         PPLA2        Thrissur            IN     325110  \n3          PPLC       New Delhi            IN     317797  \n4          PPLA       Hyderabad            IN    3597816  ",
      "text/html": "<div>\n<style scoped>\n    .dataframe tbody tr th:only-of-type {\n        vertical-align: middle;\n    }\n\n    .dataframe tbody tr th {\n        vertical-align: top;\n    }\n\n    .dataframe thead th {\n        text-align: right;\n    }\n</style>\n<table border=\"1\" class=\"dataframe\">\n  <thead>\n    <tr style=\"text-align: right;\">\n      <th></th>\n      <th>Sources</th>\n      <th>Stations</th>\n      <th>Place.geo</th>\n      <th>Place.feature</th>\n      <th>Place.name</th>\n      <th>Place.country</th>\n      <th>Place.pop</th>\n    </tr>\n  </thead>\n  <tbody>\n    <tr>\n      <th>0</th>\n      <td>[{'name': 'Citizen Weather Observer Program (C...</td>\n      <td>[{'Name': 'Conakry US Embassy, Guinea'}]</td>\n      <td>[9.53795, -13.67729]</td>\n      <td>PPLC</td>\n      <td>Conakry</td>\n      <td>GN</td>\n      <td>1767200</td>\n    </tr>\n    <tr>\n      <th>1</th>\n      <td>[{'name': 'Citizen Weather Observer Program (C...</td>\n      <td>[{'Name': 'US Embassy, Guatemala City, Guatema...</td>\n      <td>[14.64072, -90.51327]</td>\n      <td>PPLC</td>\n      <td>Guatemala City</td>\n      <td>GT</td>\n      <td>994938</td>\n    </tr>\n    <tr>\n      <th>2</th>\n      <td>[{'name': 'Citizen Weather Observer Program (C...</td>\n      <td>[{'Name': 'Kacheripady, Ernakulam, India'}, {'...</td>\n      <td>[10.51667, 76.21667]</td>\n      <td>PPLA2</td>\n      <td>Thrissur</td>\n      <td>IN</td>\n      <td>325110</td>\n    </tr>\n    <tr>\n      <th>3</th>\n      <td>[{'name': 'World Meteorological Organization -...</td>\n      <td>[{'Name': 'New Delhi US Embassy, India (नई दिल...</td>\n      <td>[28.63576, 77.22445]</td>\n      <td>PPLC</td>\n      <td>New Delhi</td>\n      <td>IN</td>\n      <td>317797</td>\n    </tr>\n    <tr>\n      <th>4</th>\n      <td>[{'name': 'Citizen Weather Observer Program (C...</td>\n      <td>[{'Name': 'Zoo Park, Bahadurpura West, Hyderab...</td>\n      <td>[17.38405, 78.45636]</td>\n      <td>PPLA</td>\n      <td>Hyderabad</td>\n      <td>IN</td>\n      <td>3597816</td>\n    </tr>\n  </tbody>\n</table>\n</div>"
     },
     "metadata": {},
     "execution_count": 49
    }
   ],
   "source": [
    "# Uses requests.get() to load JSON into text\n",
    "response = json.loads(requests.get(url).text)\n",
    "\n",
    "#Flattens the nested JSON of the 'data' column into its own DataFrame to get the Places geo data\n",
    "geo_df = pd.io.json.json_normalize(response['data'])\n",
    "#pprint(response)\n",
    "geo_df.head()"
   ]
  },
  {
   "cell_type": "code",
   "execution_count": 50,
   "metadata": {},
   "outputs": [],
   "source": [
    "#Puts the geo data and name into a dataframe\n",
    "places_df = geo_df[['Place.geo','Place.name','Place.country','Place.pop']]"
   ]
  },
  {
   "cell_type": "code",
   "execution_count": 51,
   "metadata": {},
   "outputs": [
    {
     "output_type": "execute_result",
     "data": {
      "text/plain": "               Place.geo      Place.name Place.country  Place.pop\n0   [9.53795, -13.67729]         Conakry            GN    1767200\n1  [14.64072, -90.51327]  Guatemala City            GT     994938\n2   [10.51667, 76.21667]        Thrissur            IN     325110\n3   [28.63576, 77.22445]       New Delhi            IN     317797\n4   [17.38405, 78.45636]       Hyderabad            IN    3597816",
      "text/html": "<div>\n<style scoped>\n    .dataframe tbody tr th:only-of-type {\n        vertical-align: middle;\n    }\n\n    .dataframe tbody tr th {\n        vertical-align: top;\n    }\n\n    .dataframe thead th {\n        text-align: right;\n    }\n</style>\n<table border=\"1\" class=\"dataframe\">\n  <thead>\n    <tr style=\"text-align: right;\">\n      <th></th>\n      <th>Place.geo</th>\n      <th>Place.name</th>\n      <th>Place.country</th>\n      <th>Place.pop</th>\n    </tr>\n  </thead>\n  <tbody>\n    <tr>\n      <th>0</th>\n      <td>[9.53795, -13.67729]</td>\n      <td>Conakry</td>\n      <td>GN</td>\n      <td>1767200</td>\n    </tr>\n    <tr>\n      <th>1</th>\n      <td>[14.64072, -90.51327]</td>\n      <td>Guatemala City</td>\n      <td>GT</td>\n      <td>994938</td>\n    </tr>\n    <tr>\n      <th>2</th>\n      <td>[10.51667, 76.21667]</td>\n      <td>Thrissur</td>\n      <td>IN</td>\n      <td>325110</td>\n    </tr>\n    <tr>\n      <th>3</th>\n      <td>[28.63576, 77.22445]</td>\n      <td>New Delhi</td>\n      <td>IN</td>\n      <td>317797</td>\n    </tr>\n    <tr>\n      <th>4</th>\n      <td>[17.38405, 78.45636]</td>\n      <td>Hyderabad</td>\n      <td>IN</td>\n      <td>3597816</td>\n    </tr>\n  </tbody>\n</table>\n</div>"
     },
     "metadata": {},
     "execution_count": 51
    }
   ],
   "source": [
    "places_df.head()"
   ]
  },
  {
   "cell_type": "code",
   "execution_count": 52,
   "metadata": {},
   "outputs": [
    {
     "output_type": "execute_result",
     "data": {
      "text/plain": "                     Geo            City Country  Population\n0   [9.53795, -13.67729]         Conakry      GN     1767200\n1  [14.64072, -90.51327]  Guatemala City      GT      994938\n2   [10.51667, 76.21667]        Thrissur      IN      325110\n3   [28.63576, 77.22445]       New Delhi      IN      317797\n4   [17.38405, 78.45636]       Hyderabad      IN     3597816",
      "text/html": "<div>\n<style scoped>\n    .dataframe tbody tr th:only-of-type {\n        vertical-align: middle;\n    }\n\n    .dataframe tbody tr th {\n        vertical-align: top;\n    }\n\n    .dataframe thead th {\n        text-align: right;\n    }\n</style>\n<table border=\"1\" class=\"dataframe\">\n  <thead>\n    <tr style=\"text-align: right;\">\n      <th></th>\n      <th>Geo</th>\n      <th>City</th>\n      <th>Country</th>\n      <th>Population</th>\n    </tr>\n  </thead>\n  <tbody>\n    <tr>\n      <th>0</th>\n      <td>[9.53795, -13.67729]</td>\n      <td>Conakry</td>\n      <td>GN</td>\n      <td>1767200</td>\n    </tr>\n    <tr>\n      <th>1</th>\n      <td>[14.64072, -90.51327]</td>\n      <td>Guatemala City</td>\n      <td>GT</td>\n      <td>994938</td>\n    </tr>\n    <tr>\n      <th>2</th>\n      <td>[10.51667, 76.21667]</td>\n      <td>Thrissur</td>\n      <td>IN</td>\n      <td>325110</td>\n    </tr>\n    <tr>\n      <th>3</th>\n      <td>[28.63576, 77.22445]</td>\n      <td>New Delhi</td>\n      <td>IN</td>\n      <td>317797</td>\n    </tr>\n    <tr>\n      <th>4</th>\n      <td>[17.38405, 78.45636]</td>\n      <td>Hyderabad</td>\n      <td>IN</td>\n      <td>3597816</td>\n    </tr>\n  </tbody>\n</table>\n</div>"
     },
     "metadata": {},
     "execution_count": 52
    }
   ],
   "source": [
    "#Rename columns for merging purposes\n",
    "places_df = places_df.rename(columns = {'Place.geo':'Geo','Place.name':'City', 'Place.country':'Country', \"Place.pop\":\"Population\"})\n",
    "places_df.head()"
   ]
  },
  {
   "cell_type": "code",
   "execution_count": 54,
   "metadata": {},
   "outputs": [
    {
     "output_type": "stream",
     "name": "stdout",
     "text": "Staten Island       1\nAtlanta             1\nPortland            1\nSeattle             1\nBaltimore           1\nAlbuquerque         1\nIndianapolis        1\nColumbus            1\nJacksonville        1\nJackson             1\nOmaha               1\nProvidence          1\nDenver              1\nTucson              1\nManhattan           1\nWashington, D.C.    1\nOakland             1\nPhiladelphia        1\nEl Paso             1\nSaint Paul          1\nMiami               1\nHouston             1\nQueens              1\nThe Bronx           1\nHartford            1\nSan Jose            1\nHonolulu            1\nLas Vegas           1\nNashville           1\nPhoenix             1\nSpringfield         1\nSan Antonio         1\nMilwaukee           1\nFresno              1\nFort Worth          1\nCharlotte           1\nBoise               1\nOklahoma City       1\nSalem               1\nDallas              1\nChicago             1\nTallahassee         1\nLos Angeles         1\nRichmond            1\nBoston              1\nSan Francisco       1\nBrooklyn            1\nLittle Rock         1\nDetroit             1\nMemphis             1\nMadison             1\nAustin              1\nSacramento          1\nRaleigh             1\nSan Diego           1\nColumbia            1\nSalt Lake City      1\nName: City, dtype: int64\n"
    },
    {
     "output_type": "execute_result",
     "data": {
      "text/plain": "True     48\nFalse     9\nName: City, dtype: int64"
     },
     "metadata": {},
     "execution_count": 54
    }
   ],
   "source": [
    "#Select only the US values from the dataframe\n",
    "us_df = places_df.loc[places_df[\"Country\"] == \"US\"]\n",
    "print(us_df[\"City\"].value_counts())\n",
    "us_df[\"City\"].isin(aqi2019_df[\"City\"]).value_counts()"
   ]
  },
  {
   "cell_type": "code",
   "execution_count": 55,
   "metadata": {},
   "outputs": [],
   "source": [
    "#Replace Manhattan with New York City for the merge\n",
    "us_df = us_df.replace({\"Manhattan\":\"New York City\"})"
   ]
  },
  {
   "cell_type": "code",
   "execution_count": 21,
   "metadata": {},
   "outputs": [],
   "source": [
    "us_df.to_csv(\"us_locations.csv\")"
   ]
  },
  {
   "cell_type": "code",
   "execution_count": 56,
   "metadata": {},
   "outputs": [
    {
     "output_type": "execute_result",
     "data": {
      "text/plain": "              CBSA  CBSA Code        Date  AQI  Category Defining Parameter  \\\n0  Albuquerque, NM      10740  2019-01-01   42      Good               PM10   \n1  Albuquerque, NM      10740  2019-01-02   40      Good              PM2.5   \n2  Albuquerque, NM      10740  2019-01-03   55  Moderate              PM2.5   \n3  Albuquerque, NM      10740  2019-01-04   57  Moderate              PM2.5   \n4  Albuquerque, NM      10740  2019-01-05   66  Moderate              PM2.5   \n\n  Defining Site  Number of Sites Reporting         City State  \\\n0   35-001-0029                          8  Albuquerque    NM   \n1   35-001-1012                          8  Albuquerque    NM   \n2   35-001-0029                          8  Albuquerque    NM   \n3   35-001-0029                          8  Albuquerque    NM   \n4   35-001-0029                          8  Albuquerque    NM   \n\n                      Geo Country  Population  \n0  [35.08449, -106.65114]      US      559121  \n1  [35.08449, -106.65114]      US      559121  \n2  [35.08449, -106.65114]      US      559121  \n3  [35.08449, -106.65114]      US      559121  \n4  [35.08449, -106.65114]      US      559121  ",
      "text/html": "<div>\n<style scoped>\n    .dataframe tbody tr th:only-of-type {\n        vertical-align: middle;\n    }\n\n    .dataframe tbody tr th {\n        vertical-align: top;\n    }\n\n    .dataframe thead th {\n        text-align: right;\n    }\n</style>\n<table border=\"1\" class=\"dataframe\">\n  <thead>\n    <tr style=\"text-align: right;\">\n      <th></th>\n      <th>CBSA</th>\n      <th>CBSA Code</th>\n      <th>Date</th>\n      <th>AQI</th>\n      <th>Category</th>\n      <th>Defining Parameter</th>\n      <th>Defining Site</th>\n      <th>Number of Sites Reporting</th>\n      <th>City</th>\n      <th>State</th>\n      <th>Geo</th>\n      <th>Country</th>\n      <th>Population</th>\n    </tr>\n  </thead>\n  <tbody>\n    <tr>\n      <th>0</th>\n      <td>Albuquerque, NM</td>\n      <td>10740</td>\n      <td>2019-01-01</td>\n      <td>42</td>\n      <td>Good</td>\n      <td>PM10</td>\n      <td>35-001-0029</td>\n      <td>8</td>\n      <td>Albuquerque</td>\n      <td>NM</td>\n      <td>[35.08449, -106.65114]</td>\n      <td>US</td>\n      <td>559121</td>\n    </tr>\n    <tr>\n      <th>1</th>\n      <td>Albuquerque, NM</td>\n      <td>10740</td>\n      <td>2019-01-02</td>\n      <td>40</td>\n      <td>Good</td>\n      <td>PM2.5</td>\n      <td>35-001-1012</td>\n      <td>8</td>\n      <td>Albuquerque</td>\n      <td>NM</td>\n      <td>[35.08449, -106.65114]</td>\n      <td>US</td>\n      <td>559121</td>\n    </tr>\n    <tr>\n      <th>2</th>\n      <td>Albuquerque, NM</td>\n      <td>10740</td>\n      <td>2019-01-03</td>\n      <td>55</td>\n      <td>Moderate</td>\n      <td>PM2.5</td>\n      <td>35-001-0029</td>\n      <td>8</td>\n      <td>Albuquerque</td>\n      <td>NM</td>\n      <td>[35.08449, -106.65114]</td>\n      <td>US</td>\n      <td>559121</td>\n    </tr>\n    <tr>\n      <th>3</th>\n      <td>Albuquerque, NM</td>\n      <td>10740</td>\n      <td>2019-01-04</td>\n      <td>57</td>\n      <td>Moderate</td>\n      <td>PM2.5</td>\n      <td>35-001-0029</td>\n      <td>8</td>\n      <td>Albuquerque</td>\n      <td>NM</td>\n      <td>[35.08449, -106.65114]</td>\n      <td>US</td>\n      <td>559121</td>\n    </tr>\n    <tr>\n      <th>4</th>\n      <td>Albuquerque, NM</td>\n      <td>10740</td>\n      <td>2019-01-05</td>\n      <td>66</td>\n      <td>Moderate</td>\n      <td>PM2.5</td>\n      <td>35-001-0029</td>\n      <td>8</td>\n      <td>Albuquerque</td>\n      <td>NM</td>\n      <td>[35.08449, -106.65114]</td>\n      <td>US</td>\n      <td>559121</td>\n    </tr>\n  </tbody>\n</table>\n</div>"
     },
     "metadata": {},
     "execution_count": 56
    }
   ],
   "source": [
    "#Inner merge\n",
    "new2019_df = aqi2019_df.merge(us_df,on=\"City\",how=\"inner\")\n",
    "\n",
    "new2019_df.head()"
   ]
  },
  {
   "cell_type": "code",
   "execution_count": 59,
   "metadata": {},
   "outputs": [
    {
     "output_type": "execute_result",
     "data": {
      "text/plain": "CA    2190\nTX    1825\nFL    1093\nAZ     730\nTN     730\nWI     730\nNC     730\nIL     725\nOR     721\nNE     365\nCO     365\nMS     365\nGA     365\nCT     365\nAR     365\nPA     365\nOH     365\nOK     365\nVA     365\nWA     365\nRI     365\nDC     365\nMD     365\nNM     365\nIN     365\nID     365\nMA     365\nNY     365\nMN     365\nMI     365\nUT     365\nSC     365\nName: State, dtype: int64"
     },
     "metadata": {},
     "execution_count": 59
    }
   ],
   "source": [
    "\n",
    "new2019_df[\"State\"].value_counts()"
   ]
  },
  {
   "cell_type": "code",
   "execution_count": 73,
   "metadata": {},
   "outputs": [],
   "source": [
    "#Store data to CSV for verification\n",
    "new_df.to_csv(\"sample_data.csv\")"
   ]
  },
  {
   "cell_type": "code",
   "execution_count": 60,
   "metadata": {},
   "outputs": [
    {
     "output_type": "execute_result",
     "data": {
      "text/plain": "            Lat        Lng\n0      35.08449 -106.65114\n1      35.08449 -106.65114\n2      35.08449 -106.65114\n3      35.08449 -106.65114\n4      35.08449 -106.65114\n...         ...        ...\n17864  38.89511  -77.03637\n17865  38.89511  -77.03637\n17866  38.89511  -77.03637\n17867  38.89511  -77.03637\n17868  38.89511  -77.03637\n\n[17869 rows x 2 columns]",
      "text/html": "<div>\n<style scoped>\n    .dataframe tbody tr th:only-of-type {\n        vertical-align: middle;\n    }\n\n    .dataframe tbody tr th {\n        vertical-align: top;\n    }\n\n    .dataframe thead th {\n        text-align: right;\n    }\n</style>\n<table border=\"1\" class=\"dataframe\">\n  <thead>\n    <tr style=\"text-align: right;\">\n      <th></th>\n      <th>Lat</th>\n      <th>Lng</th>\n    </tr>\n  </thead>\n  <tbody>\n    <tr>\n      <th>0</th>\n      <td>35.08449</td>\n      <td>-106.65114</td>\n    </tr>\n    <tr>\n      <th>1</th>\n      <td>35.08449</td>\n      <td>-106.65114</td>\n    </tr>\n    <tr>\n      <th>2</th>\n      <td>35.08449</td>\n      <td>-106.65114</td>\n    </tr>\n    <tr>\n      <th>3</th>\n      <td>35.08449</td>\n      <td>-106.65114</td>\n    </tr>\n    <tr>\n      <th>4</th>\n      <td>35.08449</td>\n      <td>-106.65114</td>\n    </tr>\n    <tr>\n      <th>...</th>\n      <td>...</td>\n      <td>...</td>\n    </tr>\n    <tr>\n      <th>17864</th>\n      <td>38.89511</td>\n      <td>-77.03637</td>\n    </tr>\n    <tr>\n      <th>17865</th>\n      <td>38.89511</td>\n      <td>-77.03637</td>\n    </tr>\n    <tr>\n      <th>17866</th>\n      <td>38.89511</td>\n      <td>-77.03637</td>\n    </tr>\n    <tr>\n      <th>17867</th>\n      <td>38.89511</td>\n      <td>-77.03637</td>\n    </tr>\n    <tr>\n      <th>17868</th>\n      <td>38.89511</td>\n      <td>-77.03637</td>\n    </tr>\n  </tbody>\n</table>\n<p>17869 rows × 2 columns</p>\n</div>"
     },
     "metadata": {},
     "execution_count": 60
    }
   ],
   "source": [
    "#Split up the location data into latitude and longitude\n",
    "loc_df = pd.DataFrame(new2019_df['Geo'].to_list(),index=None, columns =['Lat','Lng'])\n",
    "\n",
    "loc_df"
   ]
  },
  {
   "cell_type": "code",
   "execution_count": 61,
   "metadata": {},
   "outputs": [
    {
     "output_type": "execute_result",
     "data": {
      "text/plain": "              CBSA  CBSA Code        Date  AQI  Category Defining Parameter  \\\n0  Albuquerque, NM      10740  2019-01-01   42      Good               PM10   \n1  Albuquerque, NM      10740  2019-01-02   40      Good              PM2.5   \n2  Albuquerque, NM      10740  2019-01-03   55  Moderate              PM2.5   \n3  Albuquerque, NM      10740  2019-01-04   57  Moderate              PM2.5   \n4  Albuquerque, NM      10740  2019-01-05   66  Moderate              PM2.5   \n\n  Defining Site  Number of Sites Reporting         City State  \\\n0   35-001-0029                          8  Albuquerque    NM   \n1   35-001-1012                          8  Albuquerque    NM   \n2   35-001-0029                          8  Albuquerque    NM   \n3   35-001-0029                          8  Albuquerque    NM   \n4   35-001-0029                          8  Albuquerque    NM   \n\n                      Geo Country  Population       Lat        Lng  \n0  [35.08449, -106.65114]      US      559121  35.08449 -106.65114  \n1  [35.08449, -106.65114]      US      559121  35.08449 -106.65114  \n2  [35.08449, -106.65114]      US      559121  35.08449 -106.65114  \n3  [35.08449, -106.65114]      US      559121  35.08449 -106.65114  \n4  [35.08449, -106.65114]      US      559121  35.08449 -106.65114  ",
      "text/html": "<div>\n<style scoped>\n    .dataframe tbody tr th:only-of-type {\n        vertical-align: middle;\n    }\n\n    .dataframe tbody tr th {\n        vertical-align: top;\n    }\n\n    .dataframe thead th {\n        text-align: right;\n    }\n</style>\n<table border=\"1\" class=\"dataframe\">\n  <thead>\n    <tr style=\"text-align: right;\">\n      <th></th>\n      <th>CBSA</th>\n      <th>CBSA Code</th>\n      <th>Date</th>\n      <th>AQI</th>\n      <th>Category</th>\n      <th>Defining Parameter</th>\n      <th>Defining Site</th>\n      <th>Number of Sites Reporting</th>\n      <th>City</th>\n      <th>State</th>\n      <th>Geo</th>\n      <th>Country</th>\n      <th>Population</th>\n      <th>Lat</th>\n      <th>Lng</th>\n    </tr>\n  </thead>\n  <tbody>\n    <tr>\n      <th>0</th>\n      <td>Albuquerque, NM</td>\n      <td>10740</td>\n      <td>2019-01-01</td>\n      <td>42</td>\n      <td>Good</td>\n      <td>PM10</td>\n      <td>35-001-0029</td>\n      <td>8</td>\n      <td>Albuquerque</td>\n      <td>NM</td>\n      <td>[35.08449, -106.65114]</td>\n      <td>US</td>\n      <td>559121</td>\n      <td>35.08449</td>\n      <td>-106.65114</td>\n    </tr>\n    <tr>\n      <th>1</th>\n      <td>Albuquerque, NM</td>\n      <td>10740</td>\n      <td>2019-01-02</td>\n      <td>40</td>\n      <td>Good</td>\n      <td>PM2.5</td>\n      <td>35-001-1012</td>\n      <td>8</td>\n      <td>Albuquerque</td>\n      <td>NM</td>\n      <td>[35.08449, -106.65114]</td>\n      <td>US</td>\n      <td>559121</td>\n      <td>35.08449</td>\n      <td>-106.65114</td>\n    </tr>\n    <tr>\n      <th>2</th>\n      <td>Albuquerque, NM</td>\n      <td>10740</td>\n      <td>2019-01-03</td>\n      <td>55</td>\n      <td>Moderate</td>\n      <td>PM2.5</td>\n      <td>35-001-0029</td>\n      <td>8</td>\n      <td>Albuquerque</td>\n      <td>NM</td>\n      <td>[35.08449, -106.65114]</td>\n      <td>US</td>\n      <td>559121</td>\n      <td>35.08449</td>\n      <td>-106.65114</td>\n    </tr>\n    <tr>\n      <th>3</th>\n      <td>Albuquerque, NM</td>\n      <td>10740</td>\n      <td>2019-01-04</td>\n      <td>57</td>\n      <td>Moderate</td>\n      <td>PM2.5</td>\n      <td>35-001-0029</td>\n      <td>8</td>\n      <td>Albuquerque</td>\n      <td>NM</td>\n      <td>[35.08449, -106.65114]</td>\n      <td>US</td>\n      <td>559121</td>\n      <td>35.08449</td>\n      <td>-106.65114</td>\n    </tr>\n    <tr>\n      <th>4</th>\n      <td>Albuquerque, NM</td>\n      <td>10740</td>\n      <td>2019-01-05</td>\n      <td>66</td>\n      <td>Moderate</td>\n      <td>PM2.5</td>\n      <td>35-001-0029</td>\n      <td>8</td>\n      <td>Albuquerque</td>\n      <td>NM</td>\n      <td>[35.08449, -106.65114]</td>\n      <td>US</td>\n      <td>559121</td>\n      <td>35.08449</td>\n      <td>-106.65114</td>\n    </tr>\n  </tbody>\n</table>\n</div>"
     },
     "metadata": {},
     "execution_count": 61
    }
   ],
   "source": [
    "#Join the divided lat/lng df to the main dataframe\n",
    "new2019_df = new2019_df.join(loc_df)\n",
    "\n",
    "new2019_df.head()"
   ]
  },
  {
   "cell_type": "code",
   "execution_count": 62,
   "metadata": {},
   "outputs": [
    {
     "output_type": "stream",
     "name": "stdout",
     "text": "Date                   object\nCITY                   object\nState                  object\nLat                   float64\nLng                   float64\nAQI                     int64\nCategory              float64\nDefining Parameter     object\nSource                 object\nCO                     object\nOzone                  object\nSO2                    object\nPM10                   object\nPM25                   object\nNO2                    object\ndtype: object\n"
    },
    {
     "output_type": "execute_result",
     "data": {
      "text/plain": "       Date         CITY State       Lat        Lng  AQI  Category  \\\n0  1/1/2020  Albuquerque    NM  35.08449 -106.65114   54       NaN   \n1  1/2/2020  Albuquerque    NM  35.08449 -106.65114   39       NaN   \n2  1/3/2020  Albuquerque    NM  35.08449 -106.65114   38       NaN   \n3  1/4/2020  Albuquerque    NM  35.08449 -106.65114   50       NaN   \n4  1/5/2020  Albuquerque    NM  35.08449 -106.65114   63       NaN   \n\n  Defining Parameter  Source  CO Ozone  SO2 PM10 PM25  NO2  \n0              PM2.5  AirNow  42    54  NaN  NaN  NaN  NaN  \n1              Ozone  AirNow  39    30  NaN  NaN  NaN  NaN  \n2              Ozone  AirNow  38    37  NaN  NaN  NaN  NaN  \n3              PM2.5  AirNow  36    50  NaN  NaN  NaN  NaN  \n4              PM2.5  AirNow  37    63  NaN  NaN  NaN  NaN  ",
      "text/html": "<div>\n<style scoped>\n    .dataframe tbody tr th:only-of-type {\n        vertical-align: middle;\n    }\n\n    .dataframe tbody tr th {\n        vertical-align: top;\n    }\n\n    .dataframe thead th {\n        text-align: right;\n    }\n</style>\n<table border=\"1\" class=\"dataframe\">\n  <thead>\n    <tr style=\"text-align: right;\">\n      <th></th>\n      <th>Date</th>\n      <th>CITY</th>\n      <th>State</th>\n      <th>Lat</th>\n      <th>Lng</th>\n      <th>AQI</th>\n      <th>Category</th>\n      <th>Defining Parameter</th>\n      <th>Source</th>\n      <th>CO</th>\n      <th>Ozone</th>\n      <th>SO2</th>\n      <th>PM10</th>\n      <th>PM25</th>\n      <th>NO2</th>\n    </tr>\n  </thead>\n  <tbody>\n    <tr>\n      <th>0</th>\n      <td>1/1/2020</td>\n      <td>Albuquerque</td>\n      <td>NM</td>\n      <td>35.08449</td>\n      <td>-106.65114</td>\n      <td>54</td>\n      <td>NaN</td>\n      <td>PM2.5</td>\n      <td>AirNow</td>\n      <td>42</td>\n      <td>54</td>\n      <td>NaN</td>\n      <td>NaN</td>\n      <td>NaN</td>\n      <td>NaN</td>\n    </tr>\n    <tr>\n      <th>1</th>\n      <td>1/2/2020</td>\n      <td>Albuquerque</td>\n      <td>NM</td>\n      <td>35.08449</td>\n      <td>-106.65114</td>\n      <td>39</td>\n      <td>NaN</td>\n      <td>Ozone</td>\n      <td>AirNow</td>\n      <td>39</td>\n      <td>30</td>\n      <td>NaN</td>\n      <td>NaN</td>\n      <td>NaN</td>\n      <td>NaN</td>\n    </tr>\n    <tr>\n      <th>2</th>\n      <td>1/3/2020</td>\n      <td>Albuquerque</td>\n      <td>NM</td>\n      <td>35.08449</td>\n      <td>-106.65114</td>\n      <td>38</td>\n      <td>NaN</td>\n      <td>Ozone</td>\n      <td>AirNow</td>\n      <td>38</td>\n      <td>37</td>\n      <td>NaN</td>\n      <td>NaN</td>\n      <td>NaN</td>\n      <td>NaN</td>\n    </tr>\n    <tr>\n      <th>3</th>\n      <td>1/4/2020</td>\n      <td>Albuquerque</td>\n      <td>NM</td>\n      <td>35.08449</td>\n      <td>-106.65114</td>\n      <td>50</td>\n      <td>NaN</td>\n      <td>PM2.5</td>\n      <td>AirNow</td>\n      <td>36</td>\n      <td>50</td>\n      <td>NaN</td>\n      <td>NaN</td>\n      <td>NaN</td>\n      <td>NaN</td>\n    </tr>\n    <tr>\n      <th>4</th>\n      <td>1/5/2020</td>\n      <td>Albuquerque</td>\n      <td>NM</td>\n      <td>35.08449</td>\n      <td>-106.65114</td>\n      <td>63</td>\n      <td>NaN</td>\n      <td>PM2.5</td>\n      <td>AirNow</td>\n      <td>37</td>\n      <td>63</td>\n      <td>NaN</td>\n      <td>NaN</td>\n      <td>NaN</td>\n      <td>NaN</td>\n    </tr>\n  </tbody>\n</table>\n</div>"
     },
     "metadata": {},
     "execution_count": 62
    }
   ],
   "source": [
    "#Print out the data types and the first values of the 2020 dataframe\n",
    "print(aqi2020_df.dtypes)\n",
    "aqi2020_df.head()"
   ]
  },
  {
   "cell_type": "code",
   "execution_count": 64,
   "metadata": {},
   "outputs": [],
   "source": [
    "#Set the category value for AQI based on the AQI value\n",
    "aqi2020_df.loc[aqi2020_df[\"AQI\"] <= 50, 'Category'] = \"Good\"\n",
    "aqi2020_df.loc[(aqi2020_df[\"AQI\"] > 50) & (aqi2020_df[\"AQI\"] <= 100), 'Category'] = \"Moderate\"\n",
    "aqi2020_df.loc[(aqi2020_df[\"AQI\"] > 100) & (aqi2020_df[\"AQI\"] <= 150), 'Category'] = \"Unhealthy for Sensitive Groups\"\n",
    "aqi2020_df.loc[(aqi2020_df[\"AQI\"] > 150) & (aqi2020_df[\"AQI\"] <= 200), 'Category'] = \"Unhealthy\"\n",
    "aqi2020_df.loc[(aqi2020_df[\"AQI\"] > 250) & (aqi2020_df[\"AQI\"] <= 300), 'Category'] = \"Very Unhealthy\"\n",
    "aqi2020_df.loc[aqi2020_df[\"AQI\"] > 300, 'Category'] = \"Hazardous\""
   ]
  },
  {
   "cell_type": "code",
   "execution_count": 65,
   "metadata": {},
   "outputs": [
    {
     "output_type": "execute_result",
     "data": {
      "text/plain": "       Date         CITY State       Lat        Lng  AQI  Category  \\\n0  1/1/2020  Albuquerque    NM  35.08449 -106.65114   54  Moderate   \n1  1/2/2020  Albuquerque    NM  35.08449 -106.65114   39      Good   \n2  1/3/2020  Albuquerque    NM  35.08449 -106.65114   38      Good   \n3  1/4/2020  Albuquerque    NM  35.08449 -106.65114   50      Good   \n4  1/5/2020  Albuquerque    NM  35.08449 -106.65114   63  Moderate   \n\n  Defining Parameter  Source  CO Ozone  SO2 PM10 PM25  NO2  \n0              PM2.5  AirNow  42    54  NaN  NaN  NaN  NaN  \n1              Ozone  AirNow  39    30  NaN  NaN  NaN  NaN  \n2              Ozone  AirNow  38    37  NaN  NaN  NaN  NaN  \n3              PM2.5  AirNow  36    50  NaN  NaN  NaN  NaN  \n4              PM2.5  AirNow  37    63  NaN  NaN  NaN  NaN  ",
      "text/html": "<div>\n<style scoped>\n    .dataframe tbody tr th:only-of-type {\n        vertical-align: middle;\n    }\n\n    .dataframe tbody tr th {\n        vertical-align: top;\n    }\n\n    .dataframe thead th {\n        text-align: right;\n    }\n</style>\n<table border=\"1\" class=\"dataframe\">\n  <thead>\n    <tr style=\"text-align: right;\">\n      <th></th>\n      <th>Date</th>\n      <th>CITY</th>\n      <th>State</th>\n      <th>Lat</th>\n      <th>Lng</th>\n      <th>AQI</th>\n      <th>Category</th>\n      <th>Defining Parameter</th>\n      <th>Source</th>\n      <th>CO</th>\n      <th>Ozone</th>\n      <th>SO2</th>\n      <th>PM10</th>\n      <th>PM25</th>\n      <th>NO2</th>\n    </tr>\n  </thead>\n  <tbody>\n    <tr>\n      <th>0</th>\n      <td>1/1/2020</td>\n      <td>Albuquerque</td>\n      <td>NM</td>\n      <td>35.08449</td>\n      <td>-106.65114</td>\n      <td>54</td>\n      <td>Moderate</td>\n      <td>PM2.5</td>\n      <td>AirNow</td>\n      <td>42</td>\n      <td>54</td>\n      <td>NaN</td>\n      <td>NaN</td>\n      <td>NaN</td>\n      <td>NaN</td>\n    </tr>\n    <tr>\n      <th>1</th>\n      <td>1/2/2020</td>\n      <td>Albuquerque</td>\n      <td>NM</td>\n      <td>35.08449</td>\n      <td>-106.65114</td>\n      <td>39</td>\n      <td>Good</td>\n      <td>Ozone</td>\n      <td>AirNow</td>\n      <td>39</td>\n      <td>30</td>\n      <td>NaN</td>\n      <td>NaN</td>\n      <td>NaN</td>\n      <td>NaN</td>\n    </tr>\n    <tr>\n      <th>2</th>\n      <td>1/3/2020</td>\n      <td>Albuquerque</td>\n      <td>NM</td>\n      <td>35.08449</td>\n      <td>-106.65114</td>\n      <td>38</td>\n      <td>Good</td>\n      <td>Ozone</td>\n      <td>AirNow</td>\n      <td>38</td>\n      <td>37</td>\n      <td>NaN</td>\n      <td>NaN</td>\n      <td>NaN</td>\n      <td>NaN</td>\n    </tr>\n    <tr>\n      <th>3</th>\n      <td>1/4/2020</td>\n      <td>Albuquerque</td>\n      <td>NM</td>\n      <td>35.08449</td>\n      <td>-106.65114</td>\n      <td>50</td>\n      <td>Good</td>\n      <td>PM2.5</td>\n      <td>AirNow</td>\n      <td>36</td>\n      <td>50</td>\n      <td>NaN</td>\n      <td>NaN</td>\n      <td>NaN</td>\n      <td>NaN</td>\n    </tr>\n    <tr>\n      <th>4</th>\n      <td>1/5/2020</td>\n      <td>Albuquerque</td>\n      <td>NM</td>\n      <td>35.08449</td>\n      <td>-106.65114</td>\n      <td>63</td>\n      <td>Moderate</td>\n      <td>PM2.5</td>\n      <td>AirNow</td>\n      <td>37</td>\n      <td>63</td>\n      <td>NaN</td>\n      <td>NaN</td>\n      <td>NaN</td>\n      <td>NaN</td>\n    </tr>\n  </tbody>\n</table>\n</div>"
     },
     "metadata": {},
     "execution_count": 65
    }
   ],
   "source": [
    "aqi2020_df.head()"
   ]
  },
  {
   "cell_type": "code",
   "execution_count": 66,
   "metadata": {},
   "outputs": [],
   "source": [
    "#Rename column for merging purposes\n",
    "aqi2020_df = aqi2020_df.rename(columns = {\"CITY\":\"City\"})\n"
   ]
  },
  {
   "cell_type": "code",
   "execution_count": 68,
   "metadata": {},
   "outputs": [],
   "source": [
    "#Reorder data with data we need\n",
    "aqi2020_df = aqi2020_df[[\"Date\",\"City\",\"State\",\"Lat\",\"Lng\",\"AQI\",\"Category\",\"Defining Parameter\"]]"
   ]
  },
  {
   "cell_type": "code",
   "execution_count": 70,
   "metadata": {},
   "outputs": [
    {
     "output_type": "execute_result",
     "data": {
      "text/plain": "              CBSA  CBSA Code        Date  AQI  Category Defining Parameter  \\\n0  Albuquerque, NM    10740.0  2019-01-01   42      Good               PM10   \n1  Albuquerque, NM    10740.0  2019-01-02   40      Good              PM2.5   \n2  Albuquerque, NM    10740.0  2019-01-03   55  Moderate              PM2.5   \n3  Albuquerque, NM    10740.0  2019-01-04   57  Moderate              PM2.5   \n4  Albuquerque, NM    10740.0  2019-01-05   66  Moderate              PM2.5   \n\n  Defining Site  Number of Sites Reporting         City State  \\\n0   35-001-0029                        8.0  Albuquerque    NM   \n1   35-001-1012                        8.0  Albuquerque    NM   \n2   35-001-0029                        8.0  Albuquerque    NM   \n3   35-001-0029                        8.0  Albuquerque    NM   \n4   35-001-0029                        8.0  Albuquerque    NM   \n\n                      Geo Country  Population       Lat        Lng  \n0  [35.08449, -106.65114]      US    559121.0  35.08449 -106.65114  \n1  [35.08449, -106.65114]      US    559121.0  35.08449 -106.65114  \n2  [35.08449, -106.65114]      US    559121.0  35.08449 -106.65114  \n3  [35.08449, -106.65114]      US    559121.0  35.08449 -106.65114  \n4  [35.08449, -106.65114]      US    559121.0  35.08449 -106.65114  ",
      "text/html": "<div>\n<style scoped>\n    .dataframe tbody tr th:only-of-type {\n        vertical-align: middle;\n    }\n\n    .dataframe tbody tr th {\n        vertical-align: top;\n    }\n\n    .dataframe thead th {\n        text-align: right;\n    }\n</style>\n<table border=\"1\" class=\"dataframe\">\n  <thead>\n    <tr style=\"text-align: right;\">\n      <th></th>\n      <th>CBSA</th>\n      <th>CBSA Code</th>\n      <th>Date</th>\n      <th>AQI</th>\n      <th>Category</th>\n      <th>Defining Parameter</th>\n      <th>Defining Site</th>\n      <th>Number of Sites Reporting</th>\n      <th>City</th>\n      <th>State</th>\n      <th>Geo</th>\n      <th>Country</th>\n      <th>Population</th>\n      <th>Lat</th>\n      <th>Lng</th>\n    </tr>\n  </thead>\n  <tbody>\n    <tr>\n      <th>0</th>\n      <td>Albuquerque, NM</td>\n      <td>10740.0</td>\n      <td>2019-01-01</td>\n      <td>42</td>\n      <td>Good</td>\n      <td>PM10</td>\n      <td>35-001-0029</td>\n      <td>8.0</td>\n      <td>Albuquerque</td>\n      <td>NM</td>\n      <td>[35.08449, -106.65114]</td>\n      <td>US</td>\n      <td>559121.0</td>\n      <td>35.08449</td>\n      <td>-106.65114</td>\n    </tr>\n    <tr>\n      <th>1</th>\n      <td>Albuquerque, NM</td>\n      <td>10740.0</td>\n      <td>2019-01-02</td>\n      <td>40</td>\n      <td>Good</td>\n      <td>PM2.5</td>\n      <td>35-001-1012</td>\n      <td>8.0</td>\n      <td>Albuquerque</td>\n      <td>NM</td>\n      <td>[35.08449, -106.65114]</td>\n      <td>US</td>\n      <td>559121.0</td>\n      <td>35.08449</td>\n      <td>-106.65114</td>\n    </tr>\n    <tr>\n      <th>2</th>\n      <td>Albuquerque, NM</td>\n      <td>10740.0</td>\n      <td>2019-01-03</td>\n      <td>55</td>\n      <td>Moderate</td>\n      <td>PM2.5</td>\n      <td>35-001-0029</td>\n      <td>8.0</td>\n      <td>Albuquerque</td>\n      <td>NM</td>\n      <td>[35.08449, -106.65114]</td>\n      <td>US</td>\n      <td>559121.0</td>\n      <td>35.08449</td>\n      <td>-106.65114</td>\n    </tr>\n    <tr>\n      <th>3</th>\n      <td>Albuquerque, NM</td>\n      <td>10740.0</td>\n      <td>2019-01-04</td>\n      <td>57</td>\n      <td>Moderate</td>\n      <td>PM2.5</td>\n      <td>35-001-0029</td>\n      <td>8.0</td>\n      <td>Albuquerque</td>\n      <td>NM</td>\n      <td>[35.08449, -106.65114]</td>\n      <td>US</td>\n      <td>559121.0</td>\n      <td>35.08449</td>\n      <td>-106.65114</td>\n    </tr>\n    <tr>\n      <th>4</th>\n      <td>Albuquerque, NM</td>\n      <td>10740.0</td>\n      <td>2019-01-05</td>\n      <td>66</td>\n      <td>Moderate</td>\n      <td>PM2.5</td>\n      <td>35-001-0029</td>\n      <td>8.0</td>\n      <td>Albuquerque</td>\n      <td>NM</td>\n      <td>[35.08449, -106.65114]</td>\n      <td>US</td>\n      <td>559121.0</td>\n      <td>35.08449</td>\n      <td>-106.65114</td>\n    </tr>\n  </tbody>\n</table>\n</div>"
     },
     "metadata": {},
     "execution_count": 70
    }
   ],
   "source": [
    "#Add 2020 data to the 2019 data\n",
    "data_df = new2019_df.append(aqi2020_df)\n",
    "data_df.head()"
   ]
  },
  {
   "cell_type": "code",
   "execution_count": 71,
   "metadata": {},
   "outputs": [
    {
     "output_type": "execute_result",
     "data": {
      "text/plain": "Phoenix             516\nSaint Paul          516\nSan Jose            515\nWashington, D.C.    515\nRaleigh             515\nJackson             515\nSalt Lake City      515\nAtlanta             515\nOmaha               515\nLos Angeles         515\nSacramento          515\nColumbia            515\nDenver              515\nBoise               515\nProvidence          515\nBoston              515\nSan Antonio         515\nCharlotte           515\nPortland            515\nTucson              515\nRichmond            515\nFresno              515\nSan Francisco       515\nNashville           515\nNew York City       515\nChicago             515\nDetroit             515\nSan Diego           515\nSeattle             515\nOklahoma City       515\nMemphis             515\nColumbus            515\nAlbuquerque         515\nIndianapolis        515\nJacksonville        515\nHartford            515\nPhiladelphia        515\nBaltimore           514\nLittle Rock         514\nDallas              513\nMiami               513\nAustin              513\nHouston             512\nEl Paso             512\nMadison             511\nTallahassee         511\nMilwaukee           511\nSpringfield         508\nSalem               506\nName: City, dtype: int64"
     },
     "metadata": {},
     "execution_count": 71
    }
   ],
   "source": [
    "data_df[\"City\"].value_counts()"
   ]
  },
  {
   "cell_type": "code",
   "execution_count": 73,
   "metadata": {},
   "outputs": [
    {
     "output_type": "execute_result",
     "data": {
      "text/plain": "            Date              City State       Lat        Lng  Population  \\\n0     2019-01-01       Albuquerque    NM  35.08449 -106.65114    559121.0   \n1     2019-01-02       Albuquerque    NM  35.08449 -106.65114    559121.0   \n2     2019-01-03       Albuquerque    NM  35.08449 -106.65114    559121.0   \n3     2019-01-04       Albuquerque    NM  35.08449 -106.65114    559121.0   \n4     2019-01-05       Albuquerque    NM  35.08449 -106.65114    559121.0   \n...          ...               ...   ...       ...        ...         ...   \n7321   5/25/2020  Washington, D.C.    DC  38.89511  -77.03637         NaN   \n7322   5/26/2020  Washington, D.C.    DC  38.89511  -77.03637         NaN   \n7323   5/27/2020  Washington, D.C.    DC  38.89511  -77.03637         NaN   \n7324   5/28/2020  Washington, D.C.    DC  38.89511  -77.03637         NaN   \n7325   5/29/2020  Washington, D.C.    DC  38.89511  -77.03637         NaN   \n\n      AQI  Category Defining_Parameter  \n0      42      Good               PM10  \n1      40      Good              PM2.5  \n2      55  Moderate              PM2.5  \n3      57  Moderate              PM2.5  \n4      66  Moderate              PM2.5  \n...   ...       ...                ...  \n7321   39      Good              Ozone  \n7322   45      Good              Ozone  \n7323   33      Good              Ozone  \n7324   27      Good              PM2.5  \n7325   45      Good              PM2.5  \n\n[25195 rows x 9 columns]",
      "text/html": "<div>\n<style scoped>\n    .dataframe tbody tr th:only-of-type {\n        vertical-align: middle;\n    }\n\n    .dataframe tbody tr th {\n        vertical-align: top;\n    }\n\n    .dataframe thead th {\n        text-align: right;\n    }\n</style>\n<table border=\"1\" class=\"dataframe\">\n  <thead>\n    <tr style=\"text-align: right;\">\n      <th></th>\n      <th>Date</th>\n      <th>City</th>\n      <th>State</th>\n      <th>Lat</th>\n      <th>Lng</th>\n      <th>Population</th>\n      <th>AQI</th>\n      <th>Category</th>\n      <th>Defining_Parameter</th>\n    </tr>\n  </thead>\n  <tbody>\n    <tr>\n      <th>0</th>\n      <td>2019-01-01</td>\n      <td>Albuquerque</td>\n      <td>NM</td>\n      <td>35.08449</td>\n      <td>-106.65114</td>\n      <td>559121.0</td>\n      <td>42</td>\n      <td>Good</td>\n      <td>PM10</td>\n    </tr>\n    <tr>\n      <th>1</th>\n      <td>2019-01-02</td>\n      <td>Albuquerque</td>\n      <td>NM</td>\n      <td>35.08449</td>\n      <td>-106.65114</td>\n      <td>559121.0</td>\n      <td>40</td>\n      <td>Good</td>\n      <td>PM2.5</td>\n    </tr>\n    <tr>\n      <th>2</th>\n      <td>2019-01-03</td>\n      <td>Albuquerque</td>\n      <td>NM</td>\n      <td>35.08449</td>\n      <td>-106.65114</td>\n      <td>559121.0</td>\n      <td>55</td>\n      <td>Moderate</td>\n      <td>PM2.5</td>\n    </tr>\n    <tr>\n      <th>3</th>\n      <td>2019-01-04</td>\n      <td>Albuquerque</td>\n      <td>NM</td>\n      <td>35.08449</td>\n      <td>-106.65114</td>\n      <td>559121.0</td>\n      <td>57</td>\n      <td>Moderate</td>\n      <td>PM2.5</td>\n    </tr>\n    <tr>\n      <th>4</th>\n      <td>2019-01-05</td>\n      <td>Albuquerque</td>\n      <td>NM</td>\n      <td>35.08449</td>\n      <td>-106.65114</td>\n      <td>559121.0</td>\n      <td>66</td>\n      <td>Moderate</td>\n      <td>PM2.5</td>\n    </tr>\n    <tr>\n      <th>...</th>\n      <td>...</td>\n      <td>...</td>\n      <td>...</td>\n      <td>...</td>\n      <td>...</td>\n      <td>...</td>\n      <td>...</td>\n      <td>...</td>\n      <td>...</td>\n    </tr>\n    <tr>\n      <th>7321</th>\n      <td>5/25/2020</td>\n      <td>Washington, D.C.</td>\n      <td>DC</td>\n      <td>38.89511</td>\n      <td>-77.03637</td>\n      <td>NaN</td>\n      <td>39</td>\n      <td>Good</td>\n      <td>Ozone</td>\n    </tr>\n    <tr>\n      <th>7322</th>\n      <td>5/26/2020</td>\n      <td>Washington, D.C.</td>\n      <td>DC</td>\n      <td>38.89511</td>\n      <td>-77.03637</td>\n      <td>NaN</td>\n      <td>45</td>\n      <td>Good</td>\n      <td>Ozone</td>\n    </tr>\n    <tr>\n      <th>7323</th>\n      <td>5/27/2020</td>\n      <td>Washington, D.C.</td>\n      <td>DC</td>\n      <td>38.89511</td>\n      <td>-77.03637</td>\n      <td>NaN</td>\n      <td>33</td>\n      <td>Good</td>\n      <td>Ozone</td>\n    </tr>\n    <tr>\n      <th>7324</th>\n      <td>5/28/2020</td>\n      <td>Washington, D.C.</td>\n      <td>DC</td>\n      <td>38.89511</td>\n      <td>-77.03637</td>\n      <td>NaN</td>\n      <td>27</td>\n      <td>Good</td>\n      <td>PM2.5</td>\n    </tr>\n    <tr>\n      <th>7325</th>\n      <td>5/29/2020</td>\n      <td>Washington, D.C.</td>\n      <td>DC</td>\n      <td>38.89511</td>\n      <td>-77.03637</td>\n      <td>NaN</td>\n      <td>45</td>\n      <td>Good</td>\n      <td>PM2.5</td>\n    </tr>\n  </tbody>\n</table>\n<p>25195 rows × 9 columns</p>\n</div>"
     },
     "metadata": {},
     "execution_count": 73
    }
   ],
   "source": [
    "#Clean up the dataframe and keep only the desired fields\n",
    "data_df = data_df[[\"Date\",\"City\",\"State\",\"Lat\",\"Lng\",\"Population\",\"AQI\",\"Category\",\"Defining Parameter\"]]\n",
    "data_df = data_df.rename(columns = {\"Defining Parameter\":\"Defining_Parameter\"})\n",
    "data_df"
   ]
  },
  {
   "cell_type": "code",
   "execution_count": 74,
   "metadata": {},
   "outputs": [],
   "source": [
    "data_df.to_csv(\"sample_data.csv\", index=False)"
   ]
  },
  {
   "cell_type": "code",
   "execution_count": 77,
   "metadata": {},
   "outputs": [
    {
     "output_type": "execute_result",
     "data": {
      "text/plain": "CA     2190\nTX     1825\nFL     1093\n CA     900\nTN      880\nNC      880\nOR      871\n TX     740\nAZ      730\nWI      730\nIL      725\nMN      516\nNE      515\nIN      515\nNY      515\nPA      515\nRI      515\nDC      515\nMA      515\n FL     446\nID      365\nOK      365\nUT      365\nCO      365\nMS      365\nAR      365\nOH      365\nMI      365\nSC      365\nMD      365\nWA      365\nVA      365\nCT      365\nNM      365\nGA      365\n AZ     301\n WI     292\n VA     150\n TN     150\n OK     150\n ID     150\n IN     150\n MS     150\n MI     150\n UT     150\n OH     150\n NC     150\n SC     150\n NM     150\n CO     150\n GA     150\n CT     150\n OR     150\n WA     150\n AR     149\n MD     149\n IL     148\nName: State, dtype: int64"
     },
     "metadata": {},
     "execution_count": 77
    }
   ],
   "source": [
    "#Get value counts of the cities to see where data discrepancies are\n",
    "data_df[\"State\"].value_counts()"
   ]
  },
  {
   "cell_type": "code",
   "execution_count": 79,
   "metadata": {},
   "outputs": [],
   "source": [
    "#Replaces any state data with a space in the row\n",
    "data_df = data_df.replace({\" CA\":\"CA\",\" TX\": \"TX\",\" FL\": \"FL\",\" AZ\": \"AZ\",\" WI\":\"WI\",\" VA\":\"VA\",\" TN\":\"TN\",\" OK\":\"OK\",\" ID\":\"ID\",\" IN\":\"IN\",\" MS\":\"MS\",\" MI\":\"MI\",\" UT\":\"UT\",\" OH\":\"OH\",\" NC\":\"NC\",\" SC\":\"SC\",\" NM\":\"NM\",\" CO\":\"CO\",\" GA\":\"GA\",\" CT\":\"CT\",\" OR\":\"OR\",\" WA\":\"WA\",\" AR\":\"AR\",\" MD\":\"MD\",\" IL\":\"IL\"})"
   ]
  },
  {
   "cell_type": "code",
   "execution_count": 80,
   "metadata": {},
   "outputs": [
    {
     "output_type": "execute_result",
     "data": {
      "text/plain": "CA    3090\nTX    2565\nFL    1539\nAZ    1031\nNC    1030\nTN    1030\nWI    1022\nOR    1021\nIL     873\nIN     665\nMN     516\nCO     515\nMS     515\nOH     515\nOK     515\nSC     515\nID     515\nNY     515\nNE     515\nVA     515\nUT     515\nGA     515\nCT     515\nWA     515\nRI     515\nDC     515\nNM     515\nMA     515\nMI     515\nPA     515\nMD     514\nAR     514\nName: State, dtype: int64"
     },
     "metadata": {},
     "execution_count": 80
    }
   ],
   "source": [
    "data_df[\"State\"].value_counts()"
   ]
  },
  {
   "cell_type": "code",
   "execution_count": 83,
   "metadata": {},
   "outputs": [
    {
     "output_type": "execute_result",
     "data": {
      "text/plain": "            Date              City State       Lat        Lng  Population  \\\n0     2019-01-01       Albuquerque    NM  35.08449 -106.65114    559121.0   \n1     2019-01-02       Albuquerque    NM  35.08449 -106.65114    559121.0   \n2     2019-01-03       Albuquerque    NM  35.08449 -106.65114    559121.0   \n3     2019-01-04       Albuquerque    NM  35.08449 -106.65114    559121.0   \n4     2019-01-05       Albuquerque    NM  35.08449 -106.65114    559121.0   \n...          ...               ...   ...       ...        ...         ...   \n7321   5/25/2020  Washington, D.C.    DC  38.89511  -77.03637    601723.0   \n7322   5/26/2020  Washington, D.C.    DC  38.89511  -77.03637    601723.0   \n7323   5/27/2020  Washington, D.C.    DC  38.89511  -77.03637    601723.0   \n7324   5/28/2020  Washington, D.C.    DC  38.89511  -77.03637    601723.0   \n7325   5/29/2020  Washington, D.C.    DC  38.89511  -77.03637    601723.0   \n\n      AQI  Category Defining_Parameter  \n0      42      Good               PM10  \n1      40      Good              PM2.5  \n2      55  Moderate              PM2.5  \n3      57  Moderate              PM2.5  \n4      66  Moderate              PM2.5  \n...   ...       ...                ...  \n7321   39      Good              Ozone  \n7322   45      Good              Ozone  \n7323   33      Good              Ozone  \n7324   27      Good              PM2.5  \n7325   45      Good              PM2.5  \n\n[25195 rows x 9 columns]",
      "text/html": "<div>\n<style scoped>\n    .dataframe tbody tr th:only-of-type {\n        vertical-align: middle;\n    }\n\n    .dataframe tbody tr th {\n        vertical-align: top;\n    }\n\n    .dataframe thead th {\n        text-align: right;\n    }\n</style>\n<table border=\"1\" class=\"dataframe\">\n  <thead>\n    <tr style=\"text-align: right;\">\n      <th></th>\n      <th>Date</th>\n      <th>City</th>\n      <th>State</th>\n      <th>Lat</th>\n      <th>Lng</th>\n      <th>Population</th>\n      <th>AQI</th>\n      <th>Category</th>\n      <th>Defining_Parameter</th>\n    </tr>\n  </thead>\n  <tbody>\n    <tr>\n      <th>0</th>\n      <td>2019-01-01</td>\n      <td>Albuquerque</td>\n      <td>NM</td>\n      <td>35.08449</td>\n      <td>-106.65114</td>\n      <td>559121.0</td>\n      <td>42</td>\n      <td>Good</td>\n      <td>PM10</td>\n    </tr>\n    <tr>\n      <th>1</th>\n      <td>2019-01-02</td>\n      <td>Albuquerque</td>\n      <td>NM</td>\n      <td>35.08449</td>\n      <td>-106.65114</td>\n      <td>559121.0</td>\n      <td>40</td>\n      <td>Good</td>\n      <td>PM2.5</td>\n    </tr>\n    <tr>\n      <th>2</th>\n      <td>2019-01-03</td>\n      <td>Albuquerque</td>\n      <td>NM</td>\n      <td>35.08449</td>\n      <td>-106.65114</td>\n      <td>559121.0</td>\n      <td>55</td>\n      <td>Moderate</td>\n      <td>PM2.5</td>\n    </tr>\n    <tr>\n      <th>3</th>\n      <td>2019-01-04</td>\n      <td>Albuquerque</td>\n      <td>NM</td>\n      <td>35.08449</td>\n      <td>-106.65114</td>\n      <td>559121.0</td>\n      <td>57</td>\n      <td>Moderate</td>\n      <td>PM2.5</td>\n    </tr>\n    <tr>\n      <th>4</th>\n      <td>2019-01-05</td>\n      <td>Albuquerque</td>\n      <td>NM</td>\n      <td>35.08449</td>\n      <td>-106.65114</td>\n      <td>559121.0</td>\n      <td>66</td>\n      <td>Moderate</td>\n      <td>PM2.5</td>\n    </tr>\n    <tr>\n      <th>...</th>\n      <td>...</td>\n      <td>...</td>\n      <td>...</td>\n      <td>...</td>\n      <td>...</td>\n      <td>...</td>\n      <td>...</td>\n      <td>...</td>\n      <td>...</td>\n    </tr>\n    <tr>\n      <th>7321</th>\n      <td>5/25/2020</td>\n      <td>Washington, D.C.</td>\n      <td>DC</td>\n      <td>38.89511</td>\n      <td>-77.03637</td>\n      <td>601723.0</td>\n      <td>39</td>\n      <td>Good</td>\n      <td>Ozone</td>\n    </tr>\n    <tr>\n      <th>7322</th>\n      <td>5/26/2020</td>\n      <td>Washington, D.C.</td>\n      <td>DC</td>\n      <td>38.89511</td>\n      <td>-77.03637</td>\n      <td>601723.0</td>\n      <td>45</td>\n      <td>Good</td>\n      <td>Ozone</td>\n    </tr>\n    <tr>\n      <th>7323</th>\n      <td>5/27/2020</td>\n      <td>Washington, D.C.</td>\n      <td>DC</td>\n      <td>38.89511</td>\n      <td>-77.03637</td>\n      <td>601723.0</td>\n      <td>33</td>\n      <td>Good</td>\n      <td>Ozone</td>\n    </tr>\n    <tr>\n      <th>7324</th>\n      <td>5/28/2020</td>\n      <td>Washington, D.C.</td>\n      <td>DC</td>\n      <td>38.89511</td>\n      <td>-77.03637</td>\n      <td>601723.0</td>\n      <td>27</td>\n      <td>Good</td>\n      <td>PM2.5</td>\n    </tr>\n    <tr>\n      <th>7325</th>\n      <td>5/29/2020</td>\n      <td>Washington, D.C.</td>\n      <td>DC</td>\n      <td>38.89511</td>\n      <td>-77.03637</td>\n      <td>601723.0</td>\n      <td>45</td>\n      <td>Good</td>\n      <td>PM2.5</td>\n    </tr>\n  </tbody>\n</table>\n<p>25195 rows × 9 columns</p>\n</div>"
     },
     "metadata": {},
     "execution_count": 83
    }
   ],
   "source": [
    "#Performs a forward fill to fill in empty population rows from 2020 with the 2019 values\n",
    "data_df = data_df.fillna(method=\"ffill\")\n",
    "data_df"
   ]
  },
  {
   "cell_type": "code",
   "execution_count": null,
   "metadata": {},
   "outputs": [],
   "source": []
  }
 ],
 "metadata": {
  "language_info": {
   "codemirror_mode": {
    "name": "ipython",
    "version": 3
   },
   "file_extension": ".py",
   "mimetype": "text/x-python",
   "name": "python",
   "nbconvert_exporter": "python",
   "pygments_lexer": "ipython3",
   "version": "3.7.4-final"
  },
  "orig_nbformat": 2,
  "kernelspec": {
   "name": "python37464bitpythondatacondaaf71fc3f5dd34866a438487bc0d8ac87",
   "display_name": "Python 3.7.4 64-bit ('PythonData': conda)"
  }
 },
 "nbformat": 4,
 "nbformat_minor": 2
}